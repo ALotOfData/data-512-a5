{
 "cells": [
  {
   "cell_type": "markdown",
   "metadata": {},
   "source": [
    "# Demographic labeling\n",
    "\n",
    "## Goal\n",
    "\n",
    "In this notebook, we will be associating our cleaned ads data with demographics. Associating a demographic that the IRA attempted to target with their ads is a very subjective process. Studies which inspired this analysis have not clearly communicated how they labeled their ads. From browsing the ads, it is very clear that most of the ads targeting is based on implicit biases and stereotypes about certain demographics. As a result, whenever a term is said to be related to a demographic, I have left a note indicating why and the add number refering to the pdf ad that was consulted to make the decision.\n",
    "\n",
    "Labelling is also difficult as:\n",
    "\n",
    "* There is overlap between possible target categories (You can be both LGBT and African-American)\n",
    "* Some ad campaign didn't seem to have clear targets\n",
    "\n",
    "## Summary of strategy\n",
    "\n",
    "My first attempt at labeling was to use a [well known document clustering approach](https://iksinc.online/2016/05/16/topic-modeling-and-document-clustering-whats-the-difference/) using tf-idf followed by k-means. tf-idf is used to calculated the frequency of terms in a document and compare with their frequency accross all documents. Terms that are seen more frequently are less important where terms seen less frequently are more important.\n",
    "\n",
    "K-Means is then used to identify clusters. To associate a cluster with a demographic, the different targeting interests will be listed by frequency of appearance in the ads of the cluster.\n",
    "\n",
    "This first approach was not successful because a lot of the ads target the same demographic. We can see this by looking at the frequency of terms in each clusters. Most clusters contain 'African-American' when we would really like for this to be in their own cluster. This is due to ads targeting 'African-American' to be numerous in addition of having an overlap between 'African-American' and other categories. The [\\[TEST\\]\\_k\\_means_demographic_labeling]([TEST]_k_means_demographic_labeling.ipynb) notebook file contains code for this approach.\n",
    "\n",
    "Inspired by the Oxford study which used a graph algorithms in order to identify communities within a graph, the second approach (and the one which will be shown in this notebook) was to a do a manual \"Breadth first search\" within the data. The criterions for belonging to a group are described below as well as the process used.\n",
    "\n",
    "### Criterion\n",
    "\n",
    "* Similar words are used\n",
    "* Similar social and or cutlural interests are shared\n",
    "\n",
    "As nothing forbids overlap between demographics such as \"Enjoy memes\", \"LGBT\" or \"Mexican-American\", whenever a it is unclear why a term was tied to a demographic, I have left a note indicating why and the add number refering to the pdf ad that was consulted to make the decision.\n",
    "\n",
    "### Process\n",
    "\n",
    "1. Create the list of interests as arrays of interest strings.\n",
    "2. List the top 25 most frequent interests.\n",
    "3. Attempt to create a demographic group with the top 25 interests.\n",
    "4. Label rows based on the demographic group\n",
    "5. Analyse whether terms related to those used to label the group should also be used as part of the interests labelling. If so add these to the labeling for the group and repeat 4-5, otherwise go to 6.\n",
    "6. Stop listing interests frequency once the number of ads in a group stablelizes. Go to 3 with data not including the group identified.\n",
    "\n",
    "We first import the packages required and load our \"clean_data\" dataframe which contains the fields detailed below.\n",
    "\n",
    "| Field name             | Type     | Description                         |\n",
    "|------------------------|----------|-------------------------------------|\n",
    "| ad_targeting_interests | string   | Interests used to target users      |\n",
    "| ad_impressions         | int      | Number of users who saw the ads     |\n",
    "| ad_clicks              | int      | Number of times the ads was clicked |\n",
    "| ad_spend               | float    | Money spent on the ad in RUB        |\n",
    "| ad_creation_date       | datetime | Creation date of the ad             |\n",
    "| ad_end_date            | datetime | Date at which the ad stopped        |"
   ]
  },
  {
   "cell_type": "code",
   "execution_count": 14,
   "metadata": {},
   "outputs": [
    {
     "data": {
      "text/html": [
       "<div>\n",
       "<style scoped>\n",
       "    .dataframe tbody tr th:only-of-type {\n",
       "        vertical-align: middle;\n",
       "    }\n",
       "\n",
       "    .dataframe tbody tr th {\n",
       "        vertical-align: top;\n",
       "    }\n",
       "\n",
       "    .dataframe thead th {\n",
       "        text-align: right;\n",
       "    }\n",
       "</style>\n",
       "<table border=\"1\" class=\"dataframe\">\n",
       "  <thead>\n",
       "    <tr style=\"text-align: right;\">\n",
       "      <th></th>\n",
       "      <th>file_name</th>\n",
       "      <th>ad_targeting_interests</th>\n",
       "      <th>ad_impressions</th>\n",
       "      <th>ad_clicks</th>\n",
       "      <th>ad_spend</th>\n",
       "      <th>ad_creation_date</th>\n",
       "      <th>ad_end_date</th>\n",
       "    </tr>\n",
       "  </thead>\n",
       "  <tbody>\n",
       "    <tr>\n",
       "      <th>0</th>\n",
       "      <td>P(1)0002823.txt</td>\n",
       "      <td>Pan-Africanism, African-American Civil Rights...</td>\n",
       "      <td>10496</td>\n",
       "      <td>1823</td>\n",
       "      <td>200.00</td>\n",
       "      <td>2017-04-21</td>\n",
       "      <td>2017-04-22</td>\n",
       "    </tr>\n",
       "    <tr>\n",
       "      <th>1</th>\n",
       "      <td>P(1)0002837.txt</td>\n",
       "      <td>Pan-Africanism, African-American Civil Rights...</td>\n",
       "      <td>16305</td>\n",
       "      <td>1337</td>\n",
       "      <td>499.49</td>\n",
       "      <td>2017-04-13</td>\n",
       "      <td>2017-04-14</td>\n",
       "    </tr>\n",
       "    <tr>\n",
       "      <th>2</th>\n",
       "      <td>P(1)0006304.txt</td>\n",
       "      <td>Martin Luther King, Jr., Stop Racism!!, Afric...</td>\n",
       "      <td>8210</td>\n",
       "      <td>1788</td>\n",
       "      <td>1570.03</td>\n",
       "      <td>2017-05-29</td>\n",
       "      <td>2017-05-29</td>\n",
       "    </tr>\n",
       "  </tbody>\n",
       "</table>\n",
       "</div>"
      ],
      "text/plain": [
       "         file_name                             ad_targeting_interests  \\\n",
       "0  P(1)0002823.txt   Pan-Africanism, African-American Civil Rights...   \n",
       "1  P(1)0002837.txt   Pan-Africanism, African-American Civil Rights...   \n",
       "2  P(1)0006304.txt   Martin Luther King, Jr., Stop Racism!!, Afric...   \n",
       "\n",
       "   ad_impressions  ad_clicks  ad_spend ad_creation_date ad_end_date  \n",
       "0           10496       1823    200.00       2017-04-21  2017-04-22  \n",
       "1           16305       1337    499.49       2017-04-13  2017-04-14  \n",
       "2            8210       1788   1570.03       2017-05-29  2017-05-29  "
      ]
     },
     "execution_count": 14,
     "metadata": {},
     "output_type": "execute_result"
    }
   ],
   "source": [
    "import pandas as pd\n",
    "import numpy as np\n",
    "import re\n",
    "\n",
    "ads_df = pd.read_csv('../clean_data/clean_data.csv', parse_dates=['ad_creation_date', 'ad_end_date'])\n",
    "ads_df.head(3)"
   ]
  },
  {
   "cell_type": "markdown",
   "metadata": {},
   "source": [
    "## Spliting the \"ad_targeting_interests\" string\n",
    "\n",
    "We need to do a bit more work before we can use the interests to identify demographics. First we need to split the long ad_targeting_interests into a string. The interests are separated by a comma and an 'or' statement between the last two elements like so:\n",
    "\n",
    "\"interest1, interest2, interest3 or interest4\"\n",
    "\n",
    "We use a regular expression to transform this string in an array of interests."
   ]
  },
  {
   "cell_type": "code",
   "execution_count": 15,
   "metadata": {},
   "outputs": [
    {
     "data": {
      "text/html": [
       "<div>\n",
       "<style scoped>\n",
       "    .dataframe tbody tr th:only-of-type {\n",
       "        vertical-align: middle;\n",
       "    }\n",
       "\n",
       "    .dataframe tbody tr th {\n",
       "        vertical-align: top;\n",
       "    }\n",
       "\n",
       "    .dataframe thead th {\n",
       "        text-align: right;\n",
       "    }\n",
       "</style>\n",
       "<table border=\"1\" class=\"dataframe\">\n",
       "  <thead>\n",
       "    <tr style=\"text-align: right;\">\n",
       "      <th></th>\n",
       "      <th>file_name</th>\n",
       "      <th>ad_targeting_interests</th>\n",
       "      <th>ad_impressions</th>\n",
       "      <th>ad_clicks</th>\n",
       "      <th>ad_spend</th>\n",
       "      <th>ad_creation_date</th>\n",
       "      <th>ad_end_date</th>\n",
       "      <th>ad_interests_array</th>\n",
       "      <th>demographic</th>\n",
       "    </tr>\n",
       "  </thead>\n",
       "  <tbody>\n",
       "    <tr>\n",
       "      <th>0</th>\n",
       "      <td>P(1)0002823.txt</td>\n",
       "      <td>Pan-Africanism, African-American Civil Rights...</td>\n",
       "      <td>10496</td>\n",
       "      <td>1823</td>\n",
       "      <td>200.00</td>\n",
       "      <td>2017-04-21</td>\n",
       "      <td>2017-04-22</td>\n",
       "      <td>[Pan-Africanism, African-American Civil Rights...</td>\n",
       "      <td>NaN</td>\n",
       "    </tr>\n",
       "    <tr>\n",
       "      <th>1</th>\n",
       "      <td>P(1)0002837.txt</td>\n",
       "      <td>Pan-Africanism, African-American Civil Rights...</td>\n",
       "      <td>16305</td>\n",
       "      <td>1337</td>\n",
       "      <td>499.49</td>\n",
       "      <td>2017-04-13</td>\n",
       "      <td>2017-04-14</td>\n",
       "      <td>[Pan-Africanism, African-American Civil Rights...</td>\n",
       "      <td>NaN</td>\n",
       "    </tr>\n",
       "    <tr>\n",
       "      <th>2</th>\n",
       "      <td>P(1)0006304.txt</td>\n",
       "      <td>Martin Luther King, Jr., Stop Racism!!, Afric...</td>\n",
       "      <td>8210</td>\n",
       "      <td>1788</td>\n",
       "      <td>1570.03</td>\n",
       "      <td>2017-05-29</td>\n",
       "      <td>2017-05-29</td>\n",
       "      <td>[Martin Luther King, Jr., Stop Racism!!, Afric...</td>\n",
       "      <td>NaN</td>\n",
       "    </tr>\n",
       "  </tbody>\n",
       "</table>\n",
       "</div>"
      ],
      "text/plain": [
       "         file_name                             ad_targeting_interests  \\\n",
       "0  P(1)0002823.txt   Pan-Africanism, African-American Civil Rights...   \n",
       "1  P(1)0002837.txt   Pan-Africanism, African-American Civil Rights...   \n",
       "2  P(1)0006304.txt   Martin Luther King, Jr., Stop Racism!!, Afric...   \n",
       "\n",
       "   ad_impressions  ad_clicks  ad_spend ad_creation_date ad_end_date  \\\n",
       "0           10496       1823    200.00       2017-04-21  2017-04-22   \n",
       "1           16305       1337    499.49       2017-04-13  2017-04-14   \n",
       "2            8210       1788   1570.03       2017-05-29  2017-05-29   \n",
       "\n",
       "                                  ad_interests_array  demographic  \n",
       "0  [Pan-Africanism, African-American Civil Rights...          NaN  \n",
       "1  [Pan-Africanism, African-American Civil Rights...          NaN  \n",
       "2  [Martin Luther King, Jr., Stop Racism!!, Afric...          NaN  "
      ]
     },
     "execution_count": 15,
     "metadata": {},
     "output_type": "execute_result"
    }
   ],
   "source": [
    "# We compile the regular expression to improve performance\n",
    "comma_separation = re.compile(r'(?u)(?:^|,)([^\\\",\\n]*)')\n",
    "\n",
    "# Returns an array of interests found in the ad_targeting_interests column\n",
    "def get_arr_of_interests(interest_string):\n",
    "    arr = []\n",
    "    \n",
    "    # Iterate through matches found by regular expression\n",
    "    for matches in re.finditer(comma_separation, interest_string):\n",
    "        \n",
    "        # Remove whitespace from both side of the string\n",
    "        match_value = matches.group(1).strip()\n",
    "        \n",
    "        # If \" or \" is present in the string split it.\n",
    "        if match_value and ' or ' in match_value:\n",
    "            arr.extend(match_value.split(' or '))\n",
    "        elif match_value:\n",
    "            arr.append(match_value)\n",
    "    \n",
    "    # Sometimes the string has one interest,\n",
    "    # we add the entire string as the interest.\n",
    "    if len(arr) == 0:\n",
    "        arr.push(interest_string)\n",
    "        \n",
    "    return arr\n",
    "\n",
    "# Obtain the interests array for each row using apply\n",
    "ads_df['ad_interests_array'] = ads_df.ad_targeting_interests.apply(get_arr_of_interests)\n",
    "\n",
    "# Add a column for demographic initialized as nan\n",
    "ads_df['demographic'] = np.nan\n",
    "\n",
    "# Show the first three entries\n",
    "ads_df.head(3)"
   ]
  },
  {
   "cell_type": "markdown",
   "metadata": {},
   "source": [
    "## Outputting most frequent words\n",
    "\n",
    "We create a function which we can use to output the most frequent words found in the ad_interests_arrays."
   ]
  },
  {
   "cell_type": "code",
   "execution_count": 16,
   "metadata": {},
   "outputs": [
    {
     "name": "stdout",
     "output_type": "stream",
     "text": [
      "African-American history 673\n",
      "Malcolm X 601\n",
      "Martin Luther King 590\n",
      "Jr. 508\n",
      "African-American Civil Rights Movement (1954-68) 455\n",
      "Black (Color) 398\n",
      "African-American culture 252\n",
      "Pan-Africanism 242\n",
      "La Raza 185\n",
      "Chicano rap 183\n",
      "Lowrider 175\n",
      "Black Consciousness Movement 148\n",
      "Black Matters 132\n",
      "Stop Police Brutality 129\n",
      "Black nationalism 118\n",
      "Police misconduct 113\n",
      "African-American Civil Rights Movement(1954-68) 107\n",
      "HuffPost Black Voices 101\n",
      "BlackNews.com 99\n",
      "BuzzFeed 98\n",
      "CollegeHumor 91\n",
      "Mexico 88\n",
      ". Hispanidad 88\n",
      "9GAG 86\n",
      "Latin hip hop 83\n"
     ]
    }
   ],
   "source": [
    "# We use a default dictionary which simplifies are code\n",
    "# by skipping check for entires not in our dictionary\n",
    "from collections import defaultdict\n",
    "\n",
    "# Given the ad_interests_arrays column (a pandas' series)\n",
    "# Output the top n most frequent words and their associated row count\n",
    "def print_top_words_from_arrays(series, n):\n",
    "    \n",
    "    # Create an empty interests dictionary\n",
    "    word_dict = defaultdict(int)\n",
    "    # For every array of interests\n",
    "    for arr in series:\n",
    "        # For every word\n",
    "        for val in arr:\n",
    "            # Increment count\n",
    "            word_dict[val] += 1\n",
    "    \n",
    "    # Sort dictionary by count descending\n",
    "    count = 0\n",
    "    for w in sorted(word_dict, key=word_dict.get, reverse=True):\n",
    "        print(w, word_dict[w])\n",
    "        \n",
    "        # output top n\n",
    "        count +=1\n",
    "        if count == n:\n",
    "            break;\n",
    "            \n",
    "# Output top 25 words\n",
    "print_top_words_from_arrays(ads_df.ad_interests_array, 25)"
   ]
  },
  {
   "cell_type": "markdown",
   "metadata": {},
   "source": [
    "## Create demographic, add similar words, rince, repeat\n",
    "\n",
    "This is the very repetitive part of the process where we follow the steps below:\n",
    "\n",
    "3. Attempt to create a demographic group with the top 25 interests.\n",
    "4. Label rows based on the demographic group\n",
    "5. Analyse whether terms related to those used to label the group should also be used as part of the interests labelling. If so add these to the labeling for the group and repeat 4-5, otherwise go to 6.\n",
    "6. Stop listing interests frequency once the number of ads in a group stablelizes. Go to 3 with data not including the group identified.\n",
    "\n",
    "Notes behind the choice to include or exclude words are included in the process below. "
   ]
  },
  {
   "cell_type": "code",
   "execution_count": 17,
   "metadata": {},
   "outputs": [],
   "source": [
    "# Labels a single row with a demographic given:\n",
    "# the row, the themes associated with the group, the name of the group\n",
    "def label_demographic(row, themes, group_name):\n",
    "    interests_array = row['ad_interests_array']\n",
    "    if pd.isnull(row['demographic']):\n",
    "        for theme in themes:\n",
    "            if theme in interests_array:\n",
    "                    row['demographic'] = group_name\n",
    "                    break\n",
    "    return row\n",
    "\n",
    "# Labels rows given the dataframe, themes and group name for the demographic\n",
    "# Outputs the total number of rows labeled with the demographic given the themes\n",
    "def label_demographic_rows(df, themes, group_name):\n",
    "    df = df.apply(label_demographic, args=(themes, group_name), axis=1)\n",
    "    print('This labelled %d rows!'% (df['demographic'] == group_name).sum())\n",
    "    return df"
   ]
  },
  {
   "cell_type": "markdown",
   "metadata": {},
   "source": [
    "## First demographic: African-American\n",
    "\n",
    "From this list of words above, many seem to target African-Americans lets make this a first grouping."
   ]
  },
  {
   "cell_type": "code",
   "execution_count": 18,
   "metadata": {},
   "outputs": [
    {
     "name": "stdout",
     "output_type": "stream",
     "text": [
      "This labelled 1139 rows!\n"
     ]
    }
   ],
   "source": [
    "african_american_themes = {\n",
    "    'African-American history',\n",
    "    'Malcolm X',\n",
    "    'Martin Luther King',\n",
    "    'African-American Civil Rights Movement (1954-68)',\n",
    "    'Black (Color)',\n",
    "    'African-American culture',\n",
    "    'Pan-Africanism',\n",
    "    'Black Consciousness Movement',\n",
    "    'Black Matters',\n",
    "    'Black nationalism',\n",
    "    'African-American Civil Rights Movement(1954-68)',\n",
    "    'HuffPost Black Voices',\n",
    "    'BlackNews.com'\n",
    "}\n",
    "\n",
    "ads_df = label_demographic_rows(ads_df, african_american_themes, 'African-American')"
   ]
  },
  {
   "cell_type": "markdown",
   "metadata": {},
   "source": [
    "We now look at the frequency of interests referenced by these rows. To do so, we create a function that prints the top 25 interests and their frequency for ads tagged with the demographic group."
   ]
  },
  {
   "cell_type": "code",
   "execution_count": 22,
   "metadata": {},
   "outputs": [],
   "source": [
    "# Given the dataframe, the themes for the demographic and its name\n",
    "# Output the top 25 interests related to these ads that are not yet part of the themes array.\n",
    "def print_top_references_for_theme(df, themes, group_name):\n",
    "    rows = df[df['demographic'] == group_name]\n",
    "    ad_interest_arrays = rows.ad_interests_array.apply(lambda x: list(set(x) - themes))\n",
    "    print_top_words_from_arrays(ad_interest_arrays, 25)"
   ]
  },
  {
   "cell_type": "code",
   "execution_count": 23,
   "metadata": {},
   "outputs": [
    {
     "name": "stdout",
     "output_type": "stream",
     "text": [
      "Jr. 508\n",
      "Stop Police Brutality 127\n",
      "Police misconduct 113\n",
      "Black history 74\n",
      "Martin Luther King Ill 73\n",
      "African-American Civil Rights Movement ( 1954-68) 63\n",
      "AfricanAmerican culture 60\n",
      "AfricanAmerican history 58\n",
      "Jr.; African-American Civil Rights Movement (1954-68) 55\n",
      "Black Power 43\n",
      "Black History Month 43\n",
      "Black Panther Party 41\n",
      "Martin Luther King III 40\n",
      "Black is beautiful 34\n",
      "Say To No Racism 31\n",
      "Angela Davis 31\n",
      "Stop Racism!! 27\n",
      "African American 27\n",
      "African-American Civil Rights Movement (1954--68) 26\n",
      "AfricanAmerican Civil Rights Movement(1954-68) 25\n",
      "Black Girls Rock! 25\n",
      "My Black is Beautiful 23\n",
      "Anti-discrimination 23\n",
      "African-American Civil Rights Movement (1954-68). African-American history 22\n",
      "Human rights 19\n"
     ]
    }
   ],
   "source": [
    "print_top_references_for_theme(ads_df, african_american_themes, 'African-American')"
   ]
  },
  {
   "cell_type": "code",
   "execution_count": 36,
   "metadata": {},
   "outputs": [
    {
     "name": "stdout",
     "output_type": "stream",
     "text": [
      "This labelled 1196 rows!\n"
     ]
    }
   ],
   "source": [
    "african_american_themes = african_american_themes | {\n",
    "    'Jr.',\n",
    "    'Stop Police Brutality',\n",
    "    'Police misconduct',\n",
    "    'Black history',\n",
    "    'Martin Luther King Ill',\n",
    "    'African-American Civil Rights Movement ( 1954-68)',\n",
    "    'AfricanAmerican culture',\n",
    "    'AfricanAmerican history',\n",
    "    'Jr.; African-American Civil Rights Movement (1954-68)',\n",
    "    'Black Power',\n",
    "    'Black History Month',\n",
    "    'Black Panther Party',\n",
    "    'Martin Luther King III',\n",
    "    'Black is beautiful',\n",
    "    'Say To No Racism',\n",
    "    'Angela Davis',\n",
    "    'Stop Racism!!',\n",
    "    'African American',\n",
    "    'African-American Civil Rights Movement (1954--68)',\n",
    "    'AfricanAmerican Civil Rights Movement(1954-68)',\n",
    "    'Black Girls Rock!',\n",
    "    'My Black is Beautiful',\n",
    "    'Anti-discrimination',\n",
    "    'African-American Civil Rights Movement (1954-68). African-American history',\n",
    "    'Human rights'\n",
    "}\n",
    "\n",
    "ads_df = label_demographic_rows(ads_df, african_american_themes, 'African-American')"
   ]
  },
  {
   "cell_type": "markdown",
   "metadata": {},
   "source": [
    "In this case, we might wonder why 'Stop Police Brutality' was accepted in the list of African-American themes. One way to test is to output the list of ads which have this interest and are not already labeled African-American."
   ]
  },
  {
   "cell_type": "code",
   "execution_count": 35,
   "metadata": {},
   "outputs": [
    {
     "data": {
      "text/html": [
       "<div>\n",
       "<style scoped>\n",
       "    .dataframe tbody tr th:only-of-type {\n",
       "        vertical-align: middle;\n",
       "    }\n",
       "\n",
       "    .dataframe tbody tr th {\n",
       "        vertical-align: top;\n",
       "    }\n",
       "\n",
       "    .dataframe thead th {\n",
       "        text-align: right;\n",
       "    }\n",
       "</style>\n",
       "<table border=\"1\" class=\"dataframe\">\n",
       "  <thead>\n",
       "    <tr style=\"text-align: right;\">\n",
       "      <th></th>\n",
       "      <th>file_name</th>\n",
       "      <th>ad_targeting_interests</th>\n",
       "      <th>ad_impressions</th>\n",
       "      <th>ad_clicks</th>\n",
       "      <th>ad_spend</th>\n",
       "      <th>ad_creation_date</th>\n",
       "      <th>ad_end_date</th>\n",
       "      <th>ad_interests_array</th>\n",
       "      <th>demographic</th>\n",
       "    </tr>\n",
       "  </thead>\n",
       "  <tbody>\n",
       "    <tr>\n",
       "      <th>23</th>\n",
       "      <td>P(1)0000588.txt</td>\n",
       "      <td>Say It Loud - I'm Black and I'm Proud or Stop...</td>\n",
       "      <td>1589</td>\n",
       "      <td>4</td>\n",
       "      <td>405.25</td>\n",
       "      <td>2016-01-15</td>\n",
       "      <td>NaT</td>\n",
       "      <td>[Say It Loud - I'm Black and I'm Proud, Stop P...</td>\n",
       "      <td>NaN</td>\n",
       "    </tr>\n",
       "    <tr>\n",
       "      <th>424</th>\n",
       "      <td>P(1)0003084.txt</td>\n",
       "      <td>Copwatch Rodney King; Police brutality in the ...</td>\n",
       "      <td>2195</td>\n",
       "      <td>91</td>\n",
       "      <td>2293.09</td>\n",
       "      <td>2016-05-11</td>\n",
       "      <td>2016-05-19</td>\n",
       "      <td>[Copwatch Rodney King; Police brutality in the...</td>\n",
       "      <td>NaN</td>\n",
       "    </tr>\n",
       "    <tr>\n",
       "      <th>1214</th>\n",
       "      <td>P(1)0000483.txt</td>\n",
       "      <td>Police brutality in the United States or Stop...</td>\n",
       "      <td>33183</td>\n",
       "      <td>1</td>\n",
       "      <td>5505.22</td>\n",
       "      <td>2016-05-05</td>\n",
       "      <td>NaT</td>\n",
       "      <td>[Police brutality in the United States, Stop P...</td>\n",
       "      <td>NaN</td>\n",
       "    </tr>\n",
       "  </tbody>\n",
       "</table>\n",
       "</div>"
      ],
      "text/plain": [
       "            file_name                             ad_targeting_interests  \\\n",
       "23    P(1)0000588.txt   Say It Loud - I'm Black and I'm Proud or Stop...   \n",
       "424   P(1)0003084.txt  Copwatch Rodney King; Police brutality in the ...   \n",
       "1214  P(1)0000483.txt   Police brutality in the United States or Stop...   \n",
       "\n",
       "      ad_impressions  ad_clicks  ad_spend ad_creation_date ad_end_date  \\\n",
       "23              1589          4    405.25       2016-01-15         NaT   \n",
       "424             2195         91   2293.09       2016-05-11  2016-05-19   \n",
       "1214           33183          1   5505.22       2016-05-05         NaT   \n",
       "\n",
       "                                     ad_interests_array demographic  \n",
       "23    [Say It Loud - I'm Black and I'm Proud, Stop P...         NaN  \n",
       "424   [Copwatch Rodney King; Police brutality in the...         NaN  \n",
       "1214  [Police brutality in the United States, Stop P...         NaN  "
      ]
     },
     "execution_count": 35,
     "metadata": {},
     "output_type": "execute_result"
    }
   ],
   "source": [
    "# Makes sure the interest string contains 'Stop Police Brutality' and that the row is not already tagged 'African-American'\n",
    "ads_df[ads_df['ad_targeting_interests'].str.contains('Stop Police Brutality') & pd.isnull(ads_df['demographic'])]"
   ]
  },
  {
   "cell_type": "markdown",
   "metadata": {},
   "source": [
    "From this output we see that the first row belongs in the group by the mention of \"I'm Black ...\" the second mentions [Rodney King](https://en.wikipedia.org/wiki/Rodney_King) an African-American activist against police brutality. The third row is more ambiguous, but after looking at file P(1)0000483.txt we find that another part of this entry references African-Americans.\n",
    "\n",
    "A similar exercise reveals similar results for \"Police misconduct\", \"Say To No Racisms\", \"Anti-discrimination\", \"Human rights\" etc..."
   ]
  },
  {
   "cell_type": "code",
   "execution_count": 37,
   "metadata": {},
   "outputs": [
    {
     "name": "stdout",
     "output_type": "stream",
     "text": [
      "Cop Block 23\n",
      "Social justice 19\n",
      "Gun Owners of America 18\n",
      "2nd Amendment 18\n",
      "Self Defense Family 18\n",
      "The Self Defense Company 18\n",
      "Martial arts 18\n",
      "Racism in the United States 14\n",
      "Martin Luther King; Jr. 14\n",
      "Concealed carry in the United States 14\n",
      "Huey P. Newton 14\n",
      "Justice 13\n",
      "Police brutality in the United States 12\n",
      "Gun Rights 12\n",
      "Police Brutality is a Crime 11\n",
      "Nelson Mandela 10\n",
      "Malcolm X Memorial Foundation 10\n",
      "Black Enterprise 9\n",
      "Jr.; African-American culture 9\n",
      "African National Congress 9\n",
      "HuffPost Politics 9\n",
      "Black Business Works 9\n",
      "Jr.; African-American Civil Rights Movement (1954-68). African-American history 8\n",
      "Violence prevention 8\n",
      "Pan Africanist Congress of Azania 8\n"
     ]
    }
   ],
   "source": [
    "print_top_references_for_theme(ads_df, african_american_themes, 'African-American')"
   ]
  },
  {
   "cell_type": "code",
   "execution_count": 39,
   "metadata": {},
   "outputs": [
    {
     "name": "stdout",
     "output_type": "stream",
     "text": [
      "This labelled 1245 rows!\n"
     ]
    }
   ],
   "source": [
    "african_american_themes = african_american_themes | {\n",
    "    'Cop Block',\n",
    "    'Social justice',\n",
    "    'Racism in the United States',\n",
    "    'Martin Luther King; Jr.',\n",
    "    'Huey P. Newton',\n",
    "    'Police brutality in the United States',\n",
    "    'Police Brutality is a Crime',\n",
    "    'Nelson Mandela',\n",
    "    'Malcolm X Memorial Foundation',\n",
    "    'Black Enterprise',\n",
    "    'Jr.; African-American culture',\n",
    "    'African National Congress',\n",
    "    'HuffPost Politics',\n",
    "    'Black Business Works',\n",
    "    'Jr.; African-American Civil Rights Movement (1954-68). African-American history',\n",
    "    'Pan Africanist Congress of Azania',\n",
    "    'Violence prevention'\n",
    "}\n",
    "\n",
    "ads_df = label_demographic_rows(ads_df, african_american_themes, 'African-American')"
   ]
  },
  {
   "cell_type": "code",
   "execution_count": 40,
   "metadata": {},
   "outputs": [
    {
     "name": "stdout",
     "output_type": "stream",
     "text": [
      "Gun Owners of America 18\n",
      "2nd Amendment 18\n",
      "Self Defense Family 18\n",
      "The Self Defense Company 18\n",
      "Martial arts 18\n",
      "Concealed carry in the United States 14\n",
      "St. Louis 13\n",
      "Justice 13\n",
      "Gun Rights 12\n",
      "Union of Huffington Post Writers and Bloggers 8\n",
      "Baptism 8\n",
      "Afrocentrism 7\n",
      "Humanitarianism 7\n",
      "Humanitarian aid 7\n",
      "Fight the Power 7\n",
      "2016 7\n",
      "United States presidential election 7\n",
      "Black Tea Patriots 7\n",
      "mother jones 7\n",
      "National Museum of American History 7\n",
      "Maya Angelou 7\n",
      "Mumia AbuJamal 7\n",
      "The Raw Story 7\n",
      "Gospel 7\n",
      "BLACK BUSINESS GLOBAL 7\n"
     ]
    }
   ],
   "source": [
    "print_top_references_for_theme(ads_df, african_american_themes, 'African-American')"
   ]
  },
  {
   "cell_type": "code",
   "execution_count": 41,
   "metadata": {},
   "outputs": [
    {
     "name": "stdout",
     "output_type": "stream",
     "text": [
      "This labelled 1276 rows!\n"
     ]
    }
   ],
   "source": [
    "african_american_themes = african_american_themes | {\n",
    "    'St. Louis',\n",
    "    'Union of Huffington Post Writers and Bloggers',\n",
    "    'Baptism',\n",
    "    'Afrocentrism',\n",
    "    'Fight the Power',\n",
    "    'United States presidential election',\n",
    "    'Black Tea Patriots',\n",
    "    'The Raw Story',\n",
    "    'mother jones',\n",
    "    'National Museum of American History',\n",
    "    'Maya Angelou',\n",
    "    'Mumia AbuJamal',\n",
    "    'Gospel',\n",
    "    'BLACK BUSINESS GLOBAL'\n",
    "}\n",
    "\n",
    "ads_df = label_demographic_rows(ads_df, african_american_themes, 'African-American')"
   ]
  },
  {
   "cell_type": "code",
   "execution_count": 42,
   "metadata": {},
   "outputs": [
    {
     "name": "stdout",
     "output_type": "stream",
     "text": [
      "Mumia Abu-Jamal 29\n",
      "Gun Owners of America 18\n",
      "2nd Amendment 18\n",
      "Self Defense Family 18\n",
      "The Self Defense Company 18\n",
      "Martial arts 18\n",
      "Concealed carry in the United States 14\n",
      "Justice 13\n",
      "Gun Rights 12\n",
      "2016 9\n",
      "Humanitarianism 7\n",
      "Humanitarian aid 7\n",
      "Black Business Builders Club 7\n",
      "Kemetism 6\n",
      "Medgar Evers 6\n",
      "I Have a Dream 6\n",
      "Mahatma Gandhi 6\n",
      "African-American history. Malcolm X 6\n",
      "Visual perception 6\n",
      "Freckle 6\n",
      "Baltimore 6\n",
      "Color 6\n",
      "Civil and political rights 6\n",
      "AfricanAmerican culture. African-American Civil Rights Movement (1954-68) 5\n",
      "Guns & Ammo 5\n"
     ]
    }
   ],
   "source": [
    "print_top_references_for_theme(ads_df, african_american_themes, 'African-American')"
   ]
  },
  {
   "cell_type": "code",
   "execution_count": 43,
   "metadata": {},
   "outputs": [
    {
     "name": "stdout",
     "output_type": "stream",
     "text": [
      "This labelled 1277 rows!\n"
     ]
    }
   ],
   "source": [
    "african_american_themes = african_american_themes | {\n",
    "    'Mumia Abu-Jamal',\n",
    "    'Black Business Builders Club',\n",
    "    'Medgar Evers',\n",
    "    'I Have a Dream',\n",
    "    'African-American history. Malcolm X',\n",
    "    'Baltimore',\n",
    "    'Civil and political rights',\n",
    "    'AfricanAmerican culture. African-American Civil Rights Movement (1954-68)',\n",
    "}\n",
    "\n",
    "ads_df = label_demographic_rows(ads_df, african_american_themes, 'African-American')"
   ]
  },
  {
   "cell_type": "markdown",
   "metadata": {},
   "source": [
    "At this point the number of labeled rows changes very little, we now identify the next demographic by only examining rows not previously labeled. A new heading is added to the next demographic:\n",
    "\n",
    "## Second demographic: Mexican-American"
   ]
  },
  {
   "cell_type": "code",
   "execution_count": 45,
   "metadata": {},
   "outputs": [
    {
     "name": "stdout",
     "output_type": "stream",
     "text": [
      "La Raza 185\n",
      "Chicano rap 183\n",
      "Lowrider 175\n",
      "BuzzFeed 98\n",
      "CollegeHumor 91\n",
      "Mexico 88\n",
      ". Hispanidad 88\n",
      "9GAG 86\n",
      "Latin hip hop 83\n",
      "Hispanidad 79\n",
      "Mexico. Latin hip hop. Chicano Movement 79\n",
      "Mexican Pride 73\n",
      "Chicano Movement 73\n",
      "Hispanic and latino american culture 70\n",
      "Hispanic culture 70\n",
      "Mexican american culture 68\n",
      "Latino culture 66\n",
      "LGBT United 64\n",
      "Patriotism 56\n",
      "Being Patriotic 55\n",
      "Independence 53\n",
      "Don't Shoot 47\n",
      "Chicano 46\n",
      "LGBT community 31\n",
      "Donald Trump for President 24\n"
     ]
    }
   ],
   "source": [
    "print_top_words_from_arrays(ads_df.ad_interests_array[pd.isnull(ads_df['demographic'])], 25)"
   ]
  },
  {
   "cell_type": "markdown",
   "metadata": {},
   "source": [
    "Many of the terms are part of Mexican-American identity politics notably:\n",
    "\n",
    "* [La Raza](https://en.wikipedia.org/wiki/La_Raza)\n",
    "* [Chicano / Chicana](https://en.wikipedia.org/wiki/Chicano)\n",
    "* [Lowrider](https://en.wikipedia.org/wiki/Lowrider)\n",
    "* [Hispanidad](https://en.wikipedia.org/wiki/Hispanidad)\n",
    "\n",
    "This will be the second manually-labelled group."
   ]
  },
  {
   "cell_type": "code",
   "execution_count": 46,
   "metadata": {},
   "outputs": [
    {
     "name": "stdout",
     "output_type": "stream",
     "text": [
      "This labelled 189 rows!\n"
     ]
    }
   ],
   "source": [
    "mexican_american_themes = {\n",
    "    'La Raza',\n",
    "    'Chicano rap',\n",
    "    'Lowrider',\n",
    "    'Mexico',\n",
    "    '. Hispanidad',\n",
    "    'Latin hip hop',\n",
    "    'Hispanidad',\n",
    "    'Maxico. Latin hip hop. Chicano Movement',\n",
    "    'Mexican Pride',\n",
    "    'Chicano Movement',\n",
    "    'Hispanic and latino american culture',\n",
    "    'Hispanic culture'\n",
    "    'Mexican american culture',\n",
    "    'Latino culture',\n",
    "    'Chicano'\n",
    "}\n",
    "\n",
    "ads_df = label_demographic_rows(ads_df, mexican_american_themes, 'Mexican-American')"
   ]
  },
  {
   "cell_type": "code",
   "execution_count": 47,
   "metadata": {},
   "outputs": [
    {
     "name": "stdout",
     "output_type": "stream",
     "text": [
      "Mexico. Latin hip hop. Chicano Movement 79\n",
      "Hispanic culture 70\n",
      "Mexican american culture 68\n",
      "Being Chicano 24\n",
      "Chicano. Chicano Movement 23\n",
      "Chicano Movement. Hispanidad 9\n",
      "Mexico. Latin hip hop 9\n",
      "Culture of Mexico 8\n",
      "Latin hip hop. Chicano 4\n",
      "Being Chicano. Mexican american culture 4\n",
      "Being Mexican 4\n",
      "Mexican American Pride 3\n",
      "So Mexican 3\n",
      "Lowrider; Chicano rap 2\n",
      "Chicano Movement. Being Latino 2\n",
      "Hispanic american culture 2\n",
      "Latin hip hop. Chicano Movement 1\n",
      "Mexican american culture; Hispanic american culture 1\n",
      "Mexico; Latin hip hop. Chicano Movement. Hispanidad 1\n",
      "Hispanic american culture. Chicano Movement 1\n",
      "Being Latino 1\n"
     ]
    }
   ],
   "source": [
    "print_top_references_for_theme(ads_df, mexican_american_themes, 'Mexican-American')"
   ]
  },
  {
   "cell_type": "code",
   "execution_count": 48,
   "metadata": {},
   "outputs": [
    {
     "name": "stdout",
     "output_type": "stream",
     "text": [
      "This labelled 189 rows!\n"
     ]
    }
   ],
   "source": [
    "mexican_american_themes = mexican_american_themes | {\n",
    "    'Mexico. Latin hip hop. Chicano Movement',\n",
    "    'Hispanic culture',\n",
    "    'Mexican american culture',\n",
    "    'Being Chicano',\n",
    "    'Chicano. Chicano Movement',\n",
    "    'Chicano Movement. Hispanidad',\n",
    "    'Mexico. Latin hip hop',\n",
    "    'Culture of Mexico',\n",
    "    'Being Chicano. Mexican american culture',\n",
    "    'Latin hip hop. Chicano',\n",
    "    'Being Mexican',\n",
    "    'Mexican American Pride',\n",
    "    'So Mexican',\n",
    "    'Lowrider; Chicano rap',\n",
    "    'Chicano Movement. Being Latino',\n",
    "    'Hispanic american culture',\n",
    "    'Latin hip hop. Chicano Movement',\n",
    "    'Mexican american culture; Hispanic american culture',\n",
    "    'Mexico; Latin hip hop. Chicano Movement. Hispanidad',\n",
    "    'Hispanic american culture. Chicano Movement',\n",
    "    'Being Latino'\n",
    "}\n",
    "\n",
    "ads_df = label_demographic_rows(ads_df, mexican_american_themes, 'Mexican-American')"
   ]
  },
  {
   "cell_type": "markdown",
   "metadata": {},
   "source": [
    "At this point the number of labeled rows no longer changes, we now identify the next demographic by only examining rows not previously labeled.\n",
    "\n",
    "## Third demographic: Memes"
   ]
  },
  {
   "cell_type": "code",
   "execution_count": 49,
   "metadata": {},
   "outputs": [
    {
     "name": "stdout",
     "output_type": "stream",
     "text": [
      "BuzzFeed 98\n",
      "CollegeHumor 91\n",
      "9GAG 86\n",
      "LGBT United 64\n",
      "Patriotism 56\n",
      "Being Patriotic 55\n",
      "Independence 53\n",
      "Don't Shoot 47\n",
      "LGBT community 31\n",
      "Donald Trump for President 24\n",
      "Gun Owners of America 21\n",
      "Donald Trump 21\n",
      "iFunny 21\n",
      "Imgur 20\n",
      "Homosexuality 19\n",
      "Politics 19\n",
      "Funny Pics 19\n",
      "Muslim Brotherhood 18\n",
      "Funny Photo's 18\n",
      "Funny Pictures 18\n",
      "LOL 18\n",
      "Native American Indian Wisdom 18\n",
      "Cherokee language 18\n",
      "Cherokee Nation 18\n",
      "Republican Party (United States) 17\n"
     ]
    }
   ],
   "source": [
    "print_top_words_from_arrays(ads_df.ad_interests_array[pd.isnull(ads_df['demographic'])], 25)"
   ]
  },
  {
   "cell_type": "markdown",
   "metadata": {},
   "source": [
    "The most popular three terms describe their own category, people whom enjoy memes."
   ]
  },
  {
   "cell_type": "code",
   "execution_count": 51,
   "metadata": {},
   "outputs": [
    {
     "name": "stdout",
     "output_type": "stream",
     "text": [
      "This labelled 132 rows!\n"
     ]
    }
   ],
   "source": [
    "memes_themes = {\n",
    "    'BuzzFeed',\n",
    "    'CollegeHumor',\n",
    "    '9GAG',\n",
    "    'iFunny',\n",
    "    'Imgur',\n",
    "    'Funny Pics',\n",
    "    'Funny Photo\\'s',\n",
    "    'Funny Pictures',\n",
    "    'LOL'\n",
    "}\n",
    "ads_df = label_demographic_rows(ads_df, memes_themes, 'Memes')"
   ]
  },
  {
   "cell_type": "code",
   "execution_count": 52,
   "metadata": {},
   "outputs": [
    {
     "name": "stdout",
     "output_type": "stream",
     "text": [
      "Meme 9\n",
      "Internet meme 9\n",
      "Reddit 8\n",
      "Fail Blog 8\n",
      "NBA Memes 7\n",
      "Meme Center 7\n",
      "lmgur 3\n",
      "Entertainment 3\n",
      "Hobbies and activities 3\n",
      "Humour 2\n",
      "Reddit; BuzzFeed 1\n",
      "Meme Center; NBA Memes 1\n",
      "Imgur; CollegeHumor 1\n",
      "Government 1\n",
      "Politics and social issues 1\n"
     ]
    }
   ],
   "source": [
    "print_top_references_for_theme(ads_df, memes_themes, 'Memes')"
   ]
  },
  {
   "cell_type": "code",
   "execution_count": 53,
   "metadata": {},
   "outputs": [
    {
     "name": "stdout",
     "output_type": "stream",
     "text": [
      "This labelled 137 rows!\n"
     ]
    }
   ],
   "source": [
    "memes_themes = memes_themes | {\n",
    "    'Meme',\n",
    "    'Internet meme',\n",
    "    'Reddit',\n",
    "    'Fail Blog',\n",
    "    'NBA Memes',\n",
    "    'Meme Center',\n",
    "    'lmgur',\n",
    "    'Humour',\n",
    "    'Reddit; BuzzFeed',\n",
    "    'Meme Center; NBA Memes',\n",
    "    'Imgur; CollegeHumor'\n",
    "}\n",
    "ads_df = label_demographic_rows(ads_df, memes_themes, 'Memes')"
   ]
  },
  {
   "cell_type": "markdown",
   "metadata": {},
   "source": [
    "At this point, very few new rows has been labeled. We find the next category.\n",
    "\n",
    "## Fourth demographic: LGBT"
   ]
  },
  {
   "cell_type": "code",
   "execution_count": 54,
   "metadata": {},
   "outputs": [
    {
     "name": "stdout",
     "output_type": "stream",
     "text": [
      "LGBT United 64\n",
      "Patriotism 56\n",
      "Being Patriotic 55\n",
      "Independence 53\n",
      "Don't Shoot 47\n",
      "LGBT community 31\n",
      "Donald Trump for President 24\n",
      "Gun Owners of America 21\n",
      "Donald Trump 21\n",
      "Homosexuality 19\n",
      "Politics 19\n",
      "Muslim Brotherhood 18\n",
      "Native American Indian Wisdom 18\n",
      "Cherokee language 18\n",
      "Cherokee Nation 18\n",
      "Republican Party (United States) 17\n",
      "Mixed martial arts 17\n",
      "Martial arts 17\n",
      "The Women's Self Defense Institute 17\n",
      "PERSONAL & HOME DEFENSE 17\n",
      "Self-defense 17\n",
      "Selfdefense (United States) 17\n",
      "Personal Defense 17\n",
      "Right of self-defense 17\n",
      "Self Defense Family 17\n"
     ]
    }
   ],
   "source": [
    "print_top_words_from_arrays(ads_df.ad_interests_array[pd.isnull(ads_df['demographic'])], 25)"
   ]
  },
  {
   "cell_type": "code",
   "execution_count": 55,
   "metadata": {},
   "outputs": [
    {
     "name": "stdout",
     "output_type": "stream",
     "text": [
      "This labelled 96 rows!\n"
     ]
    }
   ],
   "source": [
    "lgbt_themes = {\n",
    "    'LGBT United',\n",
    "    'LGBT community',\n",
    "    'Homosexuality'\n",
    "}\n",
    "ads_df = label_demographic_rows(ads_df, lgbt_themes, 'LGBT')"
   ]
  },
  {
   "cell_type": "code",
   "execution_count": 58,
   "metadata": {},
   "outputs": [
    {
     "name": "stdout",
     "output_type": "stream",
     "text": [
      "Fitness and wellness 4\n",
      "Indiana 4\n",
      "Motherhood 4\n",
      "territory 4\n",
      "Society 3\n",
      "Philosophy 3\n",
      "Photography 2\n",
      "Family 2\n",
      "News broadcasting 1\n",
      "Political party 1\n",
      "Breaking news 1\n",
      "Hillary Clinton 1\n",
      "Bernie Sanders 1\n",
      "Same-sex marriage in the United States 1\n",
      "Rainbow flag (LGBT movement) 1\n",
      "LGBT Equality 1\n",
      "Transgenderism 1\n",
      "Puppy 1\n",
      "Dogs 1\n",
      "LGBT history 1\n",
      "Liberalism 1\n",
      "Libertarianism 1\n"
     ]
    }
   ],
   "source": [
    "print_top_references_for_theme(ads_df, lgbt_themes, 'LGBT')"
   ]
  },
  {
   "cell_type": "code",
   "execution_count": 59,
   "metadata": {},
   "outputs": [
    {
     "name": "stdout",
     "output_type": "stream",
     "text": [
      "This labelled 97 rows!\n"
     ]
    }
   ],
   "source": [
    "lgbt_themes = lgbt_themes  | {\n",
    "    'Same-sex marriage',\n",
    "    'LGBT culture',\n",
    "    'Gay pride',\n",
    "    'Love',\n",
    "    'LGBT rights by country',\n",
    "    'Lesbian community',\n",
    "    'LGBT social movements',\n",
    "    'Politics and social issues',\n",
    "    'Yoga',\n",
    "    'Gay Rights',\n",
    "    'Human Sexuality',\n",
    "    'Bisexuality'\n",
    "}\n",
    "ads_df = label_demographic_rows(ads_df, lgbt_themes, 'LGBT')"
   ]
  },
  {
   "cell_type": "markdown",
   "metadata": {},
   "source": [
    "At this point, very few new row have been labeled. We find the next category.\n",
    "\n",
    "## Fifth demographic: Right wing"
   ]
  },
  {
   "cell_type": "code",
   "execution_count": 61,
   "metadata": {},
   "outputs": [
    {
     "name": "stdout",
     "output_type": "stream",
     "text": [
      "Patriotism 56\n",
      "Being Patriotic 55\n",
      "Independence 53\n",
      "Don't Shoot 47\n",
      "Donald Trump for President 24\n",
      "Gun Owners of America 21\n",
      "Donald Trump 21\n",
      "Politics 19\n",
      "Muslim Brotherhood 18\n",
      "Native American Indian Wisdom 18\n",
      "Cherokee language 18\n",
      "Cherokee Nation 18\n",
      "Republican Party (United States) 17\n",
      "Mixed martial arts 17\n",
      "Martial arts 17\n"
     ]
    }
   ],
   "source": [
    "print_top_words_from_arrays(ads_df.ad_interests_array[pd.isnull(ads_df['demographic'])], 15)"
   ]
  },
  {
   "cell_type": "code",
   "execution_count": 62,
   "metadata": {},
   "outputs": [
    {
     "name": "stdout",
     "output_type": "stream",
     "text": [
      "This labelled 170 rows!\n"
     ]
    }
   ],
   "source": [
    "right_wing_themes = {\n",
    "    'Patriotism',\n",
    "    'Being Patriotic',\n",
    "    'Independence',\n",
    "    'Donald Trump for President',\n",
    "    'Gun Owners of America',\n",
    "    'Donald Trump',\n",
    "    'Republican Party (United States)'\n",
    "}\n",
    "ads_df = label_demographic_rows(ads_df, right_wing_themes, 'Right wing')"
   ]
  },
  {
   "cell_type": "code",
   "execution_count": 63,
   "metadata": {},
   "outputs": [
    {
     "name": "stdout",
     "output_type": "stream",
     "text": [
      "Donald Trump Jr. 13\n",
      "Concealed carry in the United States 9\n",
      "National Rifle Association 7\n",
      "The Tea Party 7\n",
      "Gun Rights 7\n",
      "Syria 7\n",
      "Politics 7\n",
      "Right to keep and bear arms 6\n",
      "National Association for Gun Rights 6\n",
      "Conservatism 6\n",
      "The Second Amendment 6\n",
      "2nd Amendment 5\n",
      "Guns & Ammo 4\n",
      "Young Republicans 3\n",
      "Second Amendment to the United States Constitution 3\n",
      "Dixie 3\n",
      "Confederate States of America 3\n",
      "conservative daily 2\n",
      "dead hands 2\n",
      "From my cold 2\n",
      "lvanka Trump Fine Jewelry 2\n",
      "donald j trump 2\n",
      "Second Amendment Sisters 2\n",
      "Gun Rights Across America 2\n",
      "Veterans Day 2\n"
     ]
    }
   ],
   "source": [
    "print_top_references_for_theme(ads_df, right_wing_themes, 'Right wing')"
   ]
  },
  {
   "cell_type": "code",
   "execution_count": 64,
   "metadata": {},
   "outputs": [
    {
     "name": "stdout",
     "output_type": "stream",
     "text": [
      "This labelled 200 rows!\n"
     ]
    }
   ],
   "source": [
    "right_wing_themes = right_wing_themes | {\n",
    "    'Donald Trump Jr.',\n",
    "    'Concealed carry in the United States',\n",
    "    'National Rifle Association',\n",
    "    'The Tea Party',\n",
    "    'Gun Rights',\n",
    "    'Right to keep and bear arms',\n",
    "    'National Association for Gun Rights',\n",
    "    'Conservatism',\n",
    "    'The Second Amendment',\n",
    "    '2nd Amendment',\n",
    "    'Guns & Ammo',\n",
    "    'Young Republicans',\n",
    "    'Second Amendment to the United States Constitution',\n",
    "    'Confederate States of America',\n",
    "    'Dixie',\n",
    "    'conservative daily',\n",
    "    'dead hands',\n",
    "    'From my cold',\n",
    "    'lvanka Trump Fine Jewelry',\n",
    "    'donald j trump',\n",
    "    'Gun Rights Across America',\n",
    "    'Second Amendment Sisters',\n",
    "    'Veterans Day'\n",
    "}\n",
    "ads_df = label_demographic_rows(ads_df, right_wing_themes, 'Right wing')"
   ]
  },
  {
   "cell_type": "code",
   "execution_count": 65,
   "metadata": {},
   "outputs": [
    {
     "name": "stdout",
     "output_type": "stream",
     "text": [
      "Flags of the Confederate States of America 7\n",
      "Syria 7\n",
      "Politics 7\n",
      "Guns & Patriots 4\n",
      "Immigration 4\n",
      "Hart of Dixie 4\n",
      "Tea Party Patriots 4\n",
      "Anything About Guns 3\n",
      "Guns.com 3\n",
      "American Guns 3\n",
      "Second Amendment Supporters 3\n",
      "Proud to be an American 3\n",
      "Redneck Nation 3\n",
      "Mud & Trucks 3\n",
      "100 Percent FED Up 3\n",
      "Chicks On The Right 3\n",
      "Conservative Tribune 3\n",
      "Sons of Confederate Veterans 2\n",
      "Southern United States 2\n",
      "Support Our Veterans 2\n",
      "Students for Concealed Carry 2\n",
      "Protect the Second Amendment 2\n",
      "AR-15 2\n",
      "ForAmerica 2\n",
      "United Daughters of the Confederacy 1\n"
     ]
    }
   ],
   "source": [
    "print_top_references_for_theme(ads_df, right_wing_themes, 'Right wing')"
   ]
  },
  {
   "cell_type": "code",
   "execution_count": 66,
   "metadata": {},
   "outputs": [
    {
     "name": "stdout",
     "output_type": "stream",
     "text": [
      "This labelled 225 rows!\n"
     ]
    }
   ],
   "source": [
    "right_wing_themes = right_wing_themes | {\n",
    "    'Flags of the Confederate States of America',\n",
    "    'Guns & Patriots',\n",
    "    'Immigration',\n",
    "    'Hart of Dixie',\n",
    "    'Tea Party Patriots',\n",
    "    'Anything About Guns',\n",
    "    'American Guns',\n",
    "    'Guns.com',\n",
    "    'Second Amendment Supporters',\n",
    "    'Proud to be an American',\n",
    "    'Redneck Nation',\n",
    "    'Mud & Trucks',\n",
    "    'Conservative Tribune',\n",
    "    '100 Percent FED Up',\n",
    "    'Chicks On The Right',\n",
    "    'Sons of Confederate Veterans',\n",
    "    'Southern United States',\n",
    "    'Support Our Veterans',\n",
    "    'Students for Concealed Carry',\n",
    "    'Protect the Second Amendment',\n",
    "    'AR-15',\n",
    "    'ForAmerica',\n",
    "    'Confederate Flag',\n",
    "}\n",
    "ads_df = label_demographic_rows(ads_df, right_wing_themes, 'Right wing')"
   ]
  },
  {
   "cell_type": "code",
   "execution_count": 67,
   "metadata": {},
   "outputs": [
    {
     "name": "stdout",
     "output_type": "stream",
     "text": [
      "Politics 16\n",
      "Syria 7\n",
      "Confederate States Army 4\n",
      "Support our troops 4\n",
      "Supporting Our Veterans 3\n",
      "Southern Pride 3\n",
      "The Invaders 3\n",
      "Vietnam Veterans of America 3\n",
      "Veterans For America 3\n",
      "Iraq and Afghanistan Veterans of America 3\n",
      "Vietnam Veterans of America Foundation 3\n",
      "American Patriot 2\n",
      "American Patriots 2\n",
      "Flag of the United States 2\n",
      "American patriotism 2\n",
      "Illegal immigration 2\n",
      "Human migration 2\n",
      "Disabled American Veterans 2\n",
      "US Military Veterans 2\n",
      "Concerned Veterans for America 2\n",
      "Patriot Nation 2\n",
      "United Daughters of the Confederacy 1\n",
      "confederate states america 1\n",
      "Robert E. Lee 1\n",
      "Redneck Social Club 1\n"
     ]
    }
   ],
   "source": [
    "print_top_references_for_theme(ads_df, right_wing_themes, 'Right wing')"
   ]
  },
  {
   "cell_type": "code",
   "execution_count": 68,
   "metadata": {},
   "outputs": [
    {
     "name": "stdout",
     "output_type": "stream",
     "text": [
      "This labelled 238 rows!\n"
     ]
    }
   ],
   "source": [
    "right_wing_themes = right_wing_themes | {\n",
    "    'Confederate States Army',\n",
    "    'Support our troops',\n",
    "    'Supporting Our Veterans',\n",
    "    'Southern Pride',\n",
    "    'The Invaders',\n",
    "    'Veterans For America',\n",
    "    'Iraq and Afghanistan Veterans of America',\n",
    "    'Vietnam Veterans of America Foundation',\n",
    "    'Vietnam Veterans of America',\n",
    "    'American patriotism',\n",
    "    'Flag of the United States',\n",
    "    'American Patriots',\n",
    "    'American Patriot',\n",
    "    'Human migration',\n",
    "    'Illegal immigration',\n",
    "    'Disabled American Veterans',\n",
    "    'US Military Veterans',\n",
    "    'Concerned Veterans for America',\n",
    "    'Patriot Nation',\n",
    "    'confederate states america',\n",
    "    'Robert E. Lee',\n",
    "    'Redneck Social Club',\n",
    "    'United Daughters of the Confederacy'\n",
    "}\n",
    "ads_df = label_demographic_rows(ads_df, right_wing_themes, 'Right wing')"
   ]
  },
  {
   "cell_type": "code",
   "execution_count": 69,
   "metadata": {},
   "outputs": [
    {
     "name": "stdout",
     "output_type": "stream",
     "text": [
      "Politics 16\n",
      "Veterans 8\n",
      "Syria 7\n",
      "United States Department of Veterans Affairs 6\n",
      "Vietnam Veterans Memorial Fund 3\n",
      "Stop Illegal Immigration 3\n",
      "Vietnam Veterans Memorial 2\n",
      "Institute for Veterans and Military Families 2\n",
      "Vietnam Veterans Against the War 2\n",
      "vietnam veterans america 2\n",
      "Chris Kyle 2\n",
      "Wounded Warrior Project 2\n",
      "Immigration law 2\n",
      "Deportation 2\n",
      "Fox News Politics 1\n",
      "American History 1\n",
      "Patriot(American Revolution) 1\n",
      "The Conservative 1\n",
      "Conservative News Today 1\n",
      "College Republicans 1\n",
      "Conservatism in the United States 1\n",
      "Concealed carry 1\n",
      "Tea Party movement 1\n",
      "Ted Cruz 1\n",
      "Conservative Republicans of Texas 1\n"
     ]
    }
   ],
   "source": [
    "print_top_references_for_theme(ads_df, right_wing_themes, 'Right wing')"
   ]
  },
  {
   "cell_type": "code",
   "execution_count": 70,
   "metadata": {},
   "outputs": [
    {
     "name": "stdout",
     "output_type": "stream",
     "text": [
      "This labelled 247 rows!\n"
     ]
    }
   ],
   "source": [
    "right_wing_themes = right_wing_themes | {\n",
    "    'Veterans',\n",
    "    'United States Department of Veterans Affairs',\n",
    "    'Vietnam Veterans Memorial Fund',\n",
    "    'Stop Illegal Immigration',\n",
    "    'vietnam veterans america',\n",
    "    'Vietnam Veterans Against the War',\n",
    "    'Institute for Veterans and Military Families',\n",
    "    'Vietnam Veterans Memorial',\n",
    "    'Chris Kyle',\n",
    "    'Wounded Warrior Project',\n",
    "    'Deportation',\n",
    "    'Immigration law',\n",
    "    'Fox News Politics',\n",
    "    'American History',\n",
    "    'Patriot(American Revolution)',\n",
    "    'Conservative News Today',\n",
    "    'The Conservative',\n",
    "    'College Republicans',\n",
    "    'Conservatism in the United States',\n",
    "    'Concealed carry',\n",
    "    'Tea Party movement',\n",
    "    'Ted Cruz',\n",
    "    'Conservative Republicans of Texas'\n",
    "}\n",
    "ads_df = label_demographic_rows(ads_df, right_wing_themes, 'Right wing')"
   ]
  },
  {
   "cell_type": "code",
   "execution_count": 71,
   "metadata": {},
   "outputs": [
    {
     "name": "stdout",
     "output_type": "stream",
     "text": [
      "Politics 17\n",
      "Syria 7\n",
      "Fox News Channel 3\n",
      "Military 2\n",
      "Laura Ingraham 2\n",
      "Bill O'Reilly (political commentator) 2\n",
      "Donald Trump Jr.; Politics US politics (very conservative) 2\n",
      "Michael Savage 2\n",
      "Conservatism in the United States; Sean Hannity 2\n",
      "Christianity 2\n",
      "Andrew Breitbart breitbart 2\n",
      "Michelle Malkin 2\n",
      "Mike Huckabee 2\n",
      "Jesus; TheBlaze 2\n",
      "Mike Pence 2\n",
      "Rush Limbaugh 2\n",
      "Tucker Carlson 2\n",
      "Bible 2\n",
      "Ron Paul 2\n",
      "Rand Paul 2\n",
      "The Patriot Post 1\n",
      "Thank A Soldier 1\n",
      "U.S. Patriot Tactical 1\n",
      "AMVETS 1\n",
      "Emigration 1\n"
     ]
    }
   ],
   "source": [
    "print_top_references_for_theme(ads_df, right_wing_themes, 'Right wing')"
   ]
  },
  {
   "cell_type": "code",
   "execution_count": 72,
   "metadata": {},
   "outputs": [
    {
     "name": "stdout",
     "output_type": "stream",
     "text": [
      "This labelled 248 rows!\n"
     ]
    }
   ],
   "source": [
    "right_wing_themes = right_wing_themes | {\n",
    "    'Fox News Channel',\n",
    "    'Military',\n",
    "    'Bill O\\'Reilly (political commentator)',\n",
    "    'Mike Pence',\n",
    "    'Jesus; TheBlaze',\n",
    "    'Christianity',\n",
    "    'Rand Paul',\n",
    "    'Tucker Carlson',\n",
    "    'Andrew Breitbart breitbart',\n",
    "    'Bible',\n",
    "    'Ron Paul',\n",
    "    'Michael Savage',\n",
    "    'Michelle Malkin',\n",
    "    'Rush Limbaugh',\n",
    "    'Mike Huckabee',\n",
    "    'Donald Trump Jr.; Politics US politics (very conservative)',\n",
    "    'Laura Ingraham',\n",
    "    'Conservatism in the United States; Sean Hannity',\n",
    "    'Thank A Soldier',\n",
    "    'U.S. Patriot Tactical',\n",
    "    'The Patriot Post',\n",
    "    'AMVETS',\n",
    "    'Emigration',\n",
    "}\n",
    "ads_df = label_demographic_rows(ads_df, right_wing_themes, 'Right wing')"
   ]
  },
  {
   "cell_type": "markdown",
   "metadata": {},
   "source": [
    "Row count has stopped increasing we move on to the next group.\n",
    "\n",
    "## New entries to: African-American"
   ]
  },
  {
   "cell_type": "code",
   "execution_count": 75,
   "metadata": {},
   "outputs": [
    {
     "name": "stdout",
     "output_type": "stream",
     "text": [
      "Don't Shoot 47\n",
      "Muslim Brotherhood 18\n",
      "Native American Indian Wisdom 18\n",
      "Cherokee language 18\n",
      "Cherokee Nation 18\n"
     ]
    }
   ],
   "source": [
    "print_top_words_from_arrays(ads_df.ad_interests_array[pd.isnull(ads_df['demographic'])], 5)"
   ]
  },
  {
   "cell_type": "markdown",
   "metadata": {},
   "source": [
    "A web search revealed that 'Don't Shoot' was a group constructed by the IRA after the [shooting of Philando Castille](https://en.wikipedia.org/wiki/Internet_Research_Agency). This was most-likely targeting African-Americans. We add it ot this category before proceeding."
   ]
  },
  {
   "cell_type": "code",
   "execution_count": 76,
   "metadata": {},
   "outputs": [
    {
     "name": "stdout",
     "output_type": "stream",
     "text": [
      "This labelled 1324 rows!\n"
     ]
    }
   ],
   "source": [
    "african_american_themes = african_american_themes | {\n",
    "    'Don\\'t Shoot'\n",
    "}\n",
    "\n",
    "ads_df = label_demographic_rows(ads_df, african_american_themes, 'African-American')"
   ]
  },
  {
   "cell_type": "code",
   "execution_count": 77,
   "metadata": {},
   "outputs": [
    {
     "name": "stdout",
     "output_type": "stream",
     "text": [
      "Gun Owners of America 18\n",
      "2nd Amendment 18\n",
      "Self Defense Family 18\n",
      "The Self Defense Company 18\n",
      "Martial arts 18\n",
      "Concealed carry in the United States 14\n",
      "Justice 13\n",
      "Gun Rights 12\n",
      "2016 9\n",
      "Humanitarianism 7\n",
      "Humanitarian aid 7\n",
      "Kemetism 6\n",
      "Mahatma Gandhi 6\n",
      "Visual perception 6\n",
      "Freckle 6\n",
      "Color 6\n",
      "Guns & Ammo 5\n",
      "Jr.. Stop Racism!!. AfricanAmerican culture. African-American Civil Rights Movement (1954-68) 5\n",
      "Black history. AfricanAmerican Civil Rights Movement(1954-68) 5\n",
      "Filming Cops 5\n",
      "Melanin 5\n",
      "Black panther 5\n",
      "Equal opportunity 5\n",
      "Slavery in the United States 5\n",
      "Culture 5\n"
     ]
    }
   ],
   "source": [
    "print_top_references_for_theme(ads_df, african_american_themes, 'African-American')"
   ]
  },
  {
   "cell_type": "code",
   "execution_count": 78,
   "metadata": {},
   "outputs": [
    {
     "name": "stdout",
     "output_type": "stream",
     "text": [
      "This labelled 1325 rows!\n"
     ]
    }
   ],
   "source": [
    "african_american_themes = african_american_themes | {\n",
    "    'Jr.. Stop Racism!!. AfricanAmerican culture. African-American Civil Rights Movement (1954-68)',\n",
    "    'Black history. AfricanAmerican Civil Rights Movement(1954-68)',\n",
    "    'Filming Cops',\n",
    "    'Melanin',\n",
    "    'Black panther',\n",
    "    'Slavery in the United States'\n",
    "}\n",
    "\n",
    "ads_df = label_demographic_rows(ads_df, african_american_themes, 'African-American')"
   ]
  },
  {
   "cell_type": "markdown",
   "metadata": {},
   "source": [
    "The number of rows has stabilized, we move on to the next group.\n",
    "\n",
    "## Sixth demographic: Native-American"
   ]
  },
  {
   "cell_type": "code",
   "execution_count": 80,
   "metadata": {},
   "outputs": [
    {
     "name": "stdout",
     "output_type": "stream",
     "text": [
      "Muslim Brotherhood 18\n",
      "Native American Indian Wisdom 18\n",
      "Cherokee language 18\n",
      "Cherokee Nation 18\n",
      "Mixed martial arts 17\n",
      "Martial arts 17\n",
      "The Women's Self Defense Institute 17\n",
      "PERSONAL & HOME DEFENSE 17\n",
      "Self-defense 17\n",
      "Selfdefense (United States) 17\n",
      "Personal Defense 17\n",
      "Right of self-defense 17\n",
      "Self Defense Family 17\n",
      "Active Self Protection 17\n",
      "American Indian Movement 17\n"
     ]
    }
   ],
   "source": [
    "print_top_words_from_arrays(ads_df.ad_interests_array[pd.isnull(ads_df['demographic'])], 15)"
   ]
  },
  {
   "cell_type": "markdown",
   "metadata": {},
   "source": [
    "Out of the top values of 18 rows, many have to do with Native-American hence our new category."
   ]
  },
  {
   "cell_type": "code",
   "execution_count": 81,
   "metadata": {},
   "outputs": [
    {
     "name": "stdout",
     "output_type": "stream",
     "text": [
      "This labelled 18 rows!\n"
     ]
    }
   ],
   "source": [
    "native_american_themes = {\n",
    "    'Native American Indian Wisdom',\n",
    "    'Cherokee language',\n",
    "    'Cherokee Nation',\n",
    "    'American Indian Movement'\n",
    "}\n",
    "ads_df = label_demographic_rows(ads_df, native_american_themes, 'Native-American')"
   ]
  },
  {
   "cell_type": "code",
   "execution_count": 82,
   "metadata": {},
   "outputs": [
    {
     "name": "stdout",
     "output_type": "stream",
     "text": [
      "Native News Online 4\n",
      "Indian Country Today Media Network 3\n",
      "Native American civil rights 2\n",
      "Cherokee 1\n",
      "Native american culture in the united states 1\n",
      "American Indian Wars 1\n",
      "All Things Cherokee 1\n",
      "Native American Times 1\n",
      "National Congress of American Indians 1\n",
      "Native American music 1\n"
     ]
    }
   ],
   "source": [
    "print_top_references_for_theme(ads_df, native_american_themes, 'Native-American')"
   ]
  },
  {
   "cell_type": "code",
   "execution_count": 83,
   "metadata": {},
   "outputs": [
    {
     "name": "stdout",
     "output_type": "stream",
     "text": [
      "This labelled 18 rows!\n"
     ]
    }
   ],
   "source": [
    "native_american_themes = native_american_themes | {\n",
    "    'Native News Online',\n",
    "    'Indian Country Today Media Network',\n",
    "    'Native American civil rights',\n",
    "    'All Things Cherokee',\n",
    "    'Cherokee',\n",
    "    'American Indian Wars',\n",
    "    'Native american culture in the united states',\n",
    "    'National Congress of American Indians',\n",
    "    'Native American Times',\n",
    "    'Native American music'\n",
    "}\n",
    "ads_df = label_demographic_rows(ads_df, native_american_themes, 'Native-American')"
   ]
  },
  {
   "cell_type": "markdown",
   "metadata": {},
   "source": [
    "No new rows were added, we move to the next demographic.\n",
    "\n",
    "## Seventh demographic: Muslim-American"
   ]
  },
  {
   "cell_type": "code",
   "execution_count": 85,
   "metadata": {},
   "outputs": [
    {
     "name": "stdout",
     "output_type": "stream",
     "text": [
      "Muslim Brotherhood 18\n",
      "Mixed martial arts 17\n",
      "Martial arts 17\n",
      "The Women's Self Defense Institute 17\n",
      "PERSONAL & HOME DEFENSE 17\n",
      "Self-defense 17\n",
      "Selfdefense (United States) 17\n",
      "Personal Defense 17\n",
      "Right of self-defense 17\n",
      "Self Defense Family 17\n",
      "Active Self Protection 17\n",
      "Libertarianism 13\n",
      "Liberalism 13\n",
      "Williams&Kalvin 13\n",
      "Islam 12\n"
     ]
    }
   ],
   "source": [
    "print_top_words_from_arrays(ads_df.ad_interests_array[pd.isnull(ads_df['demographic'])], 15)"
   ]
  },
  {
   "cell_type": "code",
   "execution_count": 86,
   "metadata": {},
   "outputs": [
    {
     "name": "stdout",
     "output_type": "stream",
     "text": [
      "This labelled 12 rows!\n"
     ]
    }
   ],
   "source": [
    "muslim_american_themes = {\n",
    "    'Muslim-Brotherhood',\n",
    "    'Islam'\n",
    "}\n",
    "\n",
    "ads_df = label_demographic_rows(ads_df, muslim_american_themes, 'Muslim-American')"
   ]
  },
  {
   "cell_type": "code",
   "execution_count": 87,
   "metadata": {},
   "outputs": [
    {
     "name": "stdout",
     "output_type": "stream",
     "text": [
      "Allah 6\n",
      "Quran 6\n",
      "Muslim Brotherhood 5\n",
      "Islamism 4\n",
      "Muhammad 4\n",
      "Islam in the United States 3\n",
      "All-american muslim culture 3\n",
      "Muslim world 3\n",
      "Muslim American Society 2\n",
      "State of Palestine 2\n",
      "Mosque 2\n",
      "Sunnah 2\n",
      "Sharia 2\n",
      "Glossary of Islam 2\n",
      "Current events 1\n",
      "Religion 1\n",
      "Muslim Students' Association 1\n",
      "Al Jazeera 1\n",
      "Muslims Are Not Terrorists 1\n",
      "ProductiveMuslim 1\n",
      "Hadith 1\n",
      "Muhammad al-Baqir 1\n",
      "Hasan ibn Ali 1\n",
      "Hajj 1\n",
      "Ahl al-Bayt 1\n"
     ]
    }
   ],
   "source": [
    "print_top_references_for_theme(ads_df, muslim_american_themes, 'Muslim-American')"
   ]
  },
  {
   "cell_type": "code",
   "execution_count": 88,
   "metadata": {},
   "outputs": [
    {
     "name": "stdout",
     "output_type": "stream",
     "text": [
      "This labelled 30 rows!\n"
     ]
    }
   ],
   "source": [
    "muslim_american_themes = muslim_american_themes | {\n",
    "    'Quran',\n",
    "    'Allah',\n",
    "    'Muslim Brotherhood',\n",
    "    'Islamism',\n",
    "    'Muhammad',\n",
    "    'Islam in the United States',\n",
    "    'Muslim world',\n",
    "    'All-american muslim culture',\n",
    "    'Muslim American Society',\n",
    "    'State of Palestine',\n",
    "    'Mosque',\n",
    "    'Sunnah',\n",
    "    'Glossary of Islam',\n",
    "    'Sharia',\n",
    "    'Muslim Students\\' Association',\n",
    "    'Religion',\n",
    "    'Al Jazeera',\n",
    "    'ProductiveMuslim',\n",
    "    'Muslims Are Not Terrorists',\n",
    "    'Muhammad al-Baqir',\n",
    "    'Hajj',\n",
    "    'Hasan ibn Ali',\n",
    "    'Assalamu alaykum',\n",
    "    'Ahl al-Bayt'\n",
    "}\n",
    "ads_df = label_demographic_rows(ads_df, muslim_american_themes, 'Muslim-American')"
   ]
  },
  {
   "cell_type": "code",
   "execution_count": 89,
   "metadata": {},
   "outputs": [
    {
     "name": "stdout",
     "output_type": "stream",
     "text": [
      "Hijra (Islam) 3\n",
      "Mecca 2\n",
      "As-salamu alaykum 2\n",
      "Prophets and messengers in Islam 2\n",
      "Proud to be A Muslim 2\n",
      "Zaid Shakir 1\n",
      "Abu Eesa Niamatullah 1\n",
      "Islam ; Quran 1\n",
      "State of Palestine; Muslim world; Mosque 1\n",
      "Current events 1\n",
      "Haram 1\n",
      "Hadith 1\n",
      "Fiqh 1\n",
      "All Pakistan Muslim League 1\n",
      "Ja'far al-Sadiq 1\n",
      "Zakat 1\n",
      "Medina 1\n",
      "Muslim Youth 1\n",
      "Muslim League (Pakistan) 1\n",
      "Islam Book 1\n",
      "Imam Ali Mosque 1\n",
      "Ana muslim 1\n",
      "History of Islam 1\n",
      "Muslims Are Not Terrorists. Islamism 1\n",
      "Arab world 1\n"
     ]
    }
   ],
   "source": [
    "print_top_references_for_theme(ads_df, muslim_american_themes, 'Muslim-American')"
   ]
  },
  {
   "cell_type": "code",
   "execution_count": 90,
   "metadata": {},
   "outputs": [
    {
     "name": "stdout",
     "output_type": "stream",
     "text": [
      "This labelled 40 rows!\n"
     ]
    }
   ],
   "source": [
    "muslim_american_themes = muslim_american_themes | {\n",
    "    'Hijra (Islam)',\n",
    "    'Mecca',\n",
    "    'Prophets and messengers in Islam',\n",
    "    'As-salamu alaykum',\n",
    "    'Proud to be A Muslim',\n",
    "    'Abu Eesa Niamatullah',\n",
    "    'Zaid Shakir',\n",
    "    'State of Palestine; Muslim world; Mosque',\n",
    "    'Islam ; Quran',\n",
    "    'Haram',\n",
    "    'Hadith',\n",
    "    'Muslim Youth',\n",
    "    'Zakat',\n",
    "    'Medina',\n",
    "    'Muslim League (Pakistan)',\n",
    "    'Imam Ali Mosque',\n",
    "    'History of Islam',\n",
    "    'All Pakistan Muslim League',\n",
    "    'Islam Book',\n",
    "    'Ana muslim',\n",
    "    'Fiqh',\n",
    "    'Ja\\'far al-Sadiq',\n",
    "    'Muslims Are Not Terrorists. Islamism',\n",
    "    'Arab world'\n",
    "}\n",
    "ads_df = label_demographic_rows(ads_df, muslim_american_themes, 'Muslim-American')"
   ]
  },
  {
   "cell_type": "code",
   "execution_count": 91,
   "metadata": {},
   "outputs": [
    {
     "name": "stdout",
     "output_type": "stream",
     "text": [
      "Muslims for America 10\n",
      "Current events 1\n",
      "Prod uctiveMuslim 1\n",
      "Hillary Clinton 1\n",
      "Islam ism 1\n",
      "Ramadan 1\n",
      "Allah Akbr 1\n"
     ]
    }
   ],
   "source": [
    "print_top_references_for_theme(ads_df, muslim_american_themes, 'Muslim-American')"
   ]
  },
  {
   "cell_type": "code",
   "execution_count": 92,
   "metadata": {},
   "outputs": [
    {
     "name": "stdout",
     "output_type": "stream",
     "text": [
      "This labelled 40 rows!\n"
     ]
    }
   ],
   "source": [
    "muslim_american_themes = muslim_american_themes | {\n",
    "    'Muslims for America',\n",
    "    'Current events',\n",
    "    'Prod uctiveMuslim',\n",
    "    'Hillary Clinton',\n",
    "    'Islam ism',\n",
    "    'Ramadan',\n",
    "    'Allah Akbr'\n",
    "}\n",
    "ads_df = label_demographic_rows(ads_df, muslim_american_themes, 'Muslim-American')"
   ]
  },
  {
   "cell_type": "markdown",
   "metadata": {},
   "source": [
    "The number of rows has stabilized we move on to the next demographic.\n",
    "\n",
    "## Eight demographic: Self-Defence"
   ]
  },
  {
   "cell_type": "code",
   "execution_count": 94,
   "metadata": {},
   "outputs": [
    {
     "name": "stdout",
     "output_type": "stream",
     "text": [
      "Mixed martial arts 17\n",
      "Martial arts 17\n",
      "The Women's Self Defense Institute 17\n",
      "PERSONAL & HOME DEFENSE 17\n",
      "Self-defense 17\n",
      "Selfdefense (United States) 17\n",
      "Personal Defense 17\n",
      "Right of self-defense 17\n",
      "Self Defense Family 17\n",
      "Active Self Protection 17\n",
      "Libertarianism 13\n",
      "Liberalism 13\n",
      "Williams&Kalvin 13\n",
      "Free software 10\n",
      "Stop A.1. 10\n"
     ]
    }
   ],
   "source": [
    "print_top_words_from_arrays(ads_df.ad_interests_array[pd.isnull(ads_df['demographic'])], 15)"
   ]
  },
  {
   "cell_type": "code",
   "execution_count": 95,
   "metadata": {},
   "outputs": [
    {
     "name": "stdout",
     "output_type": "stream",
     "text": [
      "This labelled 17 rows!\n"
     ]
    }
   ],
   "source": [
    "self_defense = {\n",
    "    'Mixed martial arts',\n",
    "    'Martial arts',\n",
    "    'The Women\\'s Self Defense Institute',\n",
    "    'PERSONAL & HOME DEFENSE',\n",
    "    'Self-defense',\n",
    "    'Selfdefense (United States)',\n",
    "    'Personal Defense',\n",
    "    'Right of self-defense',\n",
    "    'Self Defense Family',\n",
    "    'Active Self Protection'\n",
    "}\n",
    "ads_df = label_demographic_rows(ads_df, self_defense, 'Self-Defense')"
   ]
  },
  {
   "cell_type": "code",
   "execution_count": 96,
   "metadata": {},
   "outputs": [],
   "source": [
    "print_top_references_for_theme(ads_df, self_defense, 'Self-Defense')"
   ]
  },
  {
   "cell_type": "markdown",
   "metadata": {},
   "source": [
    "No new terms where related with these rows. We move on to the next demographic.\n",
    "\n",
    "## Adding to Muslim-American and Right wing"
   ]
  },
  {
   "cell_type": "code",
   "execution_count": 97,
   "metadata": {},
   "outputs": [
    {
     "name": "stdout",
     "output_type": "stream",
     "text": [
      "Libertarianism 13\n",
      "Liberalism 13\n",
      "Williams&Kalvin 13\n",
      "Free software 10\n",
      "Stop A.1. 10\n",
      "United Muslims of America 9\n",
      "Antelope Valley College 9\n",
      "Bernie Sanders 8\n",
      "Police 8\n",
      "Blacktivist 6\n",
      "Police officer 6\n",
      "Jesus Daily 6\n",
      "Texas 6\n",
      "free music 5\n",
      "Law enforcement 5\n"
     ]
    }
   ],
   "source": [
    "print_top_words_from_arrays(ads_df.ad_interests_array[pd.isnull(ads_df['demographic'])], 15)"
   ]
  },
  {
   "cell_type": "markdown",
   "metadata": {},
   "source": [
    "Libertarianism seems to belong in the right-wing category, while United Muslims of America should be put in Muslim Americain."
   ]
  },
  {
   "cell_type": "code",
   "execution_count": 98,
   "metadata": {},
   "outputs": [
    {
     "name": "stdout",
     "output_type": "stream",
     "text": [
      "This labelled 49 rows!\n"
     ]
    }
   ],
   "source": [
    "muslim_american_themes = muslim_american_themes | {\n",
    "    'United Muslims of America'\n",
    "}\n",
    "ads_df = label_demographic_rows(ads_df, muslim_american_themes, 'Muslim-American')"
   ]
  },
  {
   "cell_type": "code",
   "execution_count": 99,
   "metadata": {},
   "outputs": [],
   "source": [
    "print_top_references_for_theme(ads_df, muslim_american_themes, 'Muslim-American')"
   ]
  },
  {
   "cell_type": "markdown",
   "metadata": {},
   "source": [
    "No new rows where found!"
   ]
  },
  {
   "cell_type": "code",
   "execution_count": 101,
   "metadata": {},
   "outputs": [
    {
     "name": "stdout",
     "output_type": "stream",
     "text": [
      "This labelled 274 rows!\n"
     ]
    }
   ],
   "source": [
    "right_wing_themes = right_wing_themes | {\n",
    "    'Libertarianism',\n",
    "    'Williams&Kalvin'\n",
    "}\n",
    "ads_df = label_demographic_rows(ads_df, right_wing_themes, 'Right wing')"
   ]
  },
  {
   "cell_type": "markdown",
   "metadata": {},
   "source": [
    "Although we have seen the number of 'Right wing' entries increase, we also have very few rows left and will use a manual process for these last entries."
   ]
  },
  {
   "cell_type": "code",
   "execution_count": 105,
   "metadata": {},
   "outputs": [
    {
     "name": "stdout",
     "output_type": "stream",
     "text": [
      "At this point, only 120 ads are unlabelled.\n"
     ]
    }
   ],
   "source": [
    "print('At this point, only ' + str(pd.isnull(ads_df['demographic']).sum()) + ' ads are unlabelled.')"
   ]
  },
  {
   "cell_type": "code",
   "execution_count": 106,
   "metadata": {},
   "outputs": [
    {
     "name": "stdout",
     "output_type": "stream",
     "text": [
      "Free software \n",
      "Free software \n",
      "Bernie Sanders\n",
      " free music or Free software\n",
      "Reading\n",
      "Blacktivist\n",
      " Grooveshark, Last.fm, SoundCloud, Vevo, Shazam (service) or Google Play Music\n",
      " Bernie Sanders, Social democracy, Liberalism or Democratic Party (United States)\n",
      "Right-wing politics \n",
      "Blacktivist\n",
      " Antelope Valley College, \n",
      " Free software \n",
      " Antelope Valley College, \n",
      "Stop A.1.\n",
      "Blacktivist\n",
      " Black Economic Empowerment \n",
      "Copwatch Rodney King; Police brutality in the United States; Stop Police Brutality; Cop Block or Photography is Not a Crime\n",
      "Born Liberal\n",
      " Bernie Sanders or Liberalism\n",
      " Security alarm, Police, National security, Security guard, Police officer or Safety\n",
      "Detroit\n",
      "History \n",
      "Stop A.1.\n",
      "Police, Law enforcement or Police officer\n",
      "Stop A.1.\n",
      " Music or Rock music \n",
      "Iraq War Veterans, Veterans of Foreign Wars, Support Our Veterans. Veterans benefits support; Disabled American Veterans, Veterans Advantage or Dysfunctional Veterans\n",
      " State police, Law enforcement in the United States, Police, Sheriffs in the United States, Law enforcement or Police officer \n",
      "Stop A.1.\n",
      " jesus love u. I Am a Child of God. Jesus Daily, Knowing Jesus or I Have Decided to Follow Jesus \n",
      " Amenity or Jesus Daily \n",
      " Understanding racial segregation in the united states, \n",
      " Texas\n",
      "Texas\n",
      " Iraq War Veterans, Veterans of Foreign Wars, Support Our Veterans. Veterans benefits support; Disabled American Veterans, Veterans Advantage or Dysfunctional Veterans\n",
      " Prison Voices , Incarceration in the United States, Detention (imprisonment), Innocence Project, Prison reform, Prisoner, Children Of Inmates or Prison Wives\n",
      " United States Holocaust Memorial Museum or Fascism\n",
      "Stop A.1.\n",
      "Syria, CNN; Turkey or Border (1997 film)\n",
      "Bernie Sanders\n",
      "Free software \n",
      " Police, Law enforcement or Police officer \n",
      " State police, Law enforcement in the United States. Sheriffs in the United States. Veterans or Law enforcement \n",
      "Amenity or Jesus Daily\n",
      " jesus love u, I Am a Child of God, Jesus Daily, Knowing Jesus or I Have Decided to Follow Jesus \n",
      "Syria, CNN; Turkey or Border (1997 film)\n",
      " Far-right politics, breitbart, Right-wing politics or Politics, \n",
      " Texas\n",
      "Heart of Texas\n",
      " jesus love u or I Have Decided to Follow Jesus \n",
      " jesus love u, I Am a Child of God, Jesus Daily, Knowing Jesus or I Have Decided to Follow Jesus \n",
      "United States Senate, Election, Government or Politics\n",
      " Christ's Commission Fellowship, Jesus, Jesus Daily, Knowing Jesus, Walk with Jesus or The Bible (TV miniseries)\n",
      "Born Liberal\n",
      " Music or Rock music \n",
      "Blacktivist\n",
      "Stop A.1.\n",
      "Secured Borders\n",
      "Bernie Sanders or friends bernie sanders\n",
      " Police, Law enforcement or Police officer \n",
      "Secured Borders\n",
      "Syria, CNN, Turkey or Border (1997 film)\n",
      " Word of Faith, African Methodist Episcopal Zion Church, Pentecostalism, Presbyterianism, Anglicanism or The Potter's House Church, Dallas \n",
      " Hoodies or Trayvon Martin\n",
      " free music or Free software\n",
      "Memopolis\n",
      " Right Wing News \n",
      "Stop A.1.\n",
      " Association of Chief Police Officers, Law Enforcement Today, Wives Behind the Badge, Inc., The Thin Blue Line, Officer Down Memorial Page, Respect the Thin Blue line., The Thin Blue Line (emblem), Police Wives Unite, National Police Wives Association, Heroes Behind The Badge or Law Enforcement Life\n",
      "Liberalism\n",
      "Automobiles, BMW, Used car or Car dealership\n",
      " Innocence Project or Prison reform\n",
      "Syria, CNN, Turkey or Border (1997 film)\n",
      "Stop A.1.\n",
      " Prison Fellowship, Innocence Project, Prison reform or The Inmates\n",
      "Tax \n",
      "Homeless shelter \n",
      " Music or Rock music \n",
      "Stop A.1.\n",
      "Texas\n",
      "BM\n",
      " Music or Rock music \n",
      "Bernie Sanders\n",
      " Understanding racial segregation in the united states\n",
      " Amenity or Jesus Daily \n",
      " Innocence Project or Prison reform\n",
      " Prison Fellowship, Innocence Project, Prison reform or The Inmates\n",
      "Landscape painting or Landscape\n",
      "Blacktivist\n",
      " Bernie Sanders\n",
      " Antelope Valley College, \n",
      " Antelope Valley College, \n",
      " Police, Police officer or Safety\n",
      "Blacktivist\n",
      "Born Liberal\n",
      "Sports \n",
      " Grooveshark, Last.fm, SoundCloud, Vevo, Shazam (service) or Google Play Music\n",
      "Texas\n",
      " Free software \n",
      "Heart of Texas\n",
      " Antelope Valley College, \n",
      " Standing Rock Indian Reservation \n",
      " Antelope Valley College, \n",
      "Stop A.1.\n",
      " free music or Free software\n",
      " free music or Free software\n",
      " Grooveshark, Last.fm, SoundCloud, Vevo, Shazam (service) or Google Play Music\n",
      "Stop A. I.\n",
      "Fitness and wellness, Sports and outdoors or Family and relationships \n",
      " Police, Law Enforcement Today, Fallen Police Officers, Wives Behind the Badge, Inc., The Thin Blue Line, PoliceOne.com, Officer Down Memorial Page; National Law Enforcement Officers Memorial; Respect the Thin Blue line.; The Thin Blue Line (emblem). Police Wives Unite. Police officer. National Police Wives Association or Heroes Behind The Badge\n",
      " Texas Nationalist Movement, Hog Hunting Texas Style, Texas Secession, Texas Hog Hunting, Don't Mess with Texas, Texas Gun Owner, Texas Deer Association, Texas Parks and Wildlife - Hunt, Don't Mess with Texas Program, Texas secession movements, Republic of Texas, Houston, Texas, made in texas, Texas Deer Hunting, Texas Born Texas Proud, Daughters of the Republic of Texas, The Texas Huntress, Texas Got It Right, Texas Values, Open Carry Texas, Texas Gun Talk or Keep Texas Working\n",
      " Antelope Valley College, \n",
      " Racism in the United States Interest \n",
      "Police or Safety\n",
      " Grooveshark, Last.fm, SoundCloud, Vevo, Shazam (service) or Google Play Music\n",
      "Bernie Sanders\n",
      " Antelope Valley College, \n",
      " Antelope Valley College, \n",
      "Police; Law Enforcement Today, The Thin Blue Line. Respect the Thin Blue line.. Police Wives Unite. Police officer; Safety; National Police Wives Association, Heroes Behind The Badge or Law Enforcement Life\n",
      " free music or Free software\n"
     ]
    }
   ],
   "source": [
    " for v in ads_df[pd.isnull(ads_df['demographic'])]['ad_targeting_interests']:\n",
    "    print(v)"
   ]
  },
  {
   "cell_type": "markdown",
   "metadata": {},
   "source": [
    "I manually looked at ads from the output above and identified the following trends:\n",
    "\n",
    "* Adds containing Grooveshark, Music and Free  software were aimed at people willing to install free software from the group. The software would spread more adds to the user's friends.\n",
    "\n",
    "\n",
    "* African-American entries containing (Black,  Blacktivist)\n",
    "\n",
    "\n",
    "* Right-wing politics (Politics, Veterans, jesus, Secured Borders, Texas) seem to be aim at republican leaning demographic and will be included under the \"Right-wing\" umbrella category.\n",
    "\n",
    "\n",
    "* Left-wing politics (Bernie Sanders, Innocence Project, Born Liberal)"
   ]
  },
  {
   "cell_type": "code",
   "execution_count": 107,
   "metadata": {},
   "outputs": [
    {
     "name": "stdout",
     "output_type": "stream",
     "text": [
      "This labelled 329 rows!\n"
     ]
    }
   ],
   "source": [
    "# Reading is related to a group called South United\n",
    "# Stop A.1. is about illegal immigration\n",
    "# History is about a confederate group\n",
    "# Fitness and wellness, Sports is about a pro police movement\n",
    "# Automobiles as the ad stated \"drive like a patriot\"\n",
    "right_wing_themes = right_wing_themes | {\n",
    "    'Police',\n",
    "    'Texas',\n",
    "    'Heart of Texas',\n",
    "    'Secured Borders',\n",
    "    'Politics',\n",
    "    'Veterans',\n",
    "    'Jesus',\n",
    "    'jesus love u',\n",
    "    'Right-wing politics',\n",
    "    'National Police Wives Association',\n",
    "    'Police; Law Enforcement Today',\n",
    "    'Right Wing News',\n",
    "    'Syria',\n",
    "    'State police',\n",
    "    'Iraq War Veterans',\n",
    "    'jesus love u. I Am a Child of God. Jesus Daily',\n",
    "    'Jesus Daily',\n",
    "    'Reading',\n",
    "    'Stop A.1.',\n",
    "    'Stop A. I.',\n",
    "    'History',\n",
    "    'Fitness and wellness',\n",
    "    'Sports',\n",
    "    'Automobiles'\n",
    "}\n",
    "\n",
    "ads_df = label_demographic_rows(ads_df, right_wing_themes, 'Right wing')"
   ]
  },
  {
   "cell_type": "code",
   "execution_count": 108,
   "metadata": {},
   "outputs": [
    {
     "name": "stdout",
     "output_type": "stream",
     "text": [
      "This labelled 18 rows!\n"
     ]
    }
   ],
   "source": [
    "free_music_software_themes = {\n",
    "    'Grooveshark',\n",
    "    'Free software',\n",
    "    'Music'\n",
    "}\n",
    "\n",
    "ads_df = label_demographic_rows(ads_df, free_music_software_themes, 'Free music software')"
   ]
  },
  {
   "cell_type": "code",
   "execution_count": 109,
   "metadata": {},
   "outputs": [
    {
     "name": "stdout",
     "output_type": "stream",
     "text": [
      "This labelled 1351 rows!\n"
     ]
    }
   ],
   "source": [
    "# Antelope Valley College is about stop police brutality\n",
    "# Facism is also about police brutality\n",
    "# Tax is targeted at African-American through the Behavior filter\n",
    "# BM is for Black Matters\n",
    "african_american_themes = african_american_themes | {\n",
    "    'Blacktivist',\n",
    "    'Black Economic Empowerment',\n",
    "    'Racism in the United States Interest',\n",
    "    'Understanding racial segregation in the united states',\n",
    "    'African Methodist Episcopal Zion Church',\n",
    "    'Copwatch Rodney King; Police brutality in the United States; Stop Police Brutality; Cop Block',\n",
    "    'Detroit',\n",
    "    'Stop Police Brutality',\n",
    "    'Antelope Valley College',\n",
    "    'Fascism',\n",
    "    'Tax',\n",
    "    'Trayvon Martin',\n",
    "    'BM'\n",
    "}\n",
    "\n",
    "ads_df = label_demographic_rows(ads_df, african_american_themes, 'African-American')"
   ]
  },
  {
   "cell_type": "code",
   "execution_count": 110,
   "metadata": {},
   "outputs": [
    {
     "name": "stdout",
     "output_type": "stream",
     "text": [
      "This labelled 18 rows!\n"
     ]
    }
   ],
   "source": [
    "left_wing_themes = {\n",
    "    'Bernie Sanders',\n",
    "    'Innocence Project',\n",
    "    'Born Liberal',\n",
    "    'Liberalism',\n",
    "    'Homeless shelter',\n",
    "}\n",
    "\n",
    "ads_df = label_demographic_rows(ads_df, left_wing_themes, 'Left wing')"
   ]
  },
  {
   "cell_type": "code",
   "execution_count": 111,
   "metadata": {},
   "outputs": [
    {
     "name": "stdout",
     "output_type": "stream",
     "text": [
      "This labelled 19 rows!\n"
     ]
    }
   ],
   "source": [
    "native_american_themes = native_american_themes | {\n",
    "    'Standing Rock Indian Reservation'\n",
    "}\n",
    "ads_df = label_demographic_rows(ads_df, native_american_themes, 'Native-American')"
   ]
  },
  {
   "cell_type": "code",
   "execution_count": 112,
   "metadata": {},
   "outputs": [
    {
     "name": "stdout",
     "output_type": "stream",
     "text": [
      "This labelled 138 rows!\n"
     ]
    }
   ],
   "source": [
    "memes_themes = memes_themes | {\n",
    "    'Memopolis'\n",
    "}\n",
    "ads_df = label_demographic_rows(ads_df, memes_themes, 'Memes')"
   ]
  },
  {
   "cell_type": "markdown",
   "metadata": {},
   "source": [
    "At this point, the entry below is the only entry remaining and even after looking at the file it is difficult to identify what demographic the group was targeting. We will simply drop this row."
   ]
  },
  {
   "cell_type": "code",
   "execution_count": 114,
   "metadata": {},
   "outputs": [
    {
     "data": {
      "text/html": [
       "<div>\n",
       "<style scoped>\n",
       "    .dataframe tbody tr th:only-of-type {\n",
       "        vertical-align: middle;\n",
       "    }\n",
       "\n",
       "    .dataframe tbody tr th {\n",
       "        vertical-align: top;\n",
       "    }\n",
       "\n",
       "    .dataframe thead th {\n",
       "        text-align: right;\n",
       "    }\n",
       "</style>\n",
       "<table border=\"1\" class=\"dataframe\">\n",
       "  <thead>\n",
       "    <tr style=\"text-align: right;\">\n",
       "      <th></th>\n",
       "      <th>file_name</th>\n",
       "      <th>ad_targeting_interests</th>\n",
       "      <th>ad_impressions</th>\n",
       "      <th>ad_clicks</th>\n",
       "      <th>ad_spend</th>\n",
       "      <th>ad_creation_date</th>\n",
       "      <th>ad_end_date</th>\n",
       "      <th>ad_interests_array</th>\n",
       "      <th>demographic</th>\n",
       "    </tr>\n",
       "  </thead>\n",
       "  <tbody>\n",
       "    <tr>\n",
       "      <th>1710</th>\n",
       "      <td>P(1)0002143.txt</td>\n",
       "      <td>Landscape painting or Landscape</td>\n",
       "      <td>162</td>\n",
       "      <td>3</td>\n",
       "      <td>18.1</td>\n",
       "      <td>2015-06-09</td>\n",
       "      <td>2015-06-10</td>\n",
       "      <td>[Landscape painting, Landscape]</td>\n",
       "      <td>NaN</td>\n",
       "    </tr>\n",
       "  </tbody>\n",
       "</table>\n",
       "</div>"
      ],
      "text/plain": [
       "            file_name           ad_targeting_interests  ad_impressions  \\\n",
       "1710  P(1)0002143.txt  Landscape painting or Landscape             162   \n",
       "\n",
       "      ad_clicks  ad_spend ad_creation_date ad_end_date  \\\n",
       "1710          3      18.1       2015-06-09  2015-06-10   \n",
       "\n",
       "                   ad_interests_array demographic  \n",
       "1710  [Landscape painting, Landscape]         NaN  "
      ]
     },
     "execution_count": 114,
     "metadata": {},
     "output_type": "execute_result"
    }
   ],
   "source": [
    "ads_df[pd.isnull(ads_df['demographic'])]"
   ]
  },
  {
   "cell_type": "code",
   "execution_count": 115,
   "metadata": {},
   "outputs": [
    {
     "data": {
      "text/plain": [
       "African-American       1351\n",
       "Right wing              329\n",
       "Mexican-American        189\n",
       "Memes                   138\n",
       "LGBT                     97\n",
       "Muslim-American          49\n",
       "Native-American          19\n",
       "Free music software      18\n",
       "Left wing                18\n",
       "Self-Defense             17\n",
       "Name: demographic, dtype: int64"
      ]
     },
     "execution_count": 115,
     "metadata": {},
     "output_type": "execute_result"
    }
   ],
   "source": [
    "ads_df['demographic'].value_counts()"
   ]
  },
  {
   "cell_type": "code",
   "execution_count": 116,
   "metadata": {},
   "outputs": [],
   "source": [
    "ads_df = ads_df[~pd.isnull(ads_df['demographic'])]"
   ]
  },
  {
   "cell_type": "markdown",
   "metadata": {},
   "source": [
    "We have now added a demographic tag to nearly all our rows and taken the time to periodicaly assess if the association we were making were correct by verify the related ads keywords."
   ]
  },
  {
   "cell_type": "code",
   "execution_count": 118,
   "metadata": {},
   "outputs": [],
   "source": [
    "ads_df.to_csv('../clean_data/labeled_clean_data.csv', index=None, header=True)"
   ]
  },
  {
   "cell_type": "markdown",
   "metadata": {},
   "source": [
    "Shortcomings of this approach:\n",
    "\n",
    "* Order matters\n",
    "  * Labeled data is not visited after it is labeled the first time. This technique may not work as well if ads had belonged strongly to more than 1 category.\n",
    "  \n",
    "* Not as thorough as a manual review\n",
    "  * Some studies used Mechanical Turks to review their labeling. Ideally we should do so as well.\n",
    "\n",
    "* Subjective\n",
    "  * Although choosing whether an ad targeted a demographic is a subjective exercise when using this method, I believe this manual labeling gave us a better understanding of the way the IRA picked the interests themselves. In comparison, a purely computational approach result's were difficult to tie back with the ads and interpret even though the method used (tfidf and kmeans) were very simple. Additionally, the name of the demographic group is also subjective and can influence the perception and understanding of the IRA's intent when used in graph. To reduce this influence, I have tried to keep away from names that are politically charged as much as possible.\n",
    "\n",
    "This concludes demographic labeling. We can move on to the analysis notebook."
   ]
  }
 ],
 "metadata": {
  "kernelspec": {
   "display_name": "Python 3",
   "language": "python",
   "name": "python3"
  },
  "language_info": {
   "codemirror_mode": {
    "name": "ipython",
    "version": 3
   },
   "file_extension": ".py",
   "mimetype": "text/x-python",
   "name": "python",
   "nbconvert_exporter": "python",
   "pygments_lexer": "ipython3",
   "version": "3.7.5"
  }
 },
 "nbformat": 4,
 "nbformat_minor": 2
}
