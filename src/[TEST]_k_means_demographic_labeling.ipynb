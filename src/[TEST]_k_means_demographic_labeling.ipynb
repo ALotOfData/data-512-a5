{
 "cells": [
  {
   "cell_type": "markdown",
   "metadata": {},
   "source": [
    "# K-means demographic labeling\n",
    "\n",
    "This notebook was created to show why k-means clustering was ultimately not used for this analysis. It is a test notebook and contains personal notes. It was not and will not be improved upon in the future.\n",
    "\n",
    "Code for this notebook was strongly inspired if not copied from:\n",
    "\n",
    "https://www.kaggle.com/jbencina/clustering-documents-with-tfidf-and-kmeans"
   ]
  },
  {
   "cell_type": "code",
   "execution_count": 9,
   "metadata": {},
   "outputs": [
    {
     "data": {
      "text/html": [
       "<div>\n",
       "<style scoped>\n",
       "    .dataframe tbody tr th:only-of-type {\n",
       "        vertical-align: middle;\n",
       "    }\n",
       "\n",
       "    .dataframe tbody tr th {\n",
       "        vertical-align: top;\n",
       "    }\n",
       "\n",
       "    .dataframe thead th {\n",
       "        text-align: right;\n",
       "    }\n",
       "</style>\n",
       "<table border=\"1\" class=\"dataframe\">\n",
       "  <thead>\n",
       "    <tr style=\"text-align: right;\">\n",
       "      <th></th>\n",
       "      <th>file_name</th>\n",
       "      <th>ad_targeting_interests</th>\n",
       "      <th>ad_impressions</th>\n",
       "      <th>ad_clicks</th>\n",
       "      <th>ad_spend</th>\n",
       "      <th>ad_creation_date</th>\n",
       "      <th>ad_end_date</th>\n",
       "    </tr>\n",
       "  </thead>\n",
       "  <tbody>\n",
       "    <tr>\n",
       "      <th>0</th>\n",
       "      <td>P(1)0002823.txt</td>\n",
       "      <td>Pan-Africanism, African-American Civil Rights...</td>\n",
       "      <td>10496</td>\n",
       "      <td>1823</td>\n",
       "      <td>200.00</td>\n",
       "      <td>2017-04-21</td>\n",
       "      <td>2017-04-22</td>\n",
       "    </tr>\n",
       "    <tr>\n",
       "      <th>1</th>\n",
       "      <td>P(1)0002837.txt</td>\n",
       "      <td>Pan-Africanism, African-American Civil Rights...</td>\n",
       "      <td>16305</td>\n",
       "      <td>1337</td>\n",
       "      <td>499.49</td>\n",
       "      <td>2017-04-13</td>\n",
       "      <td>2017-04-14</td>\n",
       "    </tr>\n",
       "    <tr>\n",
       "      <th>2</th>\n",
       "      <td>P(1)0006304.txt</td>\n",
       "      <td>Martin Luther King, Jr., Stop Racism!!, Afric...</td>\n",
       "      <td>8210</td>\n",
       "      <td>1788</td>\n",
       "      <td>1570.03</td>\n",
       "      <td>2017-05-29</td>\n",
       "      <td>2017-05-29</td>\n",
       "    </tr>\n",
       "  </tbody>\n",
       "</table>\n",
       "</div>"
      ],
      "text/plain": [
       "         file_name                             ad_targeting_interests  \\\n",
       "0  P(1)0002823.txt   Pan-Africanism, African-American Civil Rights...   \n",
       "1  P(1)0002837.txt   Pan-Africanism, African-American Civil Rights...   \n",
       "2  P(1)0006304.txt   Martin Luther King, Jr., Stop Racism!!, Afric...   \n",
       "\n",
       "   ad_impressions  ad_clicks  ad_spend ad_creation_date ad_end_date  \n",
       "0           10496       1823    200.00       2017-04-21  2017-04-22  \n",
       "1           16305       1337    499.49       2017-04-13  2017-04-14  \n",
       "2            8210       1788   1570.03       2017-05-29  2017-05-29  "
      ]
     },
     "execution_count": 9,
     "metadata": {},
     "output_type": "execute_result"
    }
   ],
   "source": [
    "import pandas as pd\n",
    "import numpy as np\n",
    "\n",
    "ads_df = pd.read_csv('../clean_data/clean_data.csv', parse_dates=['ad_creation_date', 'ad_end_date'])\n",
    "ads_df.head(3)"
   ]
  },
  {
   "cell_type": "markdown",
   "metadata": {},
   "source": [
    "We will be using scikit learn to extract features using a technique called tfidf. (Term Frequency - Inverse Document Frequency) As per it's [wikipedia entry](https://en.wikipedia.org/wiki/Tf%E2%80%93idf):\n",
    "\n",
    ">The tf–idf value increases proportionally to the number of times a word appears in the document and is offset by the number of documents in the corpus that contain the word, which helps to adjust for the fact that some words appear more frequently in general.\n",
    "\n",
    "The Tfid method requires our data to be vectorized by creating a feature vector of length vocabulary determined by the number of distinct words found in all rows of the ad_targeting_interests column. In the interest of time, we will be using scikit's TfidVectorizer with the stop_words option so that punctuation and words such as 'and' and 'or' get pruned automatically. This approach is not perfect as it also removes hyphens which are used fairly frequently to join words in this dataset."
   ]
  },
  {
   "cell_type": "code",
   "execution_count": 5,
   "metadata": {},
   "outputs": [],
   "source": [
    "from sklearn.feature_extraction.text import TfidfVectorizer\n",
    "\n",
    "vectorizer = TfidfVectorizer(stop_words='english', max_features=8000)\n",
    "vectorizer.fit(ads_df.ad_targeting_interests)\n",
    "text = vectorizer.transform(ads_df.ad_targeting_interests)"
   ]
  },
  {
   "cell_type": "code",
   "execution_count": 6,
   "metadata": {},
   "outputs": [
    {
     "name": "stdout",
     "output_type": "stream",
     "text": [
      "Fit 2 clusters\n",
      "Fit 4 clusters\n",
      "Fit 6 clusters\n",
      "Fit 8 clusters\n",
      "Fit 10 clusters\n",
      "Fit 12 clusters\n",
      "Fit 14 clusters\n",
      "Fit 16 clusters\n",
      "Fit 18 clusters\n",
      "Fit 20 clusters\n",
      "Fit 22 clusters\n",
      "Fit 24 clusters\n",
      "Fit 26 clusters\n",
      "Fit 28 clusters\n",
      "Fit 30 clusters\n"
     ]
    },
    {
     "data": {
      "image/png": "[encoded data removed]",
      "text/plain": [
       "<Figure size 432x288 with 1 Axes>"
      ]
     },
     "metadata": {
      "needs_background": "light"
     },
     "output_type": "display_data"
    }
   ],
   "source": [
    "from sklearn.cluster import MiniBatchKMeans\n",
    "import matplotlib.pyplot as plt\n",
    "import matplotlib.cm as cm\n",
    "\n",
    "def find_optimal_clusters(data, max_k):\n",
    "    iters = range(2, max_k+1, 2)\n",
    "    \n",
    "    sse = []\n",
    "    for k in iters:\n",
    "        sse.append(MiniBatchKMeans(n_clusters=k, init_size=1024, batch_size=2048, random_state=20).fit(data).inertia_)\n",
    "        print('Fit {} clusters'.format(k))\n",
    "        \n",
    "    f, ax = plt.subplots(1, 1)\n",
    "    ax.plot(iters, sse, marker='o')\n",
    "    ax.set_xlabel('Cluster Centers')\n",
    "    ax.set_xticks(iters)\n",
    "    ax.set_xticklabels(iters)\n",
    "    ax.set_ylabel('SSE')\n",
    "    ax.set_title('SSE by Cluster Center Plot')\n",
    "    \n",
    "find_optimal_clusters(text, 30)\n",
    "\n",
    "clusters = MiniBatchKMeans(n_clusters=20, init_size=1024, batch_size=2048, random_state=20).fit_predict(text)"
   ]
  },
  {
   "cell_type": "code",
   "execution_count": 7,
   "metadata": {},
   "outputs": [
    {
     "data": {
      "image/png": "[encoded data removed]",
      "text/plain": [
       "<Figure size 1008x432 with 2 Axes>"
      ]
     },
     "metadata": {
      "needs_background": "light"
     },
     "output_type": "display_data"
    }
   ],
   "source": [
    "from sklearn.decomposition import PCA\n",
    "from sklearn.manifold import TSNE\n",
    "\n",
    "def plot_tsne_pca(data, labels):\n",
    "    max_label = max(labels)\n",
    "    max_items = np.random.choice(range(data.shape[0]), size=700, replace=False)\n",
    "    \n",
    "    pca = PCA(n_components=2).fit_transform(data[max_items,:].todense())\n",
    "    tsne = TSNE().fit_transform(PCA(n_components=20).fit_transform(data[max_items,:].todense()))\n",
    "    \n",
    "    \n",
    "    idx = np.random.choice(range(pca.shape[0]), size=300, replace=False)\n",
    "    label_subset = labels[max_items]\n",
    "    label_subset = [cm.hsv(i/max_label) for i in label_subset[idx]]\n",
    "    \n",
    "    f, ax = plt.subplots(1, 2, figsize=(14, 6))\n",
    "    \n",
    "    ax[0].scatter(pca[idx, 0], pca[idx, 1], c=label_subset)\n",
    "    ax[0].set_title('PCA Cluster Plot')\n",
    "    \n",
    "    ax[1].scatter(tsne[idx, 0], tsne[idx, 1], c=label_subset)\n",
    "    ax[1].set_title('TSNE Cluster Plot')\n",
    "    \n",
    "plot_tsne_pca(text, clusters)"
   ]
  },
  {
   "cell_type": "code",
   "execution_count": 8,
   "metadata": {},
   "outputs": [
    {
     "name": "stdout",
     "output_type": "stream",
     "text": [
      "\n",
      "Cluster 0\n",
      "rock,stop,donald,trump,funny,social,justice,human,beautiful,black\n",
      "\n",
      "Cluster 1\n",
      "stop,movement,consciousness,nationalism,misconduct,brutality,american,african,black,police\n",
      "\n",
      "Cluster 2\n",
      "raza,la,latin,hispanidad,lowrider,hop,hip,mexico,rap,chicano\n",
      "\n",
      "Cluster 3\n",
      "palestine,muhammad,mosque,world,muslims,islam,islamism,terrorists,brotherhood,muslim\n",
      "\n",
      "Cluster 4\n",
      "movements,territory,pride,gay,sex,marriage,homosexuality,community,united,lgbt\n",
      "\n",
      "Cluster 5\n",
      "civil,68,1954,pan,africanism,color,history,american,african,black\n",
      "\n",
      "Cluster 6\n",
      "flag,flags,fly,fm,follow,foramerica,firearm,zion,patriotism,independence\n",
      "\n",
      "Cluster 7\n",
      "fly,fm,follow,foramerica,forces,foreign,fitness,zion,black,matters\n",
      "\n",
      "Cluster 8\n",
      "tea,patriots,knowledge,color,politics,black,com,blacknews,voices,huffpost\n",
      "\n",
      "Cluster 9\n",
      "fm,follow,foramerica,forces,fitness,zion,imgur,collegehumor,9gag,buzzfeed\n",
      "\n",
      "Cluster 10\n",
      "flag,flags,fly,fm,follow,foramerica,forces,foundation,don,shoot\n",
      "\n",
      "Cluster 11\n",
      "news,online,movement,american,nation,wisdom,language,native,cherokee,indian\n",
      "\n",
      "Cluster 12\n",
      "civil,1954,68,king,martin,luther,jr,malcolm,american,african\n",
      "\n",
      "Cluster 13\n",
      "fitness,flag,flags,fly,fm,follow,foramerica,fiqh,zion,patriotic\n",
      "\n",
      "Cluster 14\n",
      "party,republican,self,immigration,politics,defense,racism,veterans,united,states\n",
      "\n",
      "Cluster 15\n",
      "cops,racial,social,justice,party,power,black,panther,block,cop\n",
      "\n",
      "Cluster 16\n",
      "democratic,democrats,party,community,bernie,sanders,democracy,anti,libertarianism,liberalism\n",
      "\n",
      "Cluster 17\n",
      "carry,concealed,states,2nd,united,muslims,amendment,owners,gun,america\n",
      "\n",
      "Cluster 18\n",
      "mexico,la,raza,american,pride,latino,hispanic,mexican,culture,chicano\n",
      "\n",
      "Cluster 19\n",
      "jamal,national,jones,mother,museum,raw,story,mumia,angelou,maya\n"
     ]
    }
   ],
   "source": [
    "def get_top_keywords(data, clusters, labels, n_terms):\n",
    "    df = pd.DataFrame(data.todense()).groupby(clusters).mean()\n",
    "    \n",
    "    for i,r in df.iterrows():\n",
    "        print('\\nCluster {}'.format(i))\n",
    "        print(','.join([labels[t] for t in np.argsort(r)[-n_terms:]]))\n",
    "            \n",
    "get_top_keywords(text, clusters, vectorizer.get_feature_names(), 10)"
   ]
  },
  {
   "cell_type": "markdown",
   "metadata": {},
   "source": [
    "It is difficult to associate one cluster to one demographic. For instance Clusters 1, 5 and 12 contain the word African. 6, 7, 10 and 13 contain the sequence fly,fm,follow,foramerica. Additionaly cluster 2 and 18 seem to treat of Mexian related topics..."
   ]
  }
 ],
 "metadata": {
  "kernelspec": {
   "display_name": "Python 3",
   "language": "python",
   "name": "python3"
  },
  "language_info": {
   "codemirror_mode": {
    "name": "ipython",
    "version": 3
   },
   "file_extension": ".py",
   "mimetype": "text/x-python",
   "name": "python",
   "nbconvert_exporter": "python",
   "pygments_lexer": "ipython3",
   "version": "3.7.5"
  }
 },
 "nbformat": 4,
 "nbformat_minor": 2
}
