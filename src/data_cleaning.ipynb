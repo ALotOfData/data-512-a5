{
 "cells": [
  {
   "cell_type": "markdown",
   "metadata": {},
   "source": [
    "# Data cleaning\n",
    "\n",
    "## Goal\n",
    "\n",
    "In this notebook, we will be taking in the raw csv data and cleaning / parsing its different columns. The notebook contains the transformations below in order:\n",
    "\n",
    "1. Read in the data\n",
    "2. Removing unused columns for this analysis\n",
    "3. Removing rows with certain null columns\n",
    "4. Cleaning of columns\n",
    "    * ad_age\n",
    "    * ad_impressions\n",
    "    * ad_clicks\n",
    "    * ad_creation_date\n",
    "    * ad_end_date\n",
    "    * ad_targeting_interests\n",
    "    * ad_targeting_people_who_match\n",
    "5. Writing to file\n",
    "6. Summary of lost rows\n",
    "\n",
    "\n",
    "We first import 3 packages which will be useful for our data cleaning:\n",
    "\n",
    "* pandas for handling csv as a table\n",
    "* numpy to handle mulitdimensional array operations\n",
    "* re to handle regular expression parsing"
   ]
  },
  {
   "cell_type": "code",
   "execution_count": 2,
   "metadata": {},
   "outputs": [
    {
     "data": {
      "text/html": [
       "<div>\n",
       "<style scoped>\n",
       "    .dataframe tbody tr th:only-of-type {\n",
       "        vertical-align: middle;\n",
       "    }\n",
       "\n",
       "    .dataframe tbody tr th {\n",
       "        vertical-align: top;\n",
       "    }\n",
       "\n",
       "    .dataframe thead th {\n",
       "        text-align: right;\n",
       "    }\n",
       "</style>\n",
       "<table border=\"1\" class=\"dataframe\">\n",
       "  <thead>\n",
       "    <tr style=\"text-align: right;\">\n",
       "      <th></th>\n",
       "      <th>Unnamed: 0</th>\n",
       "      <th>file_name</th>\n",
       "      <th>ad_id</th>\n",
       "      <th>ad_text</th>\n",
       "      <th>ad_landing_page</th>\n",
       "      <th>ad_targeting_custom_audience</th>\n",
       "      <th>ad_targeting_location</th>\n",
       "      <th>ad_targeting_interests</th>\n",
       "      <th>ad_targeting_excluded_connections</th>\n",
       "      <th>ad_targeting_age</th>\n",
       "      <th>ad_targeting_language</th>\n",
       "      <th>ad_targeting_placements</th>\n",
       "      <th>ad_targeting_people_who_match</th>\n",
       "      <th>ad_impressions</th>\n",
       "      <th>ad_clicks</th>\n",
       "      <th>ad_spend</th>\n",
       "      <th>ad_creation_date</th>\n",
       "      <th>ad_end_date</th>\n",
       "    </tr>\n",
       "  </thead>\n",
       "  <tbody>\n",
       "    <tr>\n",
       "      <th>0</th>\n",
       "      <td>0</td>\n",
       "      <td>P(1)0003283.txt</td>\n",
       "      <td>1349</td>\n",
       "      <td>Close the borders until it's too late.\\nLike t...</td>\n",
       "      <td>https://www.facebook.com/StopAllInvaders</td>\n",
       "      <td>NaN</td>\n",
       "      <td>United States</td>\n",
       "      <td>NaN</td>\n",
       "      <td>Exclude people who like Stop A.1.</td>\n",
       "      <td>35 - 65+</td>\n",
       "      <td>English (UK)or English (US)</td>\n",
       "      <td>News Feed on desktop computers or News Feed on...</td>\n",
       "      <td>Interests: Immigration or Politics</td>\n",
       "      <td>1</td>\n",
       "      <td>0</td>\n",
       "      <td>0.66 RUB</td>\n",
       "      <td>04/13/16 07:48:33 AM PDT</td>\n",
       "      <td>NaN</td>\n",
       "    </tr>\n",
       "    <tr>\n",
       "      <th>1</th>\n",
       "      <td>1</td>\n",
       "      <td>P(1)0002823.txt</td>\n",
       "      <td>986</td>\n",
       "      <td>repost @[1029022833877757:274:Blackslayingit]\\n</td>\n",
       "      <td>https://www.facebook.com/blacktivists/</td>\n",
       "      <td>NaN</td>\n",
       "      <td>United States</td>\n",
       "      <td>NaN</td>\n",
       "      <td>NaN</td>\n",
       "      <td>16 - 65+</td>\n",
       "      <td>English (UK) or English (US)</td>\n",
       "      <td>News Feed on desktop computers or News Feed on...</td>\n",
       "      <td>Interests: Pan-Africanism, African-American Ci...</td>\n",
       "      <td>10.496</td>\n",
       "      <td>1.823</td>\n",
       "      <td>200.00 RUB</td>\n",
       "      <td>04/21/17 07:42:45 AM PDT</td>\n",
       "      <td>04/22/17 11:00:00 AM PDT</td>\n",
       "    </tr>\n",
       "  </tbody>\n",
       "</table>\n",
       "</div>"
      ],
      "text/plain": [
       "   Unnamed: 0        file_name  ad_id  \\\n",
       "0           0  P(1)0003283.txt   1349   \n",
       "1           1  P(1)0002823.txt    986   \n",
       "\n",
       "                                             ad_text  \\\n",
       "0  Close the borders until it's too late.\\nLike t...   \n",
       "1    repost @[1029022833877757:274:Blackslayingit]\\n   \n",
       "\n",
       "                            ad_landing_page ad_targeting_custom_audience  \\\n",
       "0  https://www.facebook.com/StopAllInvaders                          NaN   \n",
       "1    https://www.facebook.com/blacktivists/                          NaN   \n",
       "\n",
       "  ad_targeting_location ad_targeting_interests  \\\n",
       "0         United States                    NaN   \n",
       "1         United States                    NaN   \n",
       "\n",
       "   ad_targeting_excluded_connections ad_targeting_age  \\\n",
       "0  Exclude people who like Stop A.1.         35 - 65+   \n",
       "1                                NaN         16 - 65+   \n",
       "\n",
       "          ad_targeting_language  \\\n",
       "0   English (UK)or English (US)   \n",
       "1  English (UK) or English (US)   \n",
       "\n",
       "                             ad_targeting_placements  \\\n",
       "0  News Feed on desktop computers or News Feed on...   \n",
       "1  News Feed on desktop computers or News Feed on...   \n",
       "\n",
       "                       ad_targeting_people_who_match ad_impressions ad_clicks  \\\n",
       "0                 Interests: Immigration or Politics              1         0   \n",
       "1  Interests: Pan-Africanism, African-American Ci...         10.496     1.823   \n",
       "\n",
       "     ad_spend          ad_creation_date               ad_end_date  \n",
       "0    0.66 RUB  04/13/16 07:48:33 AM PDT                       NaN  \n",
       "1  200.00 RUB  04/21/17 07:42:45 AM PDT  04/22/17 11:00:00 AM PDT  "
      ]
     },
     "execution_count": 2,
     "metadata": {},
     "output_type": "execute_result"
    }
   ],
   "source": [
    "import pandas as pd\n",
    "import numpy as np\n",
    "import re\n",
    "\n",
    "# We read in the data\n",
    "ads_df = pd.read_csv('../raw_data/raw.csv')\n",
    "\n",
    "# Output first 2 rows\n",
    "ads_df.head(2)"
   ]
  },
  {
   "cell_type": "markdown",
   "metadata": {},
   "source": [
    "## Removing unused columns\n",
    "\n",
    "Our first step will be to remove columns we will not be using for this analysis.\n",
    "\n",
    "| Column name | Reason for removal|\n",
    "|-------------| ------------------|\n",
    "| Unnamed | Index column added by accident in the data production step. |\n",
    "| ad_id | We will be using the file_name column as identifier. |\n",
    "| ad_text | Although interesting its analysis is outside the scope of this project | \n",
    "| ad_landing_page | This will not be useful in answering our research questions. |\n",
    "| ad_targeting_location | We will not be studying the impact of location for the ads |\n",
    "| ad_targeting_custom_audience | This field doesn't contain information not already in the ad_targeting_interests column |\n",
    "| ad_targeting_language | This field is almost always US English and is not present on most of the dataset |\n",
    "| ad_targeting_placements | We will not be studying the impact of location on the page for the ads |"
   ]
  },
  {
   "cell_type": "code",
   "execution_count": 3,
   "metadata": {},
   "outputs": [
    {
     "data": {
      "text/html": [
       "<div>\n",
       "<style scoped>\n",
       "    .dataframe tbody tr th:only-of-type {\n",
       "        vertical-align: middle;\n",
       "    }\n",
       "\n",
       "    .dataframe tbody tr th {\n",
       "        vertical-align: top;\n",
       "    }\n",
       "\n",
       "    .dataframe thead th {\n",
       "        text-align: right;\n",
       "    }\n",
       "</style>\n",
       "<table border=\"1\" class=\"dataframe\">\n",
       "  <thead>\n",
       "    <tr style=\"text-align: right;\">\n",
       "      <th></th>\n",
       "      <th>file_name</th>\n",
       "      <th>ad_targeting_interests</th>\n",
       "      <th>ad_targeting_age</th>\n",
       "      <th>ad_targeting_people_who_match</th>\n",
       "      <th>ad_impressions</th>\n",
       "      <th>ad_clicks</th>\n",
       "      <th>ad_spend</th>\n",
       "      <th>ad_creation_date</th>\n",
       "      <th>ad_end_date</th>\n",
       "    </tr>\n",
       "  </thead>\n",
       "  <tbody>\n",
       "    <tr>\n",
       "      <th>0</th>\n",
       "      <td>P(1)0003283.txt</td>\n",
       "      <td>NaN</td>\n",
       "      <td>35 - 65+</td>\n",
       "      <td>Interests: Immigration or Politics</td>\n",
       "      <td>1</td>\n",
       "      <td>0</td>\n",
       "      <td>0.66 RUB</td>\n",
       "      <td>04/13/16 07:48:33 AM PDT</td>\n",
       "      <td>NaN</td>\n",
       "    </tr>\n",
       "    <tr>\n",
       "      <th>1</th>\n",
       "      <td>P(1)0002823.txt</td>\n",
       "      <td>NaN</td>\n",
       "      <td>16 - 65+</td>\n",
       "      <td>Interests: Pan-Africanism, African-American Ci...</td>\n",
       "      <td>10.496</td>\n",
       "      <td>1.823</td>\n",
       "      <td>200.00 RUB</td>\n",
       "      <td>04/21/17 07:42:45 AM PDT</td>\n",
       "      <td>04/22/17 11:00:00 AM PDT</td>\n",
       "    </tr>\n",
       "  </tbody>\n",
       "</table>\n",
       "</div>"
      ],
      "text/plain": [
       "         file_name ad_targeting_interests ad_targeting_age  \\\n",
       "0  P(1)0003283.txt                    NaN         35 - 65+   \n",
       "1  P(1)0002823.txt                    NaN         16 - 65+   \n",
       "\n",
       "                       ad_targeting_people_who_match ad_impressions ad_clicks  \\\n",
       "0                 Interests: Immigration or Politics              1         0   \n",
       "1  Interests: Pan-Africanism, African-American Ci...         10.496     1.823   \n",
       "\n",
       "     ad_spend          ad_creation_date               ad_end_date  \n",
       "0    0.66 RUB  04/13/16 07:48:33 AM PDT                       NaN  \n",
       "1  200.00 RUB  04/21/17 07:42:45 AM PDT  04/22/17 11:00:00 AM PDT  "
      ]
     },
     "execution_count": 3,
     "metadata": {},
     "output_type": "execute_result"
    }
   ],
   "source": [
    "# Columns we will not be using\n",
    "columns_to_remove = ['Unnamed: 0', 'ad_id', 'ad_text', 'ad_landing_page', 'ad_targeting_location', 'ad_targeting_custom_audience', 'ad_targeting_excluded_connections', 'ad_targeting_language', 'ad_targeting_placements']\n",
    "ads_df = ads_df.drop(columns=columns_to_remove)\n",
    "\n",
    "ads_df.head(2)"
   ]
  },
  {
   "cell_type": "markdown",
   "metadata": {},
   "source": [
    "## Removing rows with null columns\n",
    "\n",
    "We will be removing rows with null for: ad_creation_date, ad_spend, ad_targeting_age, ad_impressions and ad_clicks. Our first step will be to create a dictionary which can keep track of the number of rows remaining after a given operiation. We will be using this dictionary when summarizing the cleaning of the dataset and its repercussions on our analysis. We then create a function which remove the null values for a column name and adds the row count after removal to our summary dictionary."
   ]
  },
  {
   "cell_type": "code",
   "execution_count": 4,
   "metadata": {},
   "outputs": [],
   "source": [
    "# Dictionary to keep track of row removals\n",
    "cleaning_summary_format = {'before_cleaning_count': len(ads_df)}\n",
    "\n",
    "# Function to remove null rows for a given column\n",
    "def remove_nulls(ads_df, column_name):\n",
    "    # np.where returns a tuple, we want the first member (the indexes of rows)\n",
    "    null_indexes = np.where(pd.isnull(ads_df[column_name]))[0]\n",
    "    # We drop the list of indexes\n",
    "    ads_df = ads_df.drop(null_indexes)\n",
    "    # We add the entry to our summary\n",
    "    cleaning_summary_format['null_' + column_name + '_count'] = len(ads_df)\n",
    "    return ads_df\n",
    "\n",
    "# We remove nulls for given columns\n",
    "ads_df = remove_nulls(ads_df, 'ad_creation_date')\n",
    "ads_df = remove_nulls(ads_df, 'ad_spend')\n",
    "ads_df = remove_nulls(ads_df, 'ad_targeting_age')\n",
    "ads_df = remove_nulls(ads_df, 'ad_impressions')\n",
    "ads_df = remove_nulls(ads_df, 'ad_clicks')"
   ]
  },
  {
   "cell_type": "code",
   "execution_count": 5,
   "metadata": {},
   "outputs": [
    {
     "name": "stdout",
     "output_type": "stream",
     "text": [
      "Before cleaning our dataset had 3517 columns.\n",
      "After removing rows with null creation dates: 3497 columns.\n",
      "After removing rows with null ad spending: 3497 columns.\n",
      "After removing rows with null ad targeting age: 3497 columns.\n",
      "After removing rows with null ad impressions: 3497 columns.\n",
      "After removing rows with null ad clicks: 3497 columns.\n"
     ]
    }
   ],
   "source": [
    "print('''Before cleaning our dataset had {before_cleaning_count} columns.\n",
    "After removing rows with null creation dates: {null_ad_creation_date_count} columns.\n",
    "After removing rows with null ad spending: {null_ad_spend_count} columns.\n",
    "After removing rows with null ad targeting age: {null_ad_targeting_age_count} columns.\n",
    "After removing rows with null ad impressions: {null_ad_impressions_count} columns.\n",
    "After removing rows with null ad clicks: {null_ad_clicks_count} columns.'''.format(**cleaning_summary_format))"
   ]
  },
  {
   "cell_type": "markdown",
   "metadata": {},
   "source": [
    "### Cleaning ad_age\n",
    "\n",
    "First we look at the values for the field and whether we will be able to leverage them in our analysis."
   ]
  },
  {
   "cell_type": "code",
   "execution_count": 6,
   "metadata": {},
   "outputs": [
    {
     "data": {
      "text/plain": [
       "Index(['18 - 65+', '16 - 65+', '18 - 54', '18 - 45', '18 - 65+ Gender: Male',\n",
       "       '18 - 51', '14 - 40', '13 - 65+', '18 - 50', '21 - 65+', '35 - 65+',\n",
       "       '14 - 65+', '13 - 30 Gender: Male', '15 - 25', '15 - 25 Gender: Female',\n",
       "       '18 - 59', '19 - 30', '16 - 45', '15 - 30', '13 - 45', '13 - 40',\n",
       "       '16 - 53', '14 - 54', '25 - 65+', '13 - 35', '14 - 40 Gender: Female',\n",
       "       '14 - 17 Gender: Female', '45 - 64 Gender: Male', '16 - 25',\n",
       "       '17 - 65+ Gender: Male', '18 - 60', '25 - 65+ Gender: Male', '24 - 45',\n",
       "       '16 - 40', '18 65+', '15 - 40', '15 - 54', '18 - 39', '30 - 65+',\n",
       "       '18 - 65+ Gender: Female', '16 - 55', '45 - 65+', '18 - 48', '13 - 44',\n",
       "       '20 - 45', '13 - 50', '20 - 65+', '13 - 60', '18 - 55', '24 - 65+',\n",
       "       '16 - 60', '15 - 65+', '18 - 61', '18 - 24', '15 - 26', '18- 51',\n",
       "       '16 - 54', '13 - 55', '15 - 25 Gender: Male', '16 - 50', '14 - 50',\n",
       "       '18 - 43', '13 - 42', '18 - 53', '20 - 35', '40 - 65+', '13 - 27',\n",
       "       '14 - 36', '17 - 61', '18 - 40'],\n",
       "      dtype='object')"
      ]
     },
     "execution_count": 6,
     "metadata": {},
     "output_type": "execute_result"
    }
   ],
   "source": [
    "ads_df.ad_targeting_age.value_counts().index"
   ]
  },
  {
   "cell_type": "markdown",
   "metadata": {},
   "source": [
    "The initial parsing for this field was not perfect... Let's simplify this bucketing by removing gender information. To do so let's crop the string at 8 characters."
   ]
  },
  {
   "cell_type": "code",
   "execution_count": 7,
   "metadata": {},
   "outputs": [
    {
     "data": {
      "text/html": [
       "<div>\n",
       "<style scoped>\n",
       "    .dataframe tbody tr th:only-of-type {\n",
       "        vertical-align: middle;\n",
       "    }\n",
       "\n",
       "    .dataframe tbody tr th {\n",
       "        vertical-align: top;\n",
       "    }\n",
       "\n",
       "    .dataframe thead th {\n",
       "        text-align: right;\n",
       "    }\n",
       "</style>\n",
       "<table border=\"1\" class=\"dataframe\">\n",
       "  <thead>\n",
       "    <tr style=\"text-align: right;\">\n",
       "      <th></th>\n",
       "      <th>Ad count</th>\n",
       "    </tr>\n",
       "  </thead>\n",
       "  <tbody>\n",
       "    <tr>\n",
       "      <th>18 - 65+</th>\n",
       "      <td>2347</td>\n",
       "    </tr>\n",
       "    <tr>\n",
       "      <th>16 - 65+</th>\n",
       "      <td>356</td>\n",
       "    </tr>\n",
       "    <tr>\n",
       "      <th>18 - 54</th>\n",
       "      <td>123</td>\n",
       "    </tr>\n",
       "    <tr>\n",
       "      <th>18 - 45</th>\n",
       "      <td>71</td>\n",
       "    </tr>\n",
       "    <tr>\n",
       "      <th>18 - 51</th>\n",
       "      <td>48</td>\n",
       "    </tr>\n",
       "  </tbody>\n",
       "</table>\n",
       "</div>"
      ],
      "text/plain": [
       "          Ad count\n",
       "18 - 65+      2347\n",
       "16 - 65+       356\n",
       "18 - 54        123\n",
       "18 - 45         71\n",
       "18 - 51         48"
      ]
     },
     "execution_count": 7,
     "metadata": {},
     "output_type": "execute_result"
    }
   ],
   "source": [
    "# Crop the ad_targeting_age to 8 characters\n",
    "ads_df.ad_targeting_age = ads_df.ad_targeting_age.apply(lambda s: s if len(s)<=8 else s[0:8])\n",
    "\n",
    "# Count rows for the different values\n",
    "count_table = ads_df.ad_targeting_age.value_counts().to_frame()\n",
    "\n",
    "# Rename the column for clarity\n",
    "count_table.columns = ['Ad count']\n",
    "\n",
    "# Output top 5\n",
    "count_table.head(5)"
   ]
  },
  {
   "cell_type": "markdown",
   "metadata": {},
   "source": [
    "As per this table, almost all ads targeted voting age facebook users (18+). Bucketing the ads by age groups will not result in significant/interesting analysis. We drop the column."
   ]
  },
  {
   "cell_type": "code",
   "execution_count": 8,
   "metadata": {},
   "outputs": [],
   "source": [
    "ads_df = ads_df.drop(columns=['ad_targeting_age'])"
   ]
  },
  {
   "cell_type": "markdown",
   "metadata": {},
   "source": [
    "### Cleaning ad_impressions and ad_clicks\n",
    "\n",
    "Both these columns are numerical and do not contain None and or NaN values. The Oxford and the multiple university studies, mention that ads without impressions or clicks where unlikely to have been shown to Facebook users.\n",
    "\n",
    "* We will first be parsing these fields that sometimes use . or , to separate thousands.\n",
    "* We will then remove 0 values.\n",
    "\n",
    "The studies mention that this removed quite a few entries."
   ]
  },
  {
   "cell_type": "code",
   "execution_count": 9,
   "metadata": {},
   "outputs": [],
   "source": [
    "# Parsing of string to integer\n",
    "def format_string_to_integer(string):\n",
    "    # Removing dots and commas and semicolons\n",
    "    s = string.replace(',', '').replace('.', '').replace(';', '')\n",
    "    \n",
    "    # Removing typos betwee o, O (lower, upper letter o) and 0 (zero digit)\n",
    "    s = s.replace('o', '0').replace('O', '0')\n",
    "    \n",
    "    # Accidental whitespace\n",
    "    s = s.replace(' ', '')\n",
    "    \n",
    "    # Coerce string to integer\n",
    "    return int(s)\n",
    "\n",
    "# Remvoe rows with 0s and adds count after removal to summary\n",
    "def remove_zeros(ads_df, column_name):\n",
    "    ads_df = ads_df[ads_df[column_name] != 0]\n",
    "    cleaning_summary_format['zeros_' + column_name + '_count'] = len(ads_df)\n",
    "    return ads_df"
   ]
  },
  {
   "cell_type": "code",
   "execution_count": 10,
   "metadata": {},
   "outputs": [
    {
     "name": "stdout",
     "output_type": "stream",
     "text": [
      "Before removing 0 ad_impressions or ad_clicks our dataset had 3497 columns.\n",
      "After removing rows with 0 ad impressions: 2588 columns.\n",
      "After removing rows with 0 ad clicks: 2450 columns.\n"
     ]
    }
   ],
   "source": [
    "# How many columns do we have before removing zeros\n",
    "cleaning_summary_format['before_zeros_count'] = len(ads_df)\n",
    "\n",
    "# Conversion to integers\n",
    "ads_df['ad_clicks'] = ads_df['ad_clicks'].apply(format_string_to_integer)\n",
    "ads_df['ad_impressions'] = ads_df['ad_impressions'].apply(format_string_to_integer)\n",
    "\n",
    "# Removing zeros values\n",
    "ads_df = remove_zeros(ads_df, 'ad_impressions')\n",
    "ads_df = remove_zeros(ads_df, 'ad_clicks')\n",
    "\n",
    "# Reporting\n",
    "print('''Before removing 0 ad_impressions or ad_clicks our dataset had {before_zeros_count} columns.\n",
    "After removing rows with 0 ad impressions: {zeros_ad_impressions_count} columns.\n",
    "After removing rows with 0 ad clicks: {zeros_ad_clicks_count} columns.'''.format(**cleaning_summary_format))"
   ]
  },
  {
   "cell_type": "markdown",
   "metadata": {},
   "source": [
    "### Parsing creation date and end date\n",
    "\n",
    "Creation date and end date are written in a complex format: 04/13/16 07:48:33 AM PDT. Our analysis only requires a subset of this information, the date. In this section we will extract the first 8 characters mm/dd/yy and convert them to a datetime object. Let's take a look at the entries:"
   ]
  },
  {
   "cell_type": "code",
   "execution_count": 11,
   "metadata": {},
   "outputs": [
    {
     "data": {
      "text/plain": [
       "1        04/21/17 07:42:45 AM PDT\n",
       "2        04/13/17 04:40:03 AM PDT\n",
       "5        05/29/17 12:29:07 AM PDT\n",
       "6       08/18/16 08:31 :16 AM PDT\n",
       "7        05/21/17 07:27:26 AM PDT\n",
       "                  ...            \n",
       "3511      04/13/17 0&14:34 AM PDT\n",
       "3512    11 /18/16 08:22:22 AM PST\n",
       "3513     01/24/17 06:08:31 AM PST\n",
       "3515     02/07/17 04:30:54 AM PST\n",
       "3516     02/22/17 06:49:48 AM PST\n",
       "Name: ad_creation_date, Length: 2450, dtype: object"
      ]
     },
     "execution_count": 11,
     "metadata": {},
     "output_type": "execute_result"
    }
   ],
   "source": [
    "ads_df['ad_creation_date']"
   ]
  },
  {
   "cell_type": "markdown",
   "metadata": {},
   "source": [
    "We find that sometimes the first few characters contain spaces. We write a regular expression for this and apply the removal of these white space part of a function. We also need to complete the year to be 4 characters for later date parsing."
   ]
  },
  {
   "cell_type": "code",
   "execution_count": 12,
   "metadata": {},
   "outputs": [],
   "source": [
    "# We first compile our date extraction regex to improve performance\n",
    "date_regex = re.compile(r'(?P<date>\\d\\s*\\d\\s*\\/\\s*\\d\\s*\\d\\s*\\/\\s*\\d\\s*\\d)')\n",
    "\n",
    "# Given a string beginning with mm/dd/yy we produce mm/dd/YYYY\n",
    "# Function returns 'parse_error' on failure to parse and null if the\n",
    "# input string was null\n",
    "def extract_date_from_string(string):\n",
    "    matches = None\n",
    "    date = None\n",
    "    \n",
    "    # If the string is not null attempt to find matches\n",
    "    if not pd.isnull(string):\n",
    "        matches = date_regex.search(string)\n",
    "    else:\n",
    "        # null value for string in pandas\n",
    "        date = np.nan    \n",
    "\n",
    "    # If the ?P<date> group was found\n",
    "    if matches and matches.groupdict():\n",
    "        group_dict = matches.groupdict()\n",
    "        date = group_dict.get('date')\n",
    "        if date:\n",
    "            # Remove whitespace\n",
    "            date = date.replace(' ', '')\n",
    "            # We prefix '20' to the year to make 01/01/17 -> 01/01/2017\n",
    "            date = date[:6] + '20' + date[6:]\n",
    "    \n",
    "    # We identify parsing errors with the 'parse_error'\n",
    "    return date if date else 'parse_error'"
   ]
  },
  {
   "cell_type": "markdown",
   "metadata": {},
   "source": [
    "We apply the function to every row and create a new column: 'ad_creation_date_parsed'"
   ]
  },
  {
   "cell_type": "code",
   "execution_count": 13,
   "metadata": {},
   "outputs": [],
   "source": [
    "ads_df['ad_creation_date_parsed'] = ads_df.ad_creation_date.apply(extract_date_from_string)"
   ]
  },
  {
   "cell_type": "markdown",
   "metadata": {},
   "source": [
    "We check how many dates could not be parsed:"
   ]
  },
  {
   "cell_type": "code",
   "execution_count": 14,
   "metadata": {
    "scrolled": false
   },
   "outputs": [
    {
     "data": {
      "text/plain": [
       "1"
      ]
     },
     "execution_count": 14,
     "metadata": {},
     "output_type": "execute_result"
    }
   ],
   "source": [
    "(ads_df['ad_creation_date_parsed'] == 'parse_error').sum()"
   ]
  },
  {
   "cell_type": "markdown",
   "metadata": {},
   "source": [
    "Since only one date could not be parsed we validate its value:"
   ]
  },
  {
   "cell_type": "code",
   "execution_count": 15,
   "metadata": {},
   "outputs": [
    {
     "data": {
      "text/html": [
       "<div>\n",
       "<style scoped>\n",
       "    .dataframe tbody tr th:only-of-type {\n",
       "        vertical-align: middle;\n",
       "    }\n",
       "\n",
       "    .dataframe tbody tr th {\n",
       "        vertical-align: top;\n",
       "    }\n",
       "\n",
       "    .dataframe thead th {\n",
       "        text-align: right;\n",
       "    }\n",
       "</style>\n",
       "<table border=\"1\" class=\"dataframe\">\n",
       "  <thead>\n",
       "    <tr style=\"text-align: right;\">\n",
       "      <th></th>\n",
       "      <th>file_name</th>\n",
       "      <th>ad_targeting_interests</th>\n",
       "      <th>ad_targeting_people_who_match</th>\n",
       "      <th>ad_impressions</th>\n",
       "      <th>ad_clicks</th>\n",
       "      <th>ad_spend</th>\n",
       "      <th>ad_creation_date</th>\n",
       "      <th>ad_end_date</th>\n",
       "      <th>ad_creation_date_parsed</th>\n",
       "    </tr>\n",
       "  </thead>\n",
       "  <tbody>\n",
       "    <tr>\n",
       "      <th>1340</th>\n",
       "      <td>P(1)0005330.txt</td>\n",
       "      <td>Veterans, United States Department of Veterans...</td>\n",
       "      <td>NaN</td>\n",
       "      <td>15</td>\n",
       "      <td>2</td>\n",
       "      <td>50.06 RUB</td>\n",
       "      <td>02/21117 01:13:46 AM PST</td>\n",
       "      <td>NaN</td>\n",
       "      <td>parse_error</td>\n",
       "    </tr>\n",
       "  </tbody>\n",
       "</table>\n",
       "</div>"
      ],
      "text/plain": [
       "            file_name                             ad_targeting_interests  \\\n",
       "1340  P(1)0005330.txt  Veterans, United States Department of Veterans...   \n",
       "\n",
       "     ad_targeting_people_who_match  ad_impressions  ad_clicks   ad_spend  \\\n",
       "1340                           NaN              15          2  50.06 RUB   \n",
       "\n",
       "              ad_creation_date ad_end_date ad_creation_date_parsed  \n",
       "1340  02/21117 01:13:46 AM PST         NaN             parse_error  "
      ]
     },
     "execution_count": 15,
     "metadata": {},
     "output_type": "execute_result"
    }
   ],
   "source": [
    "row = ads_df[ads_df['ad_creation_date_parsed'] == 'parse_error']\n",
    "row"
   ]
  },
  {
   "cell_type": "markdown",
   "metadata": {},
   "source": [
    "In this case the date should be 02/21/2017. An l was mistaken to a 1. We replace it manually."
   ]
  },
  {
   "cell_type": "code",
   "execution_count": 16,
   "metadata": {},
   "outputs": [
    {
     "data": {
      "text/html": [
       "<div>\n",
       "<style scoped>\n",
       "    .dataframe tbody tr th:only-of-type {\n",
       "        vertical-align: middle;\n",
       "    }\n",
       "\n",
       "    .dataframe tbody tr th {\n",
       "        vertical-align: top;\n",
       "    }\n",
       "\n",
       "    .dataframe thead th {\n",
       "        text-align: right;\n",
       "    }\n",
       "</style>\n",
       "<table border=\"1\" class=\"dataframe\">\n",
       "  <thead>\n",
       "    <tr style=\"text-align: right;\">\n",
       "      <th></th>\n",
       "      <th>file_name</th>\n",
       "      <th>ad_targeting_interests</th>\n",
       "      <th>ad_targeting_people_who_match</th>\n",
       "      <th>ad_impressions</th>\n",
       "      <th>ad_clicks</th>\n",
       "      <th>ad_spend</th>\n",
       "      <th>ad_creation_date</th>\n",
       "      <th>ad_end_date</th>\n",
       "      <th>ad_creation_date_parsed</th>\n",
       "    </tr>\n",
       "  </thead>\n",
       "  <tbody>\n",
       "    <tr>\n",
       "      <th>1340</th>\n",
       "      <td>P(1)0005330.txt</td>\n",
       "      <td>Veterans, United States Department of Veterans...</td>\n",
       "      <td>NaN</td>\n",
       "      <td>15</td>\n",
       "      <td>2</td>\n",
       "      <td>50.06 RUB</td>\n",
       "      <td>02/21117 01:13:46 AM PST</td>\n",
       "      <td>NaN</td>\n",
       "      <td>02/21/2017</td>\n",
       "    </tr>\n",
       "  </tbody>\n",
       "</table>\n",
       "</div>"
      ],
      "text/plain": [
       "            file_name                             ad_targeting_interests  \\\n",
       "1340  P(1)0005330.txt  Veterans, United States Department of Veterans...   \n",
       "\n",
       "     ad_targeting_people_who_match  ad_impressions  ad_clicks   ad_spend  \\\n",
       "1340                           NaN              15          2  50.06 RUB   \n",
       "\n",
       "              ad_creation_date ad_end_date ad_creation_date_parsed  \n",
       "1340  02/21117 01:13:46 AM PST         NaN              02/21/2017  "
      ]
     },
     "execution_count": 16,
     "metadata": {},
     "output_type": "execute_result"
    }
   ],
   "source": [
    "ads_df.loc[row.index, 'ad_creation_date_parsed'] = '02/21/2017'\n",
    "ads_df.loc[row.index]"
   ]
  },
  {
   "cell_type": "markdown",
   "metadata": {},
   "source": [
    "Now that all dates have been parsed, we replace the original column with the parsed one and remove the temporary parsed column. Since no columns were lost in the process we will not be adding an entry to the summary."
   ]
  },
  {
   "cell_type": "code",
   "execution_count": 17,
   "metadata": {},
   "outputs": [],
   "source": [
    "# Replace original column with parsed\n",
    "ads_df['ad_creation_date'] = ads_df['ad_creation_date_parsed']\n",
    "\n",
    "# Drop temporary parsed column\n",
    "ads_df = ads_df.drop(columns=['ad_creation_date_parsed'])"
   ]
  },
  {
   "cell_type": "markdown",
   "metadata": {},
   "source": [
    "We now execute the same steps for the end date."
   ]
  },
  {
   "cell_type": "code",
   "execution_count": 18,
   "metadata": {},
   "outputs": [],
   "source": [
    "ads_df['ad_end_date_parsed'] = ads_df.ad_end_date.apply(extract_date_from_string)"
   ]
  },
  {
   "cell_type": "markdown",
   "metadata": {},
   "source": [
    "We check how many dates could not be parsed:"
   ]
  },
  {
   "cell_type": "code",
   "execution_count": 19,
   "metadata": {},
   "outputs": [
    {
     "data": {
      "text/plain": [
       "0"
      ]
     },
     "execution_count": 19,
     "metadata": {},
     "output_type": "execute_result"
    }
   ],
   "source": [
    "(ads_df['ad_end_date_parsed'] == 'parse_error').sum()"
   ]
  },
  {
   "cell_type": "code",
   "execution_count": 20,
   "metadata": {},
   "outputs": [],
   "source": [
    "ads_df['ad_end_date'] = ads_df['ad_end_date_parsed']\n",
    "ads_df = ads_df.drop(columns=['ad_end_date_parsed'])"
   ]
  },
  {
   "cell_type": "markdown",
   "metadata": {},
   "source": [
    "Now that both ad_start_date and ad_end_date are properly parsed strings, we can apply a pandas function to transform them into datetime objects. This will make date handling easier during our analysis."
   ]
  },
  {
   "cell_type": "code",
   "execution_count": 21,
   "metadata": {},
   "outputs": [
    {
     "data": {
      "text/html": [
       "<div>\n",
       "<style scoped>\n",
       "    .dataframe tbody tr th:only-of-type {\n",
       "        vertical-align: middle;\n",
       "    }\n",
       "\n",
       "    .dataframe tbody tr th {\n",
       "        vertical-align: top;\n",
       "    }\n",
       "\n",
       "    .dataframe thead th {\n",
       "        text-align: right;\n",
       "    }\n",
       "</style>\n",
       "<table border=\"1\" class=\"dataframe\">\n",
       "  <thead>\n",
       "    <tr style=\"text-align: right;\">\n",
       "      <th></th>\n",
       "      <th>file_name</th>\n",
       "      <th>ad_targeting_interests</th>\n",
       "      <th>ad_targeting_people_who_match</th>\n",
       "      <th>ad_impressions</th>\n",
       "      <th>ad_clicks</th>\n",
       "      <th>ad_spend</th>\n",
       "      <th>ad_creation_date</th>\n",
       "      <th>ad_end_date</th>\n",
       "    </tr>\n",
       "  </thead>\n",
       "  <tbody>\n",
       "    <tr>\n",
       "      <th>1</th>\n",
       "      <td>P(1)0002823.txt</td>\n",
       "      <td>NaN</td>\n",
       "      <td>Interests: Pan-Africanism, African-American Ci...</td>\n",
       "      <td>10496</td>\n",
       "      <td>1823</td>\n",
       "      <td>200.00 RUB</td>\n",
       "      <td>2017-04-21</td>\n",
       "      <td>2017-04-22</td>\n",
       "    </tr>\n",
       "    <tr>\n",
       "      <th>2</th>\n",
       "      <td>P(1)0002837.txt</td>\n",
       "      <td>NaN</td>\n",
       "      <td>Interests: Pan-Africanism, African-American Ci...</td>\n",
       "      <td>16305</td>\n",
       "      <td>1337</td>\n",
       "      <td>499.49 RUB</td>\n",
       "      <td>2017-04-13</td>\n",
       "      <td>2017-04-14</td>\n",
       "    </tr>\n",
       "    <tr>\n",
       "      <th>5</th>\n",
       "      <td>P(1)0006304.txt</td>\n",
       "      <td>NaN</td>\n",
       "      <td>Interests: Martin Luther King, Jr., Stop Racis...</td>\n",
       "      <td>8210</td>\n",
       "      <td>1788</td>\n",
       "      <td>1,570.03 RUB</td>\n",
       "      <td>2017-05-29</td>\n",
       "      <td>2017-05-29</td>\n",
       "    </tr>\n",
       "  </tbody>\n",
       "</table>\n",
       "</div>"
      ],
      "text/plain": [
       "         file_name ad_targeting_interests  \\\n",
       "1  P(1)0002823.txt                    NaN   \n",
       "2  P(1)0002837.txt                    NaN   \n",
       "5  P(1)0006304.txt                    NaN   \n",
       "\n",
       "                       ad_targeting_people_who_match  ad_impressions  \\\n",
       "1  Interests: Pan-Africanism, African-American Ci...           10496   \n",
       "2  Interests: Pan-Africanism, African-American Ci...           16305   \n",
       "5  Interests: Martin Luther King, Jr., Stop Racis...            8210   \n",
       "\n",
       "   ad_clicks      ad_spend ad_creation_date ad_end_date  \n",
       "1       1823    200.00 RUB       2017-04-21  2017-04-22  \n",
       "2       1337    499.49 RUB       2017-04-13  2017-04-14  \n",
       "5       1788  1,570.03 RUB       2017-05-29  2017-05-29  "
      ]
     },
     "execution_count": 21,
     "metadata": {},
     "output_type": "execute_result"
    }
   ],
   "source": [
    "ads_df.ad_creation_date = ads_df.ad_creation_date.apply(lambda date_string : pd.to_datetime(date_string, format='%m/%d/%Y'))\n",
    "ads_df.ad_end_date = ads_df.ad_end_date.apply(lambda date_string : pd.to_datetime(date_string, format='%m/%d/%Y'))\n",
    "\n",
    "# Output first 3 rows\n",
    "ads_df.head(3)"
   ]
  },
  {
   "cell_type": "markdown",
   "metadata": {},
   "source": [
    "### Parsing ad_spend\n",
    "\n",
    "Sometimes the ad_spend field contains spaces, dots instead of commas to seperate thousands and the 'RUB' currency shorthand. We use a regular expression to extract the amount of the ad_spend field. We then convert the string to a float."
   ]
  },
  {
   "cell_type": "code",
   "execution_count": 22,
   "metadata": {},
   "outputs": [
    {
     "data": {
      "text/plain": [
       "1          200.00 RUB\n",
       "2          499.49 RUB\n",
       "5        1,570.03 RUB\n",
       "6       3, 106.28 RUB\n",
       "7          600.00 RUB\n",
       "            ...      \n",
       "3511       199.96 RUB\n",
       "3512       500.00 RUB\n",
       "3513       401.61 RUB\n",
       "3515       300.00 RUB\n",
       "3516       500.00 RUB\n",
       "Name: ad_spend, Length: 2450, dtype: object"
      ]
     },
     "execution_count": 22,
     "metadata": {},
     "output_type": "execute_result"
    }
   ],
   "source": [
    "ads_df['ad_spend']"
   ]
  },
  {
   "cell_type": "code",
   "execution_count": 23,
   "metadata": {},
   "outputs": [],
   "source": [
    "# Pre compile regex for performance\n",
    "amount_regex = re.compile(r'(?P<amount>([0-9]{1,3}(\\.|,)?)+(\\.|,)?[0-9]{2})')\n",
    "\n",
    "# Function returns 'parse_error' on failure to parse and null if the\n",
    "# input string was null or the string 'None'\n",
    "def extract_amount_from_string(string):\n",
    "    matches = None\n",
    "    amount = None\n",
    "    \n",
    "    # If the string is not null or 'None' search for matches\n",
    "    if not pd.isnull(string) and string != 'None':\n",
    "        matches = amount_regex.search(string)\n",
    "    else:\n",
    "        # null value for string in pandas\n",
    "        amount = np.nan\n",
    "\n",
    "    # If the amount was found\n",
    "    if matches and matches.groupdict():\n",
    "        group_dict = matches.groupdict()\n",
    "        amount = group_dict.get('amount')\n",
    "        if amount:\n",
    "            # Remove whitespace\n",
    "            amount = amount.replace(' ', '')\n",
    "            \n",
    "            # Remove dots and commas\n",
    "            amount = amount.replace('.', '').replace(',', '')\n",
    "            \n",
    "            # Add a dot two digits form the end\n",
    "            amount = amount[:-2] + '.' + amount[-2:]\n",
    "    \n",
    "    # Return a parse_error if amount parsing failed\n",
    "    return amount if amount else 'parse_error'"
   ]
  },
  {
   "cell_type": "markdown",
   "metadata": {},
   "source": [
    "We run the function over our dataset and output the number of parsing errors we've encountered."
   ]
  },
  {
   "cell_type": "code",
   "execution_count": 24,
   "metadata": {},
   "outputs": [
    {
     "data": {
      "text/plain": [
       "0"
      ]
     },
     "execution_count": 24,
     "metadata": {},
     "output_type": "execute_result"
    }
   ],
   "source": [
    "ads_df['ad_spend_parsed'] = ads_df.ad_spend.apply(extract_amount_from_string)\n",
    "(ads_df['ad_spend_parsed'] == 'parse_error').sum()"
   ]
  },
  {
   "cell_type": "markdown",
   "metadata": {},
   "source": [
    "We validate nan values and remove them from the dataset."
   ]
  },
  {
   "cell_type": "code",
   "execution_count": 25,
   "metadata": {},
   "outputs": [
    {
     "name": "stdout",
     "output_type": "stream",
     "text": [
      "There are a total of 8 nan values.\n"
     ]
    }
   ],
   "source": [
    "cleaning_summary_format['none_ad_spend_count'] = (~pd.isnull(ads_df['ad_spend_parsed'])).sum()\n",
    "print('There are a total of ' + str(pd.isnull(ads_df['ad_spend_parsed']).sum()) + ' nan values.')"
   ]
  },
  {
   "cell_type": "code",
   "execution_count": 26,
   "metadata": {},
   "outputs": [
    {
     "data": {
      "text/html": [
       "<div>\n",
       "<style scoped>\n",
       "    .dataframe tbody tr th:only-of-type {\n",
       "        vertical-align: middle;\n",
       "    }\n",
       "\n",
       "    .dataframe tbody tr th {\n",
       "        vertical-align: top;\n",
       "    }\n",
       "\n",
       "    .dataframe thead th {\n",
       "        text-align: right;\n",
       "    }\n",
       "</style>\n",
       "<table border=\"1\" class=\"dataframe\">\n",
       "  <thead>\n",
       "    <tr style=\"text-align: right;\">\n",
       "      <th></th>\n",
       "      <th>file_name</th>\n",
       "      <th>ad_targeting_interests</th>\n",
       "      <th>ad_targeting_people_who_match</th>\n",
       "      <th>ad_impressions</th>\n",
       "      <th>ad_clicks</th>\n",
       "      <th>ad_spend</th>\n",
       "      <th>ad_creation_date</th>\n",
       "      <th>ad_end_date</th>\n",
       "      <th>ad_spend_parsed</th>\n",
       "    </tr>\n",
       "  </thead>\n",
       "  <tbody>\n",
       "    <tr>\n",
       "      <th>174</th>\n",
       "      <td>P(1)0006107.txt</td>\n",
       "      <td>NaN</td>\n",
       "      <td>Interests: Music or Rock music And Must Also M...</td>\n",
       "      <td>281</td>\n",
       "      <td>1</td>\n",
       "      <td>None</td>\n",
       "      <td>2016-05-10</td>\n",
       "      <td>NaT</td>\n",
       "      <td>NaN</td>\n",
       "    </tr>\n",
       "    <tr>\n",
       "      <th>604</th>\n",
       "      <td>P(1)0006115.txt</td>\n",
       "      <td>NaN</td>\n",
       "      <td>Interests: Music or Rock music And Must Also M...</td>\n",
       "      <td>327</td>\n",
       "      <td>1</td>\n",
       "      <td>None</td>\n",
       "      <td>2016-05-10</td>\n",
       "      <td>NaT</td>\n",
       "      <td>NaN</td>\n",
       "    </tr>\n",
       "    <tr>\n",
       "      <th>934</th>\n",
       "      <td>P(1)0006011.txt</td>\n",
       "      <td>NaN</td>\n",
       "      <td>Behaviors: Facebook access (browser): Chrome A...</td>\n",
       "      <td>404</td>\n",
       "      <td>1</td>\n",
       "      <td>None</td>\n",
       "      <td>2016-05-12</td>\n",
       "      <td>NaT</td>\n",
       "      <td>NaN</td>\n",
       "    </tr>\n",
       "    <tr>\n",
       "      <th>1137</th>\n",
       "      <td>P(1)0003195.txt</td>\n",
       "      <td>NaN</td>\n",
       "      <td>Interests: Immigration or Conservatism</td>\n",
       "      <td>100</td>\n",
       "      <td>2</td>\n",
       "      <td>None</td>\n",
       "      <td>2016-01-14</td>\n",
       "      <td>NaT</td>\n",
       "      <td>NaN</td>\n",
       "    </tr>\n",
       "    <tr>\n",
       "      <th>1887</th>\n",
       "      <td>P(1)0003175.txt</td>\n",
       "      <td>NaN</td>\n",
       "      <td>NaN</td>\n",
       "      <td>277</td>\n",
       "      <td>5</td>\n",
       "      <td>None</td>\n",
       "      <td>2016-03-10</td>\n",
       "      <td>NaT</td>\n",
       "      <td>NaN</td>\n",
       "    </tr>\n",
       "    <tr>\n",
       "      <th>2772</th>\n",
       "      <td>P(1)0005995.txt</td>\n",
       "      <td>NaN</td>\n",
       "      <td>Behaviors: Facebook access (browser): Chrome A...</td>\n",
       "      <td>277</td>\n",
       "      <td>1</td>\n",
       "      <td>None</td>\n",
       "      <td>2016-05-12</td>\n",
       "      <td>NaT</td>\n",
       "      <td>NaN</td>\n",
       "    </tr>\n",
       "    <tr>\n",
       "      <th>3013</th>\n",
       "      <td>P(1)0006045.txt</td>\n",
       "      <td>NaN</td>\n",
       "      <td>Behaviors: Facebook access (browser): Chrome A...</td>\n",
       "      <td>251</td>\n",
       "      <td>1</td>\n",
       "      <td>None</td>\n",
       "      <td>2016-05-12</td>\n",
       "      <td>NaT</td>\n",
       "      <td>NaN</td>\n",
       "    </tr>\n",
       "    <tr>\n",
       "      <th>3313</th>\n",
       "      <td>P(1)0001473.txt</td>\n",
       "      <td>NaN</td>\n",
       "      <td>Interests: BlackNews.com, Black (Color) or Huf...</td>\n",
       "      <td>52</td>\n",
       "      <td>1</td>\n",
       "      <td>None</td>\n",
       "      <td>2016-01-14</td>\n",
       "      <td>NaT</td>\n",
       "      <td>NaN</td>\n",
       "    </tr>\n",
       "  </tbody>\n",
       "</table>\n",
       "</div>"
      ],
      "text/plain": [
       "            file_name ad_targeting_interests  \\\n",
       "174   P(1)0006107.txt                    NaN   \n",
       "604   P(1)0006115.txt                    NaN   \n",
       "934   P(1)0006011.txt                    NaN   \n",
       "1137  P(1)0003195.txt                    NaN   \n",
       "1887  P(1)0003175.txt                    NaN   \n",
       "2772  P(1)0005995.txt                    NaN   \n",
       "3013  P(1)0006045.txt                    NaN   \n",
       "3313  P(1)0001473.txt                    NaN   \n",
       "\n",
       "                          ad_targeting_people_who_match  ad_impressions  \\\n",
       "174   Interests: Music or Rock music And Must Also M...             281   \n",
       "604   Interests: Music or Rock music And Must Also M...             327   \n",
       "934   Behaviors: Facebook access (browser): Chrome A...             404   \n",
       "1137             Interests: Immigration or Conservatism             100   \n",
       "1887                                                NaN             277   \n",
       "2772  Behaviors: Facebook access (browser): Chrome A...             277   \n",
       "3013  Behaviors: Facebook access (browser): Chrome A...             251   \n",
       "3313  Interests: BlackNews.com, Black (Color) or Huf...              52   \n",
       "\n",
       "      ad_clicks ad_spend ad_creation_date ad_end_date ad_spend_parsed  \n",
       "174           1     None       2016-05-10         NaT             NaN  \n",
       "604           1     None       2016-05-10         NaT             NaN  \n",
       "934           1     None       2016-05-12         NaT             NaN  \n",
       "1137          2     None       2016-01-14         NaT             NaN  \n",
       "1887          5     None       2016-03-10         NaT             NaN  \n",
       "2772          1     None       2016-05-12         NaT             NaN  \n",
       "3013          1     None       2016-05-12         NaT             NaN  \n",
       "3313          1     None       2016-01-14         NaT             NaN  "
      ]
     },
     "execution_count": 26,
     "metadata": {},
     "output_type": "execute_result"
    }
   ],
   "source": [
    "ads_df[pd.isnull(ads_df['ad_spend_parsed'])]"
   ]
  },
  {
   "cell_type": "code",
   "execution_count": 27,
   "metadata": {},
   "outputs": [],
   "source": [
    "# Remove nulls\n",
    "ads_df = ads_df[~pd.isnull(ads_df['ad_spend_parsed'])]\n",
    "\n",
    "# Replace ad_spend with the parse column\n",
    "ads_df['ad_spend'] = ads_df['ad_spend_parsed']\n",
    "\n",
    "# Drop the parsed column\n",
    "ads_df = ads_df.drop(columns=['ad_spend_parsed'])"
   ]
  },
  {
   "cell_type": "markdown",
   "metadata": {},
   "source": [
    "We transform the ad_spend field from string into a float."
   ]
  },
  {
   "cell_type": "code",
   "execution_count": 28,
   "metadata": {},
   "outputs": [],
   "source": [
    "ads_df['ad_spend'] = ads_df['ad_spend'].astype(float)"
   ]
  },
  {
   "cell_type": "markdown",
   "metadata": {},
   "source": [
    "We validate that all values are positive and remove other values after validation."
   ]
  },
  {
   "cell_type": "code",
   "execution_count": 29,
   "metadata": {},
   "outputs": [
    {
     "name": "stdout",
     "output_type": "stream",
     "text": [
      "There are 2440 positive values and a total of 2442 entries.\n"
     ]
    }
   ],
   "source": [
    "print('There are ' + str((ads_df['ad_spend'] > 0).sum()) + ' positive values and a total of ' + str(len(ads_df)) + ' entries.')"
   ]
  },
  {
   "cell_type": "code",
   "execution_count": 30,
   "metadata": {},
   "outputs": [
    {
     "data": {
      "text/html": [
       "<div>\n",
       "<style scoped>\n",
       "    .dataframe tbody tr th:only-of-type {\n",
       "        vertical-align: middle;\n",
       "    }\n",
       "\n",
       "    .dataframe tbody tr th {\n",
       "        vertical-align: top;\n",
       "    }\n",
       "\n",
       "    .dataframe thead th {\n",
       "        text-align: right;\n",
       "    }\n",
       "</style>\n",
       "<table border=\"1\" class=\"dataframe\">\n",
       "  <thead>\n",
       "    <tr style=\"text-align: right;\">\n",
       "      <th></th>\n",
       "      <th>file_name</th>\n",
       "      <th>ad_targeting_interests</th>\n",
       "      <th>ad_targeting_people_who_match</th>\n",
       "      <th>ad_impressions</th>\n",
       "      <th>ad_clicks</th>\n",
       "      <th>ad_spend</th>\n",
       "      <th>ad_creation_date</th>\n",
       "      <th>ad_end_date</th>\n",
       "    </tr>\n",
       "  </thead>\n",
       "  <tbody>\n",
       "    <tr>\n",
       "      <th>843</th>\n",
       "      <td>P(1)0001447.txt</td>\n",
       "      <td>NaN</td>\n",
       "      <td>Interests: Black Tea Patriots, Black Knowledge...</td>\n",
       "      <td>39</td>\n",
       "      <td>1</td>\n",
       "      <td>0.0</td>\n",
       "      <td>2016-01-14</td>\n",
       "      <td>NaT</td>\n",
       "    </tr>\n",
       "    <tr>\n",
       "      <th>2109</th>\n",
       "      <td>P(1)0001588.txt</td>\n",
       "      <td>NaN</td>\n",
       "      <td>Interests: National Museum of American History...</td>\n",
       "      <td>47</td>\n",
       "      <td>1</td>\n",
       "      <td>0.0</td>\n",
       "      <td>2016-01-14</td>\n",
       "      <td>NaT</td>\n",
       "    </tr>\n",
       "  </tbody>\n",
       "</table>\n",
       "</div>"
      ],
      "text/plain": [
       "            file_name ad_targeting_interests  \\\n",
       "843   P(1)0001447.txt                    NaN   \n",
       "2109  P(1)0001588.txt                    NaN   \n",
       "\n",
       "                          ad_targeting_people_who_match  ad_impressions  \\\n",
       "843   Interests: Black Tea Patriots, Black Knowledge...              39   \n",
       "2109  Interests: National Museum of American History...              47   \n",
       "\n",
       "      ad_clicks  ad_spend ad_creation_date ad_end_date  \n",
       "843           1       0.0       2016-01-14         NaT  \n",
       "2109          1       0.0       2016-01-14         NaT  "
      ]
     },
     "execution_count": 30,
     "metadata": {},
     "output_type": "execute_result"
    }
   ],
   "source": [
    "cleaning_summary_format['non_positive_ad_spend_count'] = (ads_df['ad_spend'] > 0).sum()\n",
    "ads_df[ads_df['ad_spend'] <= 0]"
   ]
  },
  {
   "cell_type": "markdown",
   "metadata": {},
   "source": [
    "We remove the two entries with values equal to zero and print out the summary."
   ]
  },
  {
   "cell_type": "code",
   "execution_count": 31,
   "metadata": {},
   "outputs": [
    {
     "name": "stdout",
     "output_type": "stream",
     "text": [
      "Before formating ad_spend our dataset had 2450 columns.\n",
      "After removing rows with 'None': 2442 columns.\n",
      "After removing rows with 0 ad clicks: 2440 columns.\n"
     ]
    }
   ],
   "source": [
    "ads_df = ads_df[ads_df['ad_spend'] > 0]\n",
    "\n",
    "cleaning_summary_format['before_ad_spend_count'] = cleaning_summary_format['zeros_ad_clicks_count']\n",
    "\n",
    "# Reporting\n",
    "print('''Before formating ad_spend our dataset had {before_ad_spend_count} columns.\n",
    "After removing rows with 'None': {none_ad_spend_count} columns.\n",
    "After removing rows with 0 ad clicks: {non_positive_ad_spend_count} columns.'''.format(**cleaning_summary_format))"
   ]
  },
  {
   "cell_type": "markdown",
   "metadata": {},
   "source": [
    "### Parsing ad_targeting_interests & ad_targeting_people_who_match\n",
    "\n",
    "The ad_targeting_interests column is split between its own column and a portion of the ad_targeting_people_who_match column's string. To make treatment of this column simpler, our first step will be to extract the 'interest' portion of ad_targeting_people_who_match. We will then parse the ad_targeting_interests column and combine the result.\n",
    "\n",
    "First we take a look at ad_targeting_people_who_match for entries with and without 'Interests'. We will investigate those without 'Interests' first."
   ]
  },
  {
   "cell_type": "code",
   "execution_count": 32,
   "metadata": {},
   "outputs": [
    {
     "name": "stdout",
     "output_type": "stream",
     "text": [
      "People who like Don't Shoot, Friends of connections: Friends of people who are connected to Don't Shoot\n",
      "People who like Being Patriotic, Friends of connections: Friends of people who are connected to Being Patriotic\n",
      "People who like United Muslims of America, Friends of connections: Friends of people who are connected to United Muslims of America\n",
      "People who like Black Matters, Friends of connections: Friends of people who are connected to Black Matters\n",
      "People who like Black Matters. Friends of connections: Friends of people who are connected to Black Matters\n",
      "Politics: Likely to engage with political content (liberal)\n",
      "People who like LGBT United, Friends of connections: Friends of people who are connected to LGBT United\n",
      "People who like Black Matters, Friends of connections: Friends of people who are connected to Black Matters\n",
      "People who like LGBT United, Friends of connections: Friends of people who are connected to LGBT United\n",
      "Behaviors: African American (US)\n",
      "People who like LGBT United, Friends of connections: Friends of people who are connected to LGBT United\n",
      "People who like Black Matters, Friends of connections: Friends of people who are connected to Black Matters\n",
      "People who like Black Matters, Friends of connections: Friends of people who are connected to Black Matters\n",
      "People who like Being Patriotic, Friends of connections: Friends of people who are connected to Being Patriotic\n",
      "People who like Being Patriotic, Friends of connections: Friends of people who are connected to Being Patriotic\n",
      "People who like Blacktivist, Friends of connections: Friends of people who are connected to Blacktivist\n",
      "People who like Don't Shoot, Friends of connections: Friends of people who are connected to Don't Shoot\n",
      "People who like Being Patriotic, Friends of connections: Friends of people who are connected to Being Patriotic\n",
      "People who like Being Patriotic, Friends of connections: Friends of people who are connected to Being Patriotic\n",
      "People who like Being Patriotic, Friends of connections: Friends of people who are connected to Being Patriotic\n",
      "Behaviors: African American (US)\n",
      "People who like Black Matters, Friends of connections: Friends of people who are connected to Black Matters\n",
      "People who like Black Matters, Friends of connections: Friends of people who are connected to Black Matters\n",
      "People who like Black Matters, Friends of connections: Friends of people who are connected to Black Matters\n",
      "People who like LGBT United, Friends of connections: Friends of people who are connected to LGBT United\n",
      "People who like LGBT United, Friends of connections: Friends of people who are connected to LGBT United\n",
      "People who like LGBT United, Friends of connections: Friends of people who are connected to LGBT United\n",
      "People who like Black Matters. Friends of connections: Friends of people who are connected to Black Matters\n",
      "People who like LGBT United, Friends of connections: Friends of people who are connected to LGBT United\n",
      "People who like LGBT United, Friends of connections: Friends of people who are connected to LGBT United\n",
      "People who like Black Matters. Friends of connections: Friends of people who are connected to Black Matters\n",
      "People who like LGBT United, Friends of connections: Friends of people who are connected to LGBT United\n",
      "People who like Black Matters, Friends of connections: Friends of people who are connected to Black Matters\n",
      "People who like Black Matters, Friends of connections: Friends of people who are connected to Black Matters\n",
      "Politics: Likely to engage with political content (liberal)\n",
      "People who like Black Matters, Friends of connections: Friends of people who are connected to Black Matters\n",
      "People who like Blacktivist, Friends of connections: Friends of people who are connected to Blacktivist\n",
      "People who like Black Matters. Friends of connections: Friends of people who are connected to Black Matters\n",
      "People who like Black Matters, Friends of connections: Friends of people who are connected to Black Matters\n",
      "People who like Being Patriotic, Friends of connections: Friends of people who are connected to Being Patriotic\n",
      "People who like Being Patriotic, Friends of connections: Friends of people who are connected to Being Patriotic\n",
      "People who like Don't Shoot, Friends of connections: Friends of people who are connected to Don't Shoot\n",
      "People who like Black Matters, Friends of connections: Friends of people who are connected to Black Matters\n",
      "People who like Williams&Kalvin, Friends of connections: Friends of people who are connected to Williams&Kalvin\n",
      "People who like Don't Shoot, Friends of connections: Friends of people who are connected to Don't Shoot\n",
      "People who like Being Patriotic, Friends of connections: Friends of people who are connected to Being Patriotic\n",
      "People who like Black Matters, Friends of connections: Friends of people who are connected to Black Matters\n",
      "People who like Black Matters, Friends of connections: Friends of people who are connected to Black Matters\n",
      "People who like Black Matters. Friends of connections: Friends of people who are connected to Black Matters\n",
      "People who like LGBT United, Friends of connections: Friends of people who are connected to LGBT United\n",
      "People who like United Muslims of America, Friends of connections: Friends of people who are connected to United Muslims of America\n",
      "People who like Black Matters. Friends of connections: Friends of people who are connected to Black Matters\n",
      "Multicultural Affinity: African American (US)\n",
      "People who like Black Matters, Friends of connections: Friends of people who are connected to Black Matters\n",
      "People who like LGBT United, Friends of connections: Friends of people who are connected to LGBT United\n",
      "People who like LGBT United, Friends of connections: Friends of people who are connected to LGBT United\n",
      "People who like Black Matters. Friends of connections: Friends of people who are connected to Black Matters\n",
      "People who like Stop A.I., Friends of connections: Friends of people who are connected to Stop A.1.\n",
      "People who like LGBT United, Friends of connections: Friends of people who are connected to LGBT United\n",
      "People who like Black Matters, Friends of connections: Friends of people who are connected to Black Matters\n",
      "People who like Black Matters. Friends of connections: Friends of people who are connected to Black Matters\n",
      "People who like Blacktivist, Friends of connections: Friends of people who are connected to Blacktivist\n",
      "People who like Being Patriotic, Friends of connections: Friends of people who are connected to Being Patriotic\n",
      "Multicultural Affinity: African American (US)\n",
      "People who like Don't Shoot, Friends of connections: Friends of people who are connected to Don't Shoot\n",
      "Behaviors: African American (US)\n",
      "People who like Being Patriotic, Friends of connections: Friends of people who are connected to Being Patriotic\n",
      "People who like Being Patriotic, Friends of connections: Friends of people who are connected to Being Patriotic\n",
      "People who like Born Liberal, Friends of connections: Friends of people who are connected to Born Liberal\n",
      "People who like LGBT United, Friends of connections: Friends of people who are connected to LGBT United\n",
      "People who like Black Matters, Friends of connections: Friends of people who are connected to Black Matters\n",
      "People who like Black Matters, Friends of connections: Friends of people who are connected to Black Matters\n",
      "People who like LGBT United, Friends of connections: Friends of people who are connected to LGBT United\n",
      "People who like LGBT United, Friends of connections: Friends of people who are connected to LGBT United\n",
      "People who like Black Matters. Friends of connections: Friends of people who are connected to Black Matters\n",
      "People who like Black Matters, Friends of connections: Friends of people who are connected to Black Matters\n",
      "People who like Black Matters. Friends of connections: Friends of people who are connected to Black Matters\n",
      "People who like Black Matters. Friends of connections: Friends of people who are connected to Black Matters\n",
      "People who like Williams&Kalvin, Friends of connections.Friends of people who are connected to Williams&Kalvin\n",
      "People who like LGBT United, Friends of connections: Friends of people who are connected to LGBT United\n",
      "People who like Black Matters. Friends of connections: Friends of people who are connected to Black Matters\n",
      "People who like Black Matters, Friends of connections: Friends of people who are connected to Black Matters\n",
      "People who like Being Patriotic, Friends of connections: Friends of people who are connected to Being Patriotic\n",
      "People who like Being Patriotic, Friends of connections: Friends of people who are connected to Being Patriotic\n",
      "People who like Stop A.I., Friends of connections: Friends of people who are connected to Stop A.1.\n",
      "People who like Stop A.I.. Friends of connections: Friends of people who are connected to Stop A.1.\n",
      "People who like Don't Shoot, Friends of connections: Friends of people who are connected to Don't Shoot\n",
      "People who like Don't Shoot, Friends of connections: Friends of people who are connected to Don't Shoot\n",
      "People who like Black Matters, Friends of connections: Friends of people who are connected to Black Matters\n",
      "People who like Don't Shoot, Friends of connections: Friends of people who are connected to Don't Shoot\n",
      "People who like Black Matters, Friends of connections: Friends of people who are connected to Black Matters\n",
      "People who like Don't Shoot, Friends of connections: Friends of people who are connected to Don't Shoot\n",
      "People who like Being Patriotic, Friends of connections: Friends of people who are connected to Being Patriotic\n",
      "People who like Being Patriotic, Friends of connections: Friends of people who are connected to Being Patriotic\n",
      "People who like Being Patriotic, Friends of connections: Friends of people who are connected to Being Patriotic\n",
      "People who like Black Matters, Friends of connections: Friends of people who are connected to Black Matters\n",
      "People who like Black Matters, Friends of connections: Friends of people who are connected to Black Matters\n",
      "People who like Being Patriotic, Friends of connections: Friends of people who are connected to Being Patriotic\n",
      "People who like Being Patriotic, Friends of connections: Friends of people who are connected to Being Patriotic\n",
      "People who like Being Patriotic, Friends of connections: Friends of people who are connected to Being Patriotic\n",
      "People who like LGBT United, Friends of connections: Friends of people who are connected to LGBT United\n",
      "People who like Williams&Kalvin, Friends of connections: Friends of people who are connected to Williams&Kalvin\n",
      "People who like Being Patriotic, Friends of connections: Friends of people who are connected to Being Patriotic\n",
      "People who like LGBT United, Friends of connections: Friends of people who are connected to LGBT United\n",
      "People who like United Muslims of America, Friends of connections: Friends of people who are connected to United Muslims of America\n",
      "People who like LGBT United, Friends of connections: Friends of people who are connected to LGBT United\n",
      "People who like Black Matters, Friends of connections: Friends of people who are connected to Black Matters\n",
      "People who like Stop A.I., Friends of connections: Friends of people who are connected to Stop A.1.\n",
      "People who like Being Patriotic, Friends of connections: Friends of people who are connected to Being Patriotic\n",
      "People who like Black Matters, Friends of connections: Friends of people who are connected to Black Matters\n",
      "People who like LGBT United, Friends of connections: Friends of people who are connected to LGBT United\n",
      "People who like LGBT United, Friends of connections: Friends of people who are connected to LGBT United\n",
      "People who like Black Matters. Friends of connections: Friends of people who are connected to Black Matters\n",
      "People who like Don't Shoot, Friends of connections: Friends of people who are connected to Don't Shoot\n",
      "People who like Don't Shoot, Friends of connections: Friends of people who are connected to Don't Shoot\n",
      "People who like Don't Shoot, Friends of connections: Friends of people who are connected to Don't Shoot\n",
      "People who like Don't Shoot, Friends of connections: Friends of people who are connected to Don't Shoot\n",
      "People who like Black Matters, Friends of connections: Friends of people who are connected to Black Matters\n",
      "People who like Don't Shoot, Friends of connections: Friends of people who are connected to Don't Shoot\n",
      "People who like LGBT United, Friends of connections: Friends of people who are connected to LGBT United\n",
      "People who like Black Matters, Friends of connections: Friends of people who are connected to Black Matters\n",
      "People who like LGBT United, Friends of connections: Friends of people who are connected to LGBT United\n",
      "People who like Black Matters. Friends of connections: Friends of people who are connected to Black Matters\n",
      "People who like Black Matters. Friends of connections: Friends of people who are connected to Black Matters\n",
      "Behaviors: African American (US)\n",
      "People who like Black Matters. Friends of connections: Friends of people who are connected to Black Matters\n",
      "People who like Black Matters. Friends of connections: Friends of people who are connected to Black Matters\n",
      "People who like Being Patriotic, Friends of connections: Friends of people who are connected to Being Patriotic\n",
      "People who like Black Matters, Friends of connections: Friends of people who are connected to Black Matters\n",
      "People who like Don't Shoot, Friends of connections: Friends of people who are connected to Don't Shoot\n",
      "People who like Don't Shoot, Friends of connections: Friends of people who are connected to Don't Shoot\n",
      "People who like Stop A.I., Friends of connections: Friends of people who are connected to Stop A.1.\n",
      "People who like Don't Shoot, Friends of connections: Friends of people who are connected to Don't Shoot\n",
      "Politics: Likely to engage with political content (conservative)\n",
      "People who like Don't Shoot, Friends of connections: Friends of people who are connected to Don't Shoot\n",
      "People who like Being Patriotic, Friends of connections: Friends of people who are connected to Being Patriotic\n",
      "People who like Black Matters. Friends of connections: Friends of people who are connected to Black Matters\n",
      "People who like Black Matters. Friends of connections: Friends of people who are connected to Black Matters\n",
      "People who like Black Matters. Friends of connections: Friends of people who are connected to Black Matters\n",
      "People who like Being Patriotic, Friends of connections: Friends of people who are connected to Being Patriotic\n",
      "People who like Being Patriotic, Friends of connections: Friends of people who are connected to Being Patriotic\n",
      "People who like Black Matters. Friends of connections: Friends of people who are connected to Black Matters\n",
      "People who like Being Patriotic, Friends of connections: Friends of people who are connected to Being Patriotic\n",
      "People who like Williams&Kalvin, Friends of connections: Friends of people who are connected to Williams&Kalvin\n",
      "People who like LGBT United, Friends of connections: Friends of people who are connected to LGBT United\n",
      "People who like Black Matters. Friends of connections: Friends of people who are connected to Black Matters\n",
      "People who like Black Matters. Friends of connections: Friends of people who are connected to Black Matters\n",
      "People who like LGBT United, Friends of connections: Friends of people who are connected to LGBT United\n",
      "People who like United Muslims of America. Friends of connections: Friends of people who are connected to United Muslims of America\n",
      "People who like Don't Shoot, Friends of connections: Friends of people who are connected to Don't Shoot\n",
      "People who like Don't Shoot, Friends of connections: Friends of people who are connected to Don't Shoot\n",
      "People who like Don't Shoot, Friends of connections: Friends of people who are connected to Don't Shoot\n",
      "Behaviors: African American (US)\n",
      "People who like Williams&Kalvin, Friends of connections: Friends of people who are connected to Williams&Kalvin\n",
      "People who like Black Matters. Friends of connections: Friends of people who are connected to Black Matters\n",
      "People who like Don't Shoot, Friends of connections: Friends of people who are connected to Don't Shoot\n",
      "People who like Heart of Texas, Friends of connections: Friends of people who are connected to Heart of Texas\n",
      "People who like Don't Shoot, Friends of connections: Friends of people who are connected to Don't Shoot\n",
      "People who like Black Matters, Friends of connections: Friends of people who are connected to Black Matters\n",
      "People who like Black Matters, Friends of connections: Friends of people who are connected to Black Matters\n",
      "People who like LGBT United. Friends of connections: Friends of people who are connected to LGBT United\n",
      "People who like LGBT United, Friends of connections: Friends of people who are connected to LGBT United\n",
      "People who like Williams&Kalvin, Friends of connections: Friends of people who are connected to Williams&Kalvin\n",
      "People who like Being Patriotic, Friends of connections: Friends of people who are connected to Being Patriotic\n",
      "People who like Being Patriotic, Friends of connections: Friends of people who are connected to Being Patriotic\n",
      "People who like Black Matters, Friends of connections: Friends of people who are connected to Black Matters\n",
      "People who like Black Matters, Friends of connections: Friends of people who are connected to Black Matters\n",
      "People who like Born Liberal, Friends of connections: Friends of people who are connected to Born Liberal\n",
      "People who like Black Matters, Friends of connections: Friends of people who are connected to Black Matters\n",
      "People who like Being Patriotic, Friends of connections: Friends of people who are connected to Being Patriotic\n",
      "People who like Don't Shoot, Friends of connections: Friends of people who are connected to Don't Shoot\n",
      "People who like Black Matters, Friends of connections: Friends of people who are connected to Black Matters\n",
      "People who like Don't Shoot, Friends of connections: Friends of people who are connected to Don't Shoot\n",
      "People who like Williams&Kalvin, Friends of connections: Friends of people who are connected to Williams&Kalvin\n",
      "People who like Don't Shoot, Friends of connections: Friends of people who are connected to Don't Shoot\n",
      "People who like Being Patriotic, Friends of connections: Friends of people who are connected to Being Patriotic\n",
      "People who like Blacktivist, Friends of connections: Friends of people who are connected to Blacktivist\n",
      "People who like Black Matters, Friends of connections: Friends of people who are connected to Black Matters\n",
      "People who like Black Matters. Friends of connections: Friends of people who are connected to Black Matters\n",
      "People who like Stop A.I., Friends of connections: Friends of people who are connected to Stop A.1.\n",
      "People who like Black Matters. Friends of connections: Friends of people who are connected to Black Matters\n",
      "People who like Secured Borders; Friends of connections: Friends of people who are connected to Secured Borders\n",
      "People who like Black Matters. Friends of connections: Friends of people who are connected to Black Matters\n",
      "People who like Don't Shoot, Friends of connections: Friends of people who are connected to Don't Shoot\n",
      "Behaviors: African American (US)\n",
      "People who like LGBT United, Friends of connections: Friends of people who are connected to LGBT United\n",
      "Behaviors: African American (US)\n",
      "People who like United Muslims of America.. Friends of connections: Friends of people who are connected to United Muslims of America\n",
      "Employers: Jesus Christ is my King\n",
      "People who like Black Matters. Friends of connections: Friends of people who are connected to Black Matters\n",
      "People who like Black Matters. Friends of connections: Friends of people who are connected to Black Matters\n",
      "People who like Black Matters. Friends of connections: Friends of people who are connected to Black Matters\n",
      "People who like Black Matters, Friends of connections: Friends of people who are connected to Black Matters\n",
      "People who like LGBT United, Friends of connections: Friends of people who are connected to LGBT United\n",
      "People who like Black Matters, Friends of connections: Friends of people who are connected to Black Matters\n",
      "People who like Black Matters. Friends of connections: Friends of people who are connected to Black Matters\n",
      "People who like LGBT United, Friends of connections: Friends of people who are connected to LGBT United\n",
      "People who like Black Matters, Friends of connections: Friends of people who are connected to Black Matters\n",
      "People who like LGBT United, Friends of connections: Friends of people who are connected to LGBT United\n",
      "People who like Don't Shoot, Friends of connections: Friends of people who are connected to Don't Shoot\n",
      "People who like Black Matters, Friends of connections: Friends of people who are connected to Black Matters\n",
      "People who like Black Matters. Friends of connections: Friends of people who are connected to Black Matters\n",
      "People who like Black Matters. Friends of connections: Friends of people who are connected to Black Matters\n",
      "People who like Being Patriotic, Friends of connections: Friends of people who are connected to Being Patriotic\n",
      "People who like Black Matters, Friends of connections: Friends of people who are connected to Black Matters\n",
      "People who like Black Matters. Friends of connections: Friends of people who are connected to Black Matters\n",
      "People who like Secured Borders; Friends of connections: Friends of people who are connected to Secured Borders\n",
      "People who like Don't Shoot, Friends of connections: Friends of people who are connected to Don't Shoot\n",
      "People who like Don't Shoot, Friends of connections: Friends of people who are connected to Don't Shoot\n",
      "People who like Black Matters, Friends of connections: Friends of people who are connected to Black Matters\n",
      "People who like Don't Shoot, Friends of connections: Friends of people who are connected to Don't Shoot\n",
      "People who like Don't Shoot, Friends of connections: Friends of people who are connected to Don't Shoot\n",
      "People who like Being Patriotic, Friends of connections: Friends of people who are connected to Being Patriotic\n",
      "People who like Black Matters, Friends of connections: Friends of people who are connected to Black Matters\n",
      "People who like Memopolis. Friends of connections: Friends of people who are connected to Memopolis\n",
      "People who like Black Matters, Friends of connections: Friends of people who are connected to Black Matters\n",
      "People who like Black Matters. Friends of connections: Friends of people who are connected to Black Matters\n",
      "People who like Black Matters, Friends of connections: Friends of people who are connected to Black Matters\n",
      "People who like LGBT United, Friends of connections: Friends of people who are connected to LGBT United\n",
      "People who like Stop A.I.; Friends of connections Friends of people who are connected to Stop A.1.\n",
      "People who like LGBT United, Friends of connections: Friends of people who are connected to LGBT United\n",
      "People who like Black Matters. Friends of connections: Friends of people who are connected to Black Matters\n",
      "People who like LGBT United. Friends of connections: Friends of people who are connected to LGBT United\n",
      "People who like Black Matters, Friends of connections: Friends of people who are connected to Black Matters\n",
      "People who like Being Patriotic, Friends of connections: Friends of people who are connected to Being Patriotic\n",
      "People who like Black Matters. Friends of connections: Friends of people who are connected to Black Matters\n",
      "Behaviors: African American (US)\n",
      "People who like United Muslims of America, Friends of connections: Friends of people who are connected to United Muslims of America\n",
      "People who like LGBT United, Friends of connections: Friends of people who are connected to LGBT United\n",
      "People who like LGBT United, Friends of connections: Friends of people who are connected to LGBT United\n",
      "Behaviors: African American (US)\n",
      "People who like Don't Shoot, Friends of connections: Friends of people who are connected to Don't Shoot\n",
      "People who like Black Matters. Friends of connections: Friends of people who are connected to Black Matters\n",
      "People who like Black Matters, Friends of connections: Friends of people who are connected to Black Matters\n",
      "People who like Stop A.I., Friends of connections: Friends of people who are connected to Stop A.1.\n",
      "Behaviors: African American (US)\n",
      "Behaviors: African American (US)\n",
      "People who like Don't Shoot, Friends of connections: Friends of people who are connected to Don't Shoot\n",
      "People who like Don't Shoot, Friends of connections: Friends of people who are connected to Don't Shoot\n",
      "People who like Black Matters. Friends of connections: Friends of people who are connected to Black Matters\n",
      "People who like LGBT United, Friends of connections: Friends of people who are connected to LGBT United\n",
      "People who like Black Matters. Friends of connections: Friends of people who are connected to Black Matters\n",
      "People who like Black Matters, Friends of connections: Friends of people who are connected to Black Matters\n",
      "People who like Black Matters, Friends of connections: Friends of people who are connected to Black Matters\n",
      "People who like Black Matters. Friends of connections: Friends of people who are connected to Black Matters\n",
      "People who like Black Matters, Friends of connections: Friends of people who are connected to Black Matters\n",
      "People who like Black Matters. Friends of connections: Friends of people who are connected to Black Matters\n",
      "People who like LGBT United, Friends of connections: Friends of people who are connected to LGBT United\n",
      "People who like Black Matters. Friends of connections: Friends of people who are connected to Black Matters\n",
      "People who like Black Matters. Friends of connections: Friends of people who are connected to Black Matters\n",
      "People who like Black Matters. Friends of connections: Friends of people who are connected to Black Matters\n",
      "People who like Black Matters. Friends of connections: Friends of people who are connected to Black Matters\n",
      "People who like Black Matters, Friends of connections: Friends of people who are connected to Black Matters\n",
      "People who like Being Patriotic, Friends of connections: Friends of people who are connected to Being Patriotic\n",
      "People who like Black Matters, Friends of connections: Friends of people who are connected to Black Matters\n",
      "People who like Black Matters, Friends of connections: Friends of people who are connected to Black Matters\n",
      "People who like Don't Shoot, Friends of connections: Friends of people who are connected to Don't Shoot\n",
      "People who like Don't Shoot, Friends of connections: Friends of people who are connected to Don't Shoot\n",
      "People who like Stop A.I., Friends of connections: Friends of people who are connected to Stop A.1.\n",
      "People who like Don't Shoot, Friends of connections: Friends of people who are connected to Don't Shoot\n",
      "People who like Don't Shoot, Friends of connections: Friends of people who are connected to Don't Shoot\n",
      "People who like Black Matters, Friends of connections: Friends of people who are connected to Black Matters\n",
      "People who like Black Matters, Friends of connections: Friends of people who are connected to Black Matters\n",
      "People who like BM, Friends of connections: Friends of people who are connected to BM\n",
      "People who like LGBT United. Friends of connections: Friends of people who are connected to LGBT United\n",
      "People who like Being Patriotic, Friends of connections: Friends of people who are connected to Being Patriotic\n",
      "People who like Black Matters. Friends of connections: Friends of people who are connected to Black Matters\n",
      "People who like Black Matters, Friends of connections: Friends of people who are connected to Black Matters\n",
      "People who like Black Matters. Friends of connections: Friends of people who are connected to Black Matters\n",
      "People who like Being Patriotic, Friends of connections: Friends of people who are connected to Being Patriotic\n",
      "People who like Being Patriotic, Friends of connections: Friends of people who are connected to Being Patriotic\n",
      "People who like LGBT United, Friends of connections: Friends of people who are connected to LGBT United\n",
      "People who like Williams&Kalvin, Friends of connections: Friends of people who are connected to Williams&Kalvin\n",
      "Behaviors: African American (US)\n",
      "Behaviors: African American (US)\n",
      "People who like Black Matters, Friends of connections: Friends of people who are connected to Black Matters\n",
      "People who like Black Matters. Friends of connections: Friends of people who are connected to Black Matters\n",
      "People who like LGBT United, Friends of connections: Friends of people who are connected to LGBT United\n",
      "People who like Black Matters. Friends of connections: Friends of people who are connected to Black Matters\n",
      "People who like Don't Shoot, Friends of connections: Friends of people who are connected to Don't Shoot\n",
      "People who like LGBT United, Friends of connections: Friends of people who are connected to LGBT United\n",
      "People who like Being Patriotic, Friends of connections: Friends of people who are connected to Being Patriotic\n",
      "People who like Black Matters. Friends of connections: Friends of people who are connected to Black Matters\n",
      "People who like Being Patriotic, Friends of connections: Friends of people who are connected to Being Patriotic\n",
      "People who like LGBT United, Friends of connections: Friends of people who are connected to LGBT United\n",
      "People who like Don't Shoot, Friends of connections: Friends of people who are connected to Don't Shoot\n",
      "People who like Black Matters. Friends of connections: Friends of people who are connected to Black Matters\n",
      "People who like Black Matters, Friends of connections: Friends of people who are connected to Black Matters\n",
      "People who like Don't Shoot, Friends of connections: Friends of people who are connected to Don't Shoot\n",
      "People who like Don't Shoot, Friends of connections: Friends of people who are connected to Don't Shoot\n",
      "People who like Williams&Kalvin, Friends of connections: Friends of people who are connected to Williams&Kalvin\n",
      "People who like Being Patriotic, Friends of connections: Friends of people who are connected to Being Patriotic\n",
      "People who like Being Patriotic, Friends of connections: Friends of people who are connected to Being Patriotic\n",
      "People who like Don't Shoot, Friends of connections: Friends of people who are connected to Don't Shoot\n",
      "Behaviors: African American (US)\n",
      "People who like Being Patriotic, Friends of connections: Friends of people who are connected to Being Patriotic\n",
      "People who like Being Patriotic, Friends of connections: Friends of people who are connected to Being Patriotic\n",
      "People who like Being Patriotic, Friends of connections: Friends of people who are connected to Being Patriotic\n",
      "People who like Blacktivist, Friends of connections: Friends of people who are connected to Blacktivist\n",
      "People who like LGBT United, Friends of connections: Friends of people who are connected to LGBT United\n",
      "People who like Black Matters. Friends of connections: Friends of people who are connected to Black Matters\n",
      "People who like Black Matters, Friends of connections: Friends of people who are connected to Black Matters\n",
      "People who like LGBT United, Friends of connections: Friends of people who are connected to LGBT United\n",
      "People who like LGBT United, Friends of connections: Friends of people who are connected to LGBT United\n",
      "People who like Don't Shoot, Friends of connections: Friends of people who are connected to Don't Shoot\n",
      "People who like LGBT United, Friends of connections: Friends of people who are connected to LGBT United\n",
      "Multicultural Affinity: African American (US)\n",
      "People who like Blacktivist, Friends of connections: Friends of people who are connected to Blacktivist\n",
      "People who like Born Liberal, Friends of connections: Friends of people who are connected to Born Liberal\n",
      "People who like LGBT United, Friends of connections: Friends of people who are connected to LGBT United\n",
      "People who like Black Matters, Friends of connections: Friends of people who are connected to Black Matters\n",
      "People who like Black Matters. Friends of connections: Friends of people who are connected to Black Matters\n",
      "People who like United Muslims of America, Friends of connections: Friends of people who are connected to United Muslims of America\n",
      "Multicultural Affinity: African American (US)\n",
      "People who like Don't Shoot, Friends of connections: Friends of people who are connected to Don't Shoot\n",
      "People who like Black Matters. Friends of connections: Friends of people who are connected to Black Matters\n",
      "People who like Black Matters, Friends of connections: Friends of people who are connected to Black Matters\n",
      "People who like Black Matters. Friends of connections: Friends of people who are connected to Black Matters\n",
      "Politics: US politics (conservative), US politics (very conservative) or Likely to engage with political content (conservative)\n",
      "Behaviors: African American (US)\n",
      "People who like United Muslims of America, Friends of connections: Friends of people who are connected to United Muslims of America\n",
      "People who like Black Matters. Friends of connections: Friends of people who are connected to Black Matters\n",
      "People who like Black Matters. Friends of connections: Friends of people who are connected to Black Matters\n",
      "People who like LGBT United, Friends of connections: Friends of people who are connected to LGBT United\n",
      "People who like LGBT United. Friends of connections: Friends of people who are connected to LGBT United\n",
      "People who like Williams&Kalvin, Friends of connections. Friends of people who are connected to Williams&Kalvin\n",
      "People who like Williams&Kalvin, Friends of connections: Friends of people who are connected to Williams&Kalvin\n",
      "People who like Black Matters, Friends of connections: Friends of people who are connected to Black Matters\n",
      "People who like Black Matters. Friends of connections: Friends of people who are connected to Black Matters\n",
      "People who like LGBT United, Friends of connections: Friends of people who are connected to LGBT United\n",
      "People who like Heart of Texas, Friends of connections: Friends of people who are connected to Heart of Texas\n",
      "People who like Being Patriotic, Friends of connections: Friends of people who are connected to Being Patriotic\n",
      "People who like Stop A.I., Friends of connections: Friends of people who are connected to Stop A.1.\n",
      "People who like LGBT United, Friends of connections: Friends of people who are connected to LGBT United\n",
      "People who like Black Matters, Friends of connections: Friends of people who are connected to Black Matters\n",
      "People who like LGBT United, Friends of connections: Friends of people who are connected to LGBT United\n",
      "People who like LGBT United, Friends of connections: Friends of people who are connected to LGBT United\n",
      "People who like Black Matters. Friends of connections: Friends of people who are connected to Black Matters\n",
      "People who like Being Patriotic, Friends of connections: Friends of people who are connected to Being Patriotic\n",
      "People who like Black Matters, Friends of connections: Friends of people who are connected to Black Matters\n",
      "Multicultural Affinity: African American (US)\n",
      "Multicultural Affinity: African American (US)\n",
      "People who like Being Patriotic, Friends of connections: Friends of people who are connected to Being Patriotic\n",
      "People who like Being Patriotic, Friends of connections: Friends of people who are connected to Being Patriotic\n",
      "People who like Black Matters, Friends of connections: Friends of people who are connected to Black Matters\n",
      "People who like Black Matters, Friends of connections: Friends of people who are connected to Black Matters\n",
      "People who like LGBT United, Friends of connections: Friends of people who are connected to LGBT United\n",
      "People who like LGBT United, Friends of connections: Friends of people who are connected to LGBT United\n",
      "People who like Stop A.I., Friends of connections: Friends of people who are connected to Stop A. I.\n",
      "People who like LGBT United, Friends of connections: Friends of people who are connected to LGBT United\n",
      "Multicultural Affinity: African American (US)\n",
      "Employers: Facebook\n",
      "People who like LGBT United, Friends of connections: Friends of people who are connected to LGBT United\n",
      "People who like LGBT United, Friends of connections: Friends of people who are connected to LGBT United\n",
      "People who like Williams&Kalvin, Friends of connections: Friends of people who are connected to Williams&Kalvin\n",
      "People who like LGBT United, Friends of connections: Friends of people who are connected to LGBT United\n",
      "People who like Black Matters. Friends of connections: Friends of people who are connected to Black Matters\n",
      "People who like Black Matters, Friends of connections: Friends of people who are connected to Black Matters\n",
      "People who like Being Patriotic, Friends of connections: Friends of people who are connected to Being Patriotic\n",
      "People who like United Muslims of America, Friends of connections: Friends of people who are connected to United Muslims of America\n",
      "People who like Being Patriotic, Friends of connections: Friends of people who are connected to Being Patriotic\n",
      "People who like Don't Shoot, Friends of connections: Friends of people who are connected to Don't Shoot\n",
      "People who like Being Patriotic, Friends of connections: Friends of people who are connected to Being Patriotic\n",
      "People who like Black Matters. Friends of connections: Friends of people who are connected to Black Matters\n",
      "People who like Black Matters, Friends of connections: Friends of people who are connected to Black Matters\n",
      "People who like LGBT United, Friends of connections: Friends of people who are connected to LGBT United\n",
      "People who like Williams&Kalvin, Friends of connections: Friends of people who are connected to Williams&Kalvin\n",
      "Behaviors: African American (US)\n",
      "People who like LGBT United, Friends of connections: Friends of people who are connected to LGBT United\n",
      "People who like LGBT United, Friends of connections: Friends of people who are connected to LGBT United\n",
      "People who like Black Matters. Friends of connections: Friends of people who are connected to Black Matters\n",
      "People who like Being Patriotic, Friends of connections: Friends of people who are connected to Being Patriotic\n",
      "People who like Being Patriotic, Friends of connections: Friends of people who are connected to Being Patriotic\n",
      "People who like Being Patriotic, Friends of connections: Friends of people who are connected to Being Patriotic\n",
      "People who like Black Matters. Friends of connections: Friends of people who are connected to Black Matters\n"
     ]
    }
   ],
   "source": [
    "count_null = 0\n",
    "count_interests = 0\n",
    "count_other = 0\n",
    "for s in ads_df['ad_targeting_people_who_match']:\n",
    "    if pd.isnull(s):\n",
    "        count_null += 1\n",
    "    elif 'Interests' in s:\n",
    "        count_interests += 1\n",
    "    else:\n",
    "        count_other +=1\n",
    "        print(s)"
   ]
  },
  {
   "cell_type": "code",
   "execution_count": 33,
   "metadata": {},
   "outputs": [
    {
     "name": "stdout",
     "output_type": "stream",
     "text": [
      "Null:822 Interests: 1243 Other: 375 Total: 2440\n"
     ]
    }
   ],
   "source": [
    "print('Null:' + str(count_null) +\n",
    "      ' Interests: ' + str(count_interests) +\n",
    "      ' Other: ' + str(count_other) +\n",
    "      ' Total: ' + str(count_null + count_interests + count_other))"
   ]
  },
  {
   "cell_type": "markdown",
   "metadata": {},
   "source": [
    "From this print out, we see that although some rows belonging to the \"Other\" category have the 'interests' field missing, we can grab a proxy by taking the \"like\" groups. We can grab the value of the \"like\" groups correctly by taking the string after 'Friends of people who are connected to'. We've created the function treat_string_with_friends below to treat these entries.\n",
    "\n",
    "To treat the rows with 'Interests', we create the funciton treat_string_with_interest. After looking at a few of the raw_files, we see that ad_targeting_people_who_match sometimes contains other fields. To identify rows which had additonal fields, we looked for the number of ':' characters, we then identified patterns in those strings that didn't match the interests field. These patterns are used in the treat_string_with_interest function below.\n",
    "\n",
    "The crop_to_interest function was created to dynamically use the method when interests are present or not."
   ]
  },
  {
   "cell_type": "code",
   "execution_count": 34,
   "metadata": {},
   "outputs": [],
   "source": [
    "# Utility function to crop everything after a given word\n",
    "def crop_everything_after(string, contains):\n",
    "    return string[:string.index(contains)] if contains in string else string\n",
    "\n",
    "# Returns a string containing everything after 'Friends of people who are connected to '\n",
    "def treat_string_with_friends(string):\n",
    "    friends_string = 'Friends of people who are connected to '\n",
    "    start = string.index(friends_string)\n",
    "    return string[start+len(friends_string):]\n",
    "\n",
    "# Treat the \n",
    "def treat_string_with_interest(string):\n",
    "    # Crop everything before 'Interests'\n",
    "    string = string[string.index('Interests'):]\n",
    "\n",
    "    # Strings identified by visual inspections of entries\n",
    "    crop_after = [\n",
    "        'And Must Also Match',\n",
    "        'School:',\n",
    "        'Behaviors:',\n",
    "        'expansion:',\n",
    "        'Job title:',\n",
    "        'Multicultural Affinity:',\n",
    "        'Politics:',\n",
    "        'Employers:',\n",
    "        'Field of study:'\n",
    "    ]\n",
    "\n",
    "    for to_crop in crop_after:\n",
    "        string = crop_everything_after(string, to_crop)\n",
    "\n",
    "    # Finally this substring had a typo\n",
    "    if 'Stop Racism!:.' in string:\n",
    "        string = string.replace('Stop Racism!:.', 'Stop Racism!!,')\n",
    "    \n",
    "    return string\n",
    "\n",
    "# If Interests is part of the string use the interest\n",
    "# method otherwise use the crop to like method.\n",
    "def crop_to_interest(string):\n",
    "    if not pd.isnull(string):\n",
    "        \n",
    "        if 'Interests' in string:\n",
    "            string = treat_string_with_interest(string)\n",
    "        elif 'Friends of people who are connected to ' in string:\n",
    "            string = treat_string_with_friends(string)\n",
    "        else:\n",
    "            # pd.isnull or does not contain interests nor likes\n",
    "            string = np.nan\n",
    "\n",
    "    return string"
   ]
  },
  {
   "cell_type": "code",
   "execution_count": 35,
   "metadata": {},
   "outputs": [],
   "source": [
    "ads_df['ad_targeting_people_who_match'] = ads_df['ad_targeting_people_who_match'].apply(crop_to_interest)"
   ]
  },
  {
   "cell_type": "markdown",
   "metadata": {},
   "source": [
    "During this operation we lost a few rows that could not be parsed as it did not contain interests."
   ]
  },
  {
   "cell_type": "code",
   "execution_count": 36,
   "metadata": {},
   "outputs": [
    {
     "name": "stdout",
     "output_type": "stream",
     "text": [
      "29 rows where lost.\n"
     ]
    }
   ],
   "source": [
    "cleaning_summary_format['null_people_who_match_count'] = pd.isnull(ads_df['ad_targeting_people_who_match']).sum() - count_null\n",
    "print(str(cleaning_summary_format['null_people_who_match_count']) + ' rows where lost.')"
   ]
  },
  {
   "cell_type": "markdown",
   "metadata": {},
   "source": [
    "The last cleaning step for this field is to remove the 'Interests' keyword which is sometimes followed by a colon. We use a regular expression to replace this string."
   ]
  },
  {
   "cell_type": "code",
   "execution_count": 37,
   "metadata": {},
   "outputs": [],
   "source": [
    "interests_regex = re.compile(r'Interests\\s*:?')\n",
    "\n",
    "def remove_interests_marker(string):\n",
    "    if not pd.isnull(string):\n",
    "        string = interests_regex.sub('', string)\n",
    "    return string"
   ]
  },
  {
   "cell_type": "code",
   "execution_count": 38,
   "metadata": {},
   "outputs": [],
   "source": [
    "ads_df['ad_targeting_people_who_match'] = ads_df['ad_targeting_people_who_match'].apply(remove_interests_marker)"
   ]
  },
  {
   "cell_type": "code",
   "execution_count": 39,
   "metadata": {},
   "outputs": [
    {
     "data": {
      "text/html": [
       "<div>\n",
       "<style scoped>\n",
       "    .dataframe tbody tr th:only-of-type {\n",
       "        vertical-align: middle;\n",
       "    }\n",
       "\n",
       "    .dataframe tbody tr th {\n",
       "        vertical-align: top;\n",
       "    }\n",
       "\n",
       "    .dataframe thead th {\n",
       "        text-align: right;\n",
       "    }\n",
       "</style>\n",
       "<table border=\"1\" class=\"dataframe\">\n",
       "  <thead>\n",
       "    <tr style=\"text-align: right;\">\n",
       "      <th></th>\n",
       "      <th>file_name</th>\n",
       "      <th>ad_targeting_interests</th>\n",
       "      <th>ad_targeting_people_who_match</th>\n",
       "      <th>ad_impressions</th>\n",
       "      <th>ad_clicks</th>\n",
       "      <th>ad_spend</th>\n",
       "      <th>ad_creation_date</th>\n",
       "      <th>ad_end_date</th>\n",
       "    </tr>\n",
       "  </thead>\n",
       "  <tbody>\n",
       "    <tr>\n",
       "      <th>1</th>\n",
       "      <td>P(1)0002823.txt</td>\n",
       "      <td>NaN</td>\n",
       "      <td>Pan-Africanism, African-American Civil Rights...</td>\n",
       "      <td>10496</td>\n",
       "      <td>1823</td>\n",
       "      <td>200.00</td>\n",
       "      <td>2017-04-21</td>\n",
       "      <td>2017-04-22</td>\n",
       "    </tr>\n",
       "    <tr>\n",
       "      <th>2</th>\n",
       "      <td>P(1)0002837.txt</td>\n",
       "      <td>NaN</td>\n",
       "      <td>Pan-Africanism, African-American Civil Rights...</td>\n",
       "      <td>16305</td>\n",
       "      <td>1337</td>\n",
       "      <td>499.49</td>\n",
       "      <td>2017-04-13</td>\n",
       "      <td>2017-04-14</td>\n",
       "    </tr>\n",
       "    <tr>\n",
       "      <th>5</th>\n",
       "      <td>P(1)0006304.txt</td>\n",
       "      <td>NaN</td>\n",
       "      <td>Martin Luther King, Jr., Stop Racism!!, Afric...</td>\n",
       "      <td>8210</td>\n",
       "      <td>1788</td>\n",
       "      <td>1570.03</td>\n",
       "      <td>2017-05-29</td>\n",
       "      <td>2017-05-29</td>\n",
       "    </tr>\n",
       "  </tbody>\n",
       "</table>\n",
       "</div>"
      ],
      "text/plain": [
       "         file_name ad_targeting_interests  \\\n",
       "1  P(1)0002823.txt                    NaN   \n",
       "2  P(1)0002837.txt                    NaN   \n",
       "5  P(1)0006304.txt                    NaN   \n",
       "\n",
       "                       ad_targeting_people_who_match  ad_impressions  \\\n",
       "1   Pan-Africanism, African-American Civil Rights...           10496   \n",
       "2   Pan-Africanism, African-American Civil Rights...           16305   \n",
       "5   Martin Luther King, Jr., Stop Racism!!, Afric...            8210   \n",
       "\n",
       "   ad_clicks  ad_spend ad_creation_date ad_end_date  \n",
       "1       1823    200.00       2017-04-21  2017-04-22  \n",
       "2       1337    499.49       2017-04-13  2017-04-14  \n",
       "5       1788   1570.03       2017-05-29  2017-05-29  "
      ]
     },
     "execution_count": 39,
     "metadata": {},
     "output_type": "execute_result"
    }
   ],
   "source": [
    "ads_df.head(3)"
   ]
  },
  {
   "cell_type": "markdown",
   "metadata": {},
   "source": [
    "We now do the same exercise with ad_targeting_interests. We first identify non-null rows that may contain an extra field. We do so by looking for the ':' character and printing out these rows."
   ]
  },
  {
   "cell_type": "code",
   "execution_count": 40,
   "metadata": {},
   "outputs": [
    {
     "name": "stdout",
     "output_type": "stream",
     "text": [
      "BlackNews.com or HuffPost Black Voices Behaviors: African American (US)\n",
      "BlackNews.com or HuffPost Black Voices Behaviors: African American (US)\n",
      "Humanitarianism, Human rights or Humanitarian aid Behaviors: African American (US)\n",
      "Black Power Behaviors: Multicultural Affinity: African American (US)\n",
      "Human rights or Malcolm X Behaviors: African American (US)\n",
      "BlackNews.com or HuffPost Black Voices Behaviors: African American (US)\n",
      "BlackNews.com or HuffPost Black Voices Behaviors: African American (US)\n",
      "BlackNews.com or HuffPost Black Voices Behaviors: African American (US)\n",
      "BlackNews.com or HuffPost Black Voices Behaviors: African American (US)\n",
      "BlackNews.com or HuffPost Black Voices Behaviors: African American (US)\n",
      "BlackNews.com or HuffPost Black Voices Behaviors: African American (US)\n",
      "Humanitarianism, Human rights or Humanitarian aid Behaviors: African American (US)\n",
      "Muslims Are Not Terrorists. Islamism or Muslim Brotherhood Connections: People who like United Muslims of America\n",
      "History Politics: US politics (conservative)\n",
      "BlackNews.com or HuffPost Black Voices Behaviors: African American (US)\n",
      "BlackNews.com or HuffPost Black Voices Behaviors: African American (US)\n",
      "BlackNews.com or HuffPost Black Voices Behaviors: African American (US)\n",
      "BlackNews.com or HuffPost Black Voices Behaviors: African American (US)\n",
      "BlackNews.com or HuffPost Black Voices Behaviors: African American (US)\n",
      "BlackNews.com or HuffPost Black Voices Behaviors: African American (US)\n",
      "BlackNews.com or HuffPost Black Voices Behaviors: African American (US)\n",
      "HuffPost Black Voices Behaviors: African American (US)\n",
      "Veterans, United States Department of Veterans Affairs, Disabled American Veterans or Supporting Our Veterans Home Composition: Veterans in home\n",
      "TV talkshows or Black (Color) Behaviors: African American (US)\n",
      "BlackNews.com or HuffPost Black Voices Behaviors: African American (US)\n",
      "BlackNews.com or HuffPost Black Voices Behaviors: African American (US)\n",
      "BlackNews.com or HuffPost Black Voices Behaviors: African American (US)\n",
      "The Second Amendment, AR-15, 2nd Amendment or Guns & Ammo Politics: US politics (conservative)\n",
      "BlackNews.com or HuffPost Black Voices Behaviors: African American (US)\n",
      "BlackNews.com or HuffPost Black Voices Behaviors: African American (US)\n",
      "BlackNews.com or HuffPost Black Voices Behaviors: African American (US)\n",
      "BlackNews.com or HuffPost Black Voices Behaviors: African American (US)\n",
      "BlackNews.com or HuffPost Black Voices Behaviors: African American (US)\n",
      "BlackNews.com or HuffPost Black Voices Behaviors: African American (US)\n",
      "BlackNews.com or HuffPost Black Voices Behaviors: African American (US)\n",
      "BlackNews.com or HuffPost Black Voices Behaviors: African American (US)\n",
      "BlackNews.com or HuffPost Black Voices Behaviors: African American (US)\n",
      "BlackNews.com or HuffPost Black Voices Behaviors: African American (US)\n",
      "BlackNews.com or HuffPost Black Voices Behaviors: African American (US)\n",
      "BlackNews.com or HuffPost Black Voices Behaviors: African American (US)\n",
      "Tax Behaviors: African American (US)\n",
      "Homeless shelter Politics: US politics (liberal) or US politics (moderate)\n",
      "BlackNews.com or HuffPost Black Voices Behaviors: African American (US)\n",
      "BlackNews.com or HuffPost Black Voices Behaviors: African American (US)\n",
      "BlackNews.com or HuffPost Black Voices Behaviors: African American (US)\n",
      "BlackNews.com or HuffPost Black Voices Behaviors: African American (US)\n",
      "BlackNews.com or HuffPost Black Voices Behaviors: African American (US)\n",
      "BlackNews.com or HuffPost Black Voices Behaviors: African American (US)\n",
      "BlackNews.com or HuffPost Black Voices Behaviors: African American (US)\n",
      "Human rights or Malcolm X Behaviors: African American (US)\n",
      "BlackNews.com or HuffPost Black Voices Behaviors: African American (US)\n",
      "Human rights, Police, Police officer or Order of Merit of the Police Forces Behaviors: Multicultural Affinity: Hispanic(US -All), Multicultural Affinity: Hispanic(US - English dominant) or Multicultural Affinity: African American (US)\n",
      "Muslims Are Not Terrorists, Islamism or Muslim Brotherhood Connections: People who like United Muslims of America\n",
      "BlackNews.com or HuffPost Black Voices Behaviors: African American (US)\n",
      "BlackNews.com or HuffPost Black Voices Behaviors: African American (US)\n",
      "BlackNews.com or HuffPost Black Voices Behaviors: African American (US)\n",
      "BlackNews.com or HuffPost Black Voices Behaviors: African American (US)\n",
      "Sports Behaviors: Facebook access (mobile): all mobile devices Job title: Combat medic, ???????????, Mercenary, Polisi militer, Engenharia militar or Soldado Generation: Millennials\n",
      "BlackNews.com or HuffPost Black Voices Behaviors: African American (US)\n",
      "BlackNews.com or HuffPost Black Voices Behaviors: African American (US)\n",
      "BlackNews.com or HuffPost Black Voices Behaviors: African American (US)\n",
      "BlackNews.com or HuffPost Black Voices Behaviors: African American (US)\n",
      "BlackNews.com or HuffPost Black Voices Behaviors: African American (US)\n",
      "BlackNews.com or HuffPost Black Voices Behaviors: African American (US)\n",
      "Fitness and wellness, Sports and outdoors or Family and relationships Behaviors: Facebook access (mobile): smartphones and tablets Generation: Millennials\n",
      "BlackNews.com or HuffPost Black Voices Behaviors: African American (US)\n",
      "BlackNews.com or HuffPost Black Voices Behaviors: African American (US)\n",
      "BlackNews.com or HuffPost Black Voices Behaviors: African American (US)\n",
      "BlackNews.com or HuffPost Black Voices Behaviors: African American (US)\n",
      "The Second Amendment, AR-15, Protect the Second Amendment, 2nd Amendment or Guns & Ammo Politics: US politics (conservative)\n",
      "BlackNews.com or HuffPost Black Voices Behaviors: African American (US)\n",
      "BlackNews.com or HuffPost Black Voices Behaviors: African American (US)\n",
      "BlackNews.com or HuffPost Black Voices Behaviors: African American (US)\n",
      "BlackNews.com or HuffPost Black Voices Behaviors: African American (US)\n",
      "BlackNews.com or HuffPost Black Voices Behaviors: African American (US)\n",
      "BlackNews.com or HuffPost Black Voices Behaviors: African American (US)\n",
      "BlackNews.com or HuffPost Black Voices Behaviors: African American (US)\n",
      "Cop Block Behaviors: African American (US)\n"
     ]
    }
   ],
   "source": [
    "non_null_interests = ads_df[~pd.isnull(ads_df['ad_targeting_interests'])]['ad_targeting_interests']\n",
    "\n",
    "for row_with_colon in non_null_interests[non_null_interests.str.contains(':')]:\n",
    "    print(row_with_colon)"
   ]
  },
  {
   "cell_type": "markdown",
   "metadata": {},
   "source": [
    "Most of these rows seem to contain an additional field \"Behaviors\" we will remove it from the rows as we can easily use the interest part to identify the targeted demographic."
   ]
  },
  {
   "cell_type": "code",
   "execution_count": 41,
   "metadata": {},
   "outputs": [],
   "source": [
    "# Removes additional section part of the ad_targeting_interests string\n",
    "def treat_interest(string):\n",
    "    if not pd.isnull(string):\n",
    "        # Strings identified by visual inspections of entries\n",
    "        crop_after = [\n",
    "            'And Must Also Match',\n",
    "            'School:',\n",
    "            'Behaviors:',\n",
    "            'expansion:',\n",
    "            'Job title:',\n",
    "            'Multicultural Affinity:',\n",
    "            'Politics:',\n",
    "            'Employers:',\n",
    "            'Field of study:',\n",
    "            'Connections:',\n",
    "            'Home Composition:'\n",
    "        ]\n",
    "\n",
    "        for to_crop in crop_after:\n",
    "            string = crop_everything_after(string, to_crop)\n",
    "    else:\n",
    "        # pd.isnull value for strings\n",
    "        string = np.nan\n",
    "    \n",
    "    return string\n",
    "\n",
    "ads_df['ad_targeting_interests'] = ads_df['ad_targeting_interests'].apply(treat_interest)"
   ]
  },
  {
   "cell_type": "code",
   "execution_count": 42,
   "metadata": {},
   "outputs": [
    {
     "name": "stdout",
     "output_type": "stream",
     "text": [
      "After treatment, there are 0 rows with more than one field.\n"
     ]
    }
   ],
   "source": [
    "non_null_interests = ads_df[~pd.isnull(ads_df['ad_targeting_interests'])]['ad_targeting_interests']\n",
    "print('After treatment, there are ' + str(non_null_interests[non_null_interests.str.contains(':')].count()) +' rows with more than one field.')"
   ]
  },
  {
   "cell_type": "markdown",
   "metadata": {},
   "source": [
    "Now that both ad_targeting_interests and ad_targeting_people_who_match have been cleaned, we can now merge the two columns into one. First let's verify that there are no rows where both columns are non-null or both null."
   ]
  },
  {
   "cell_type": "code",
   "execution_count": 44,
   "metadata": {},
   "outputs": [
    {
     "name": "stdout",
     "output_type": "stream",
     "text": [
      "We have a total of 214 rows with both columns null and a total of 0 rows which have both values set.\n"
     ]
    }
   ],
   "source": [
    "def interests_both_null(row):\n",
    "    return (pd.isnull(row.ad_targeting_interests) and pd.isnull(row.ad_targeting_people_who_match))\n",
    "\n",
    "def interests_both_non_null(row):\n",
    "    return (not pd.isnull(row.ad_targeting_interests) and not pd.isnull(row.ad_targeting_people_who_match))\n",
    "    \n",
    "# How many rows have both columns as null      \n",
    "cleaning_summary_format['null_all_interests_columns_count'] = ads_df.apply(interests_both_null, axis=1).sum()\n",
    "\n",
    "\n",
    "# How many rows have both columns populated\n",
    "non_null_count = ads_df.apply(interests_both_non_null, axis=1).sum()\n",
    "\n",
    "print('We have a total of ' + str(both_null) + ' rows with both columns null and a total of ' + str(non_null_count) + ' rows which have both values set.')"
   ]
  },
  {
   "cell_type": "markdown",
   "metadata": {},
   "source": [
    "We drop rows that do not contain interests information in both columns. We will merge the other rows by replacing the values of ad_targeting_interests with ad_targeting_people_who_match."
   ]
  },
  {
   "cell_type": "code",
   "execution_count": 45,
   "metadata": {},
   "outputs": [],
   "source": [
    "def merge_interests(row):\n",
    "    return row.ad_targeting_interests if not pd.isnull(row.ad_targeting_interests) else row.ad_targeting_people_who_match\n",
    "\n",
    "# Merge interests\n",
    "ads_df['ad_targeting_interests'] = ads_df.apply(merge_interests, axis=1)\n",
    "\n",
    "# Drop 'ad_targeting_people_who_match'\n",
    "ads_df = ads_df.drop(columns=['ad_targeting_people_who_match'])\n",
    "\n",
    "# Drop null columns\n",
    "ads_df = ads_df[(~pd.isnull(ads_df['ad_targeting_interests']))]"
   ]
  },
  {
   "cell_type": "markdown",
   "metadata": {},
   "source": [
    "### Writing to file"
   ]
  },
  {
   "cell_type": "code",
   "execution_count": 192,
   "metadata": {
    "scrolled": true
   },
   "outputs": [
    {
     "data": {
      "text/html": [
       "<div>\n",
       "<style scoped>\n",
       "    .dataframe tbody tr th:only-of-type {\n",
       "        vertical-align: middle;\n",
       "    }\n",
       "\n",
       "    .dataframe tbody tr th {\n",
       "        vertical-align: top;\n",
       "    }\n",
       "\n",
       "    .dataframe thead th {\n",
       "        text-align: right;\n",
       "    }\n",
       "</style>\n",
       "<table border=\"1\" class=\"dataframe\">\n",
       "  <thead>\n",
       "    <tr style=\"text-align: right;\">\n",
       "      <th></th>\n",
       "      <th>file_name</th>\n",
       "      <th>ad_targeting_interests</th>\n",
       "      <th>ad_impressions</th>\n",
       "      <th>ad_clicks</th>\n",
       "      <th>ad_spend</th>\n",
       "      <th>ad_creation_date</th>\n",
       "      <th>ad_end_date</th>\n",
       "    </tr>\n",
       "  </thead>\n",
       "  <tbody>\n",
       "    <tr>\n",
       "      <th>1</th>\n",
       "      <td>P(1)0002823.txt</td>\n",
       "      <td>Pan-Africanism, African-American Civil Rights...</td>\n",
       "      <td>10496</td>\n",
       "      <td>1823</td>\n",
       "      <td>200.00</td>\n",
       "      <td>2017-04-21</td>\n",
       "      <td>2017-04-22</td>\n",
       "    </tr>\n",
       "    <tr>\n",
       "      <th>2</th>\n",
       "      <td>P(1)0002837.txt</td>\n",
       "      <td>Pan-Africanism, African-American Civil Rights...</td>\n",
       "      <td>16305</td>\n",
       "      <td>1337</td>\n",
       "      <td>499.49</td>\n",
       "      <td>2017-04-13</td>\n",
       "      <td>2017-04-14</td>\n",
       "    </tr>\n",
       "    <tr>\n",
       "      <th>5</th>\n",
       "      <td>P(1)0006304.txt</td>\n",
       "      <td>Martin Luther King, Jr., Stop Racism!!, Afric...</td>\n",
       "      <td>8210</td>\n",
       "      <td>1788</td>\n",
       "      <td>1570.03</td>\n",
       "      <td>2017-05-29</td>\n",
       "      <td>2017-05-29</td>\n",
       "    </tr>\n",
       "  </tbody>\n",
       "</table>\n",
       "</div>"
      ],
      "text/plain": [
       "         file_name                             ad_targeting_interests  \\\n",
       "1  P(1)0002823.txt   Pan-Africanism, African-American Civil Rights...   \n",
       "2  P(1)0002837.txt   Pan-Africanism, African-American Civil Rights...   \n",
       "5  P(1)0006304.txt   Martin Luther King, Jr., Stop Racism!!, Afric...   \n",
       "\n",
       "   ad_impressions  ad_clicks  ad_spend ad_creation_date ad_end_date  \n",
       "1           10496       1823    200.00       2017-04-21  2017-04-22  \n",
       "2           16305       1337    499.49       2017-04-13  2017-04-14  \n",
       "5            8210       1788   1570.03       2017-05-29  2017-05-29  "
      ]
     },
     "execution_count": 192,
     "metadata": {},
     "output_type": "execute_result"
    }
   ],
   "source": [
    "ads_df.head(3)"
   ]
  },
  {
   "cell_type": "code",
   "execution_count": 193,
   "metadata": {},
   "outputs": [],
   "source": [
    "ads_df.to_csv('../clean_data/clean_data.csv', index=None, header=True)"
   ]
  },
  {
   "cell_type": "markdown",
   "metadata": {},
   "source": [
    "## Data cleaning summary\n",
    "\n",
    "We have lost rows for various reasons during the cleaning:\n",
    "\n",
    "| Rows lost | Reason |\n",
    "|------|------|\n",
    "| 20 | Null ad_creation_date column|\n",
    "| 1047 | Missing creation_date|\n",
    "| 10 | Improper input of ad_spend|\n",
    "| 29 | Interests missing from people_who_match |\n",
    "|214 | Interests missing from both people_who_match and interests |\n",
    "\n",
    "Finally, we have decided to keep the following fields:\n",
    "\n",
    "| Field name             | Type     | Description                         |\n",
    "|------------------------|----------|-------------------------------------|\n",
    "| ad_targeting_interests | string   | Interests used to target users      |\n",
    "| ad_impressions         | int      | Number of users who saw the ads     |\n",
    "| ad_clicks              | int      | Number of times the ads was clicked |\n",
    "| ad_spend               | float    | Money spent on the ad in RUB        |\n",
    "| ad_creation_date       | datetime | Creation date of the ad             |\n",
    "| ad_end_date            | datetime | Date at which the ad stopped        |\n",
    "\n",
    "---\n",
    "\n",
    "You can now proceed to the [demographic_labeling](demographic_labeling.ipynb) notebook."
   ]
  }
 ],
 "metadata": {
  "kernelspec": {
   "display_name": "Python 3",
   "language": "python",
   "name": "python3"
  },
  "language_info": {
   "codemirror_mode": {
    "name": "ipython",
    "version": 3
   },
   "file_extension": ".py",
   "mimetype": "text/x-python",
   "name": "python",
   "nbconvert_exporter": "python",
   "pygments_lexer": "ipython3",
   "version": "3.7.5"
  }
 },
 "nbformat": 4,
 "nbformat_minor": 2
}
